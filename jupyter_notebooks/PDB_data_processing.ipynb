{
 "cells": [
  {
   "cell_type": "code",
   "execution_count": 2,
   "id": "0c6c4d49",
   "metadata": {},
   "outputs": [],
   "source": [
    "import pandas as pd\n",
    "import os\n",
    "from matplotlib_venn import venn3\n",
    "import matplotlib.pyplot as plt"
   ]
  },
  {
   "cell_type": "markdown",
   "id": "3a562dcb",
   "metadata": {},
   "source": [
    "# PDB Analysis"
   ]
  },
  {
   "cell_type": "code",
   "execution_count": 3,
   "id": "756e089c",
   "metadata": {},
   "outputs": [],
   "source": [
    "pdb_list=[]\n",
    "for file in os.listdir(\"/Users/georginikov/Documents/solenoid_folder_test/\"):\n",
    "    if 'chunk' in file and file.endswith('.csv'):\n",
    "        df=pd.read_csv(os.path.join(\"/Users/georginikov/Documents/solenoid_folder_test/\",file))\n",
    "        pdb_list.append(df)"
   ]
  },
  {
   "cell_type": "code",
   "execution_count": 4,
   "id": "ad36fc92",
   "metadata": {},
   "outputs": [
    {
     "name": "stdout",
     "output_type": "stream",
     "text": [
      "599443\n"
     ]
    }
   ],
   "source": [
    "full_pdb_list=pd.concat(pdb_list)\n",
    "print(sum([len(i) for i in pdb_list]))"
   ]
  },
  {
   "cell_type": "code",
   "execution_count": 5,
   "id": "1d3fcd9e",
   "metadata": {},
   "outputs": [
    {
     "data": {
      "text/plain": [
       "175084"
      ]
     },
     "execution_count": 5,
     "metadata": {},
     "output_type": "execute_result"
    }
   ],
   "source": [
    "len(full_pdb_list['structure_id'].unique())"
   ]
  },
  {
   "cell_type": "markdown",
   "id": "d4421b10",
   "metadata": {},
   "source": [
    "## Get alpha, alpha-beta and beta-solenoids"
   ]
  },
  {
   "cell_type": "code",
   "execution_count": 6,
   "id": "eddded18",
   "metadata": {},
   "outputs": [],
   "source": [
    "alphas=full_pdb_list[full_pdb_list['alpha_percentage']>50]\n",
    "alphabetas=full_pdb_list[full_pdb_list['alphabeta_percentage']>50]\n",
    "betas=full_pdb_list[full_pdb_list['beta_percentage']>50]"
   ]
  },
  {
   "cell_type": "markdown",
   "id": "0b876905",
   "metadata": {},
   "source": [
    "## Get competitor databases"
   ]
  },
  {
   "cell_type": "markdown",
   "id": "e1637be1",
   "metadata": {},
   "source": [
    "### DbStrips"
   ]
  },
  {
   "cell_type": "code",
   "execution_count": 7,
   "id": "d7c88553",
   "metadata": {},
   "outputs": [],
   "source": [
    "dbstrips_bframe=pd.read_csv('/Users/georginikov/Downloads/b_solenoid_fix.csv')\n",
    "dbstrips_bframe2=dbstrips_bframe.drop_duplicates('PDB')\n",
    "dbstrips_bframe2[dbstrips_bframe2['Repeat type']!='PRC_EE_3LayerSandwich_16']\n",
    "dbstrips_abframe=pd.read_csv('/Users/georginikov/Downloads/ab_solenoid_fix.csv', delimiter=',')\n",
    "dbstrips_abframe2=dbstrips_abframe.drop_duplicates('PDB')\n",
    "dbstrips_aframe=pd.read_csv('/Users/georginikov/Downloads/a_solenoid_fix.csv')\n",
    "dbstrips_aframe2=dbstrips_aframe.drop_duplicates('PDB')\n",
    "dbstrips_frame=pd.concat([dbstrips_bframe,dbstrips_abframe,dbstrips_aframe])\n",
    "dbstrips_frame['whole_id']=[i.lower() for i in dbstrips_frame['PDB'].tolist()]+dbstrips_frame['Chain']\n",
    "dbstrips_dedup=dbstrips_frame.drop_duplicates('PDB')\n",
    "dbstrips_list=dbstrips_frame['PDB'].unique().tolist()\n",
    "dbstrips_list=[i.lower() for i in dbstrips_list]\n",
    "dbstrips_chains=dbstrips_frame['whole_id'].unique().tolist()"
   ]
  },
  {
   "cell_type": "markdown",
   "id": "c967dae2",
   "metadata": {},
   "source": [
    "### RepeatsDB"
   ]
  },
  {
   "cell_type": "code",
   "execution_count": 8,
   "id": "8e419c16",
   "metadata": {},
   "outputs": [],
   "source": [
    "import numpy as np"
   ]
  },
  {
   "cell_type": "code",
   "execution_count": 9,
   "id": "ca99f885",
   "metadata": {
    "jupyter": {
     "source_hidden": true
    }
   },
   "outputs": [],
   "source": [
    "rdb_frame=pd.read_csv('/Users/georginikov/Downloads/RepeatsDB-table(3).tsv', sep='\\t')\n",
    "rdb_frame['pdb_id']=[i[0:4] for i in rdb_frame['RepeatsDB ID'].tolist()]\n",
    "rdb_beta_sol_frame=rdb_frame[rdb_frame['Classification'].str.lower().str.startswith(\"3.1\")]\n",
    "rdb_alphabeta_sol_frame=rdb_frame[rdb_frame['Classification'].str.lower().str.startswith(\"3.2\")]\n",
    "rdb_alpha_sol_frame=rdb_frame[rdb_frame['Classification'].str.lower().str.startswith(\"3.3\")]\n",
    "rdb_sol_frame=pd.concat([rdb_beta_sol_frame,rdb_alphabeta_sol_frame,rdb_alpha_sol_frame])\n",
    "rdb_chains=rdb_sol_frame['RepeatsDB ID'].unique()\n",
    "unique_rdb_ids=rdb_frame['RepeatsDB ID'].unique()\n",
    "unique_rdb_ids=np.unique([i[0:4] for i in rdb_chains])\n",
    "rdb_pdb_ids=rdb_sol_frame['pdb_id'].unique().tolist()"
   ]
  },
  {
   "cell_type": "markdown",
   "id": "4c7ee78a",
   "metadata": {},
   "source": [
    "### Training/Validation etc dataset"
   ]
  },
  {
   "cell_type": "code",
   "execution_count": 12,
   "id": "1089f3de",
   "metadata": {},
   "outputs": [],
   "source": [
    "train_df=pd.read_csv('/Volumes/Untitled/PhD/ML_project/semantic_segmentation_model/train_val_data/train_dataset_table.csv')\n",
    "train_uniques=train_df['pdb_id'].unique()\n",
    "val_df=pd.read_csv('/Volumes/Untitled/PhD/ML_project/semantic_segmentation_model/train_val_data/val_dataset_table.csv')\n",
    "val_uniques=val_df['pdb_id'].unique()"
   ]
  },
  {
   "cell_type": "code",
   "execution_count": 13,
   "id": "3ca9494e",
   "metadata": {},
   "outputs": [],
   "source": [
    "test_ids=['1ezgA',\n",
    " '1sstB',\n",
    " '2b0rA',\n",
    " '2zu0A',\n",
    " '3vstC',\n",
    " '6e0vB',\n",
    " '4ru5A',\n",
    " '5mqpA',\n",
    " '6c72C',\n",
    " '4tz1A',\n",
    " '3lycF',\n",
    " '2qzaA',\n",
    " '5n8pA',\n",
    " '5js4B',\n",
    " '2n3dA',\n",
    " '1elkA',\n",
    " '1hs6A',\n",
    " '1qgkA',\n",
    " '2db0A',\n",
    " '2ypfA',\n",
    " '2hyeC',\n",
    " '2uy1A',\n",
    " '2r17D',\n",
    " '1yvpB',\n",
    " '1z3hA',\n",
    " '2z5jA',\n",
    " '4bv4R',\n",
    " '3w3gA',\n",
    " '4j0mA',\n",
    " '4ay9X',\n",
    " '4fs7A',\n",
    " '4i6jB']"
   ]
  },
  {
   "cell_type": "code",
   "execution_count": 14,
   "id": "9144b914",
   "metadata": {},
   "outputs": [],
   "source": [
    "test_uniques=[i[0:4] for i in test_ids]"
   ]
  },
  {
   "cell_type": "code",
   "execution_count": 15,
   "id": "c2098f21",
   "metadata": {},
   "outputs": [
    {
     "data": {
      "text/plain": [
       "['1ezg',\n",
       " '1sst',\n",
       " '2b0r',\n",
       " '2zu0',\n",
       " '3vst',\n",
       " '6e0v',\n",
       " '4ru5',\n",
       " '5mqp',\n",
       " '6c72',\n",
       " '4tz1',\n",
       " '3lyc',\n",
       " '2qza',\n",
       " '5n8p',\n",
       " '5js4',\n",
       " '2n3d',\n",
       " '1elk',\n",
       " '1hs6',\n",
       " '1qgk',\n",
       " '2db0',\n",
       " '2ypf',\n",
       " '2hye',\n",
       " '2uy1',\n",
       " '2r17',\n",
       " '1yvp',\n",
       " '1z3h',\n",
       " '2z5j',\n",
       " '4bv4',\n",
       " '3w3g',\n",
       " '4j0m',\n",
       " '4ay9',\n",
       " '4fs7',\n",
       " '4i6j']"
      ]
     },
     "execution_count": 15,
     "metadata": {},
     "output_type": "execute_result"
    }
   ],
   "source": [
    "test_uniques"
   ]
  },
  {
   "cell_type": "code",
   "execution_count": 16,
   "id": "e9f120e3",
   "metadata": {},
   "outputs": [
    {
     "data": {
      "text/plain": [
       "['1ezg',\n",
       " '1sst',\n",
       " '2b0r',\n",
       " '2zu0',\n",
       " '3vst',\n",
       " '6e0v',\n",
       " '4ru5',\n",
       " '5mqp',\n",
       " '6c72',\n",
       " '4tz1',\n",
       " '3lyc',\n",
       " '2qza',\n",
       " '5n8p',\n",
       " '5js4',\n",
       " '2n3d',\n",
       " '1elk',\n",
       " '1hs6',\n",
       " '1qgk',\n",
       " '2db0',\n",
       " '2ypf',\n",
       " '2hye',\n",
       " '2uy1',\n",
       " '2r17',\n",
       " '1yvp',\n",
       " '1z3h',\n",
       " '2z5j',\n",
       " '4bv4',\n",
       " '3w3g',\n",
       " '4j0m',\n",
       " '4ay9',\n",
       " '4fs7',\n",
       " '4i6j']"
      ]
     },
     "execution_count": 16,
     "metadata": {},
     "output_type": "execute_result"
    }
   ],
   "source": [
    "test_uniques"
   ]
  },
  {
   "cell_type": "markdown",
   "id": "b83f01ce",
   "metadata": {},
   "source": [
    "## Remove from PDB list"
   ]
  },
  {
   "cell_type": "code",
   "execution_count": 39,
   "id": "d5600b2a-5f09-4b1f-a245-bc67aba551a1",
   "metadata": {},
   "outputs": [],
   "source": [
    "def get_new(betas):\n",
    "    listss=[]\n",
    "    for index, i in betas.iterrows():\n",
    "        if i['structure_id'] not in train_uniques:\n",
    "            if i['structure_id'] not in val_uniques:\n",
    "\n",
    "                            listss.append(i)\n",
    "    betas_df_again=pd.DataFrame(listss)\n",
    "    return betas_df_again"
   ]
  },
  {
   "cell_type": "code",
   "execution_count": 24,
   "id": "93c6775a",
   "metadata": {},
   "outputs": [],
   "source": [
    "def get_new2(betas):\n",
    "    listss=[]\n",
    "    for index, i in betas.iterrows():\n",
    "        if i['structure_id'] not in dbstrips_list:\n",
    "            if i['structure_id'] not in rdb_pdb_ids:\n",
    "                if i['structure_id'] not in train_uniques:\n",
    "                    if i['structure_id'] not in val_uniques:\n",
    "                        if i['structure_id'] not in test_uniques:\n",
    "\n",
    "                            listss.append(i)\n",
    "    betas_df_again=pd.DataFrame(listss)\n",
    "    return betas_df_again"
   ]
  },
  {
   "cell_type": "markdown",
   "id": "840cbd4d-4987-4972-ad71-24569095ed99",
   "metadata": {},
   "source": [
    "### Get full set of SOLeNNoID solenoid predictions"
   ]
  },
  {
   "cell_type": "code",
   "execution_count": 40,
   "id": "bf50c548-4419-4921-8b3e-8a56a19fb87b",
   "metadata": {},
   "outputs": [],
   "source": [
    "full_solennoid=pd.concat([get_new(betas),get_new(alphas),get_new(alphabetas)]).drop_duplicates()"
   ]
  },
  {
   "cell_type": "code",
   "execution_count": null,
   "id": "78324b68-bf1d-41d6-9fb4-eb544bc6c2cb",
   "metadata": {},
   "outputs": [],
   "source": [
    "remove_bad_alphas_full=full_solennoid[full_solennoid['structure_id'].isin(['3j3q','3j3y','6x63','6qvk','6qz0','6qyd'])==False]"
   ]
  },
  {
   "cell_type": "code",
   "execution_count": null,
   "id": "9bec62f1-286e-42e6-b14a-a65f5792e0f6",
   "metadata": {},
   "outputs": [],
   "source": [
    "remove_bad_alphas_full['whole_id']=remove_bad_alphas_full['structure_id']+remove_bad_alphas_full['chain_id']"
   ]
  },
  {
   "cell_type": "markdown",
   "id": "4248bcdf-3bad-41e7-a226-8d6bfcfcadfb",
   "metadata": {},
   "source": [
    "#### Get set of SOLeNNoID solenoid predictions not in other databases"
   ]
  },
  {
   "cell_type": "code",
   "execution_count": 25,
   "id": "11ff8b66",
   "metadata": {},
   "outputs": [],
   "source": [
    "uniq_betas=get_new2(betas)\n",
    "uniq_alphas=get_new2(alphas)\n",
    "uniq_alphabetas=get_new2(alphabetas)\n",
    "uniq_full=pd.concat([uniq_betas,uniq_alphabetas,uniq_alphas])"
   ]
  },
  {
   "cell_type": "code",
   "execution_count": 28,
   "id": "a620f7cc",
   "metadata": {},
   "outputs": [],
   "source": [
    "remove_bad_alphas=uniq_full[uniq_full['structure_id'].isin(['3j3q','3j3y','6x63','6qvk','6qz0','6qyd'])==False]"
   ]
  },
  {
   "cell_type": "markdown",
   "id": "b8cbeac7",
   "metadata": {},
   "source": [
    "# End of definitive analysis section"
   ]
  },
  {
   "cell_type": "code",
   "execution_count": 41,
   "id": "2a82c418",
   "metadata": {},
   "outputs": [],
   "source": [
    "from matplotlib_venn import venn3\n",
    "import matplotlib.pyplot as plt"
   ]
  },
  {
   "cell_type": "code",
   "execution_count": 45,
   "id": "f5589aa7-f7a5-456f-a9d8-286402c9dfd7",
   "metadata": {},
   "outputs": [
    {
     "data": {
      "image/png": "[encoded data removed]",
      "text/plain": [
       "<Figure size 700x350 with 1 Axes>"
      ]
     },
     "metadata": {},
     "output_type": "display_data"
    }
   ],
   "source": [
    "plt.rcParams[\"figure.figsize\"] = [7.00, 3.50]\n",
    "plt.rcParams[\"figure.autolayout\"] = True\n",
    "set1 = set(rdb_pdb_ids)\n",
    "set2 = set(dbstrips_list)\n",
    "set3 = set(remove_bad_alphas_full['structure_id'].unique().tolist())\n",
    "venn3([set1, set2, set3], ('RepeatsDB', 'DbStRiPs', 'SOLeNNoID'))\n",
    "plt.title('Structural overlap (PDB ID level)')\n",
    "#plt.savefig('/Users/georginikov/Documents/Paper/db_struct_overlap_nocombos_pdbids.png',dpi=300)\n",
    "plt.show()"
   ]
  },
  {
   "cell_type": "code",
   "execution_count": 48,
   "id": "9dc22680-3322-465b-b53b-51f4e276eb4b",
   "metadata": {},
   "outputs": [
    {
     "data": {
      "image/png": "[encoded data removed]",
      "text/plain": [
       "<Figure size 700x350 with 1 Axes>"
      ]
     },
     "metadata": {},
     "output_type": "display_data"
    }
   ],
   "source": [
    "plt.rcParams[\"figure.figsize\"] = [7.00, 3.50]\n",
    "plt.rcParams[\"figure.autolayout\"] = True\n",
    "set1 = set(rdb_chains)\n",
    "set2 = set(dbstrips_chains)\n",
    "set3 = set(remove_bad_alphas_full['whole_id'].unique().tolist())\n",
    "venn3([set1, set2, set3], ('RepeatsDB', 'DbStRiPs', 'SOLeNNoID'))\n",
    "plt.title('Structural overlap (Chain level)')\n",
    "#plt.savefig('/Users/georginikov/Documents/Paper/db_struct_overlap_nocombos_chains.png',dpi=300)\n",
    "plt.show()"
   ]
  }
 ],
 "metadata": {
  "kernelspec": {
   "display_name": "Python 3 (ipykernel)",
   "language": "python",
   "name": "python3"
  },
  "language_info": {
   "codemirror_mode": {
    "name": "ipython",
    "version": 3
   },
   "file_extension": ".py",
   "mimetype": "text/x-python",
   "name": "python",
   "nbconvert_exporter": "python",
   "pygments_lexer": "ipython3",
   "version": "3.8.12"
  }
 },
 "nbformat": 4,
 "nbformat_minor": 5
}
