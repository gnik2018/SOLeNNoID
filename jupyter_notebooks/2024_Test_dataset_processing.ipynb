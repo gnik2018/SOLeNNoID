{
 "cells": [
  {
   "cell_type": "markdown",
   "metadata": {},
   "source": [
    "# Testing script\n",
    "\n",
    "This script:  \n",
    "1. Takes an input list of PDB ID + chain ID\n",
    "2. Processes each structure specified by point **1** to a distance matrix\n",
    "3. Loads and uses a given model to make predictions based on the distance matrix from point **2**\n",
    "4. Adds together the predictions from point **3** and compares them to ground truth labels\n",
    "5. Outputs measures of model performance: Precision, Recall, F1-Score, and MCC for SOLeNNoID and comparison models\n",
    "---"
   ]
  },
  {
   "cell_type": "markdown",
   "metadata": {},
   "source": [
    "## Imports"
   ]
  },
  {
   "cell_type": "code",
   "execution_count": 12,
   "metadata": {},
   "outputs": [],
   "source": [
    "import math\n",
    "import matplotlib.pyplot as plt\n",
    "import numpy as np\n",
    "from tensorflow.keras.models import load_model, Model\n",
    "from tensorflow.keras.layers import Average\n",
    "from tensorflow.keras import backend as K\n",
    "import tensorflow as tf\n",
    "from Bio.PDB import *\n",
    "from math import ceil\n",
    "#from tensorflow.python.compiler.mlcompute import mlcompute\n",
    "#import tensorflow_addons as tfa\n",
    "#couple of lines to force gpu usage\n",
    "#tf.compat.v1.disable_eager_execution()\n",
    "#mlcompute.set_mlc_device(device_name=\"gpu\")\n",
    "\n",
    "\n",
    "from sklearn.metrics import classification_report\n",
    "from sklearn.metrics import roc_auc_score\n",
    "from tensorflow.keras.utils import to_categorical\n",
    "from sklearn.metrics import accuracy_score\n",
    "from typing import Callable, Union\n",
    "import os\n",
    "import pandas as pd\n",
    "from sklearn.metrics import matthews_corrcoef\n",
    "from IPython.display import clear_output"
   ]
  },
  {
   "cell_type": "code",
   "execution_count": 2,
   "metadata": {},
   "outputs": [],
   "source": [
    "main_folder=\"/Volumes/Untitled/2021_07_24_work_pc_backup/machine_learning_project/machine_learning_env/\""
   ]
  },
  {
   "cell_type": "markdown",
   "metadata": {},
   "source": [
    "## Load dataset\n",
    "\n",
    "This code block loads solenoid IDs, ground truth labels and predictions by RepeatsDB-Lite, TAPO and PRIGSA2."
   ]
  },
  {
   "cell_type": "code",
   "execution_count": 3,
   "metadata": {},
   "outputs": [],
   "source": [
    "ids=[]\n",
    "testset_gt=[]\n",
    "rdb_lite_preds=[]\n",
    "tapo_preds=[]\n",
    "prigsa2_preds=[]\n",
    "\n",
    "for content in os.listdir(\"./\"):\n",
    "    if os.path.isdir(content):\n",
    "        if content != \".ipynb_checkpoints\" and content !='ROSETTA':\n",
    "            local_ids=np.loadtxt(f'{content}/{content}_testset_ids.csv',dtype='str').tolist()\n",
    "            ids+=local_ids\n",
    "\n",
    "            local_ground_truth=pd.read_csv(f'{content}/{content}_testset_ground_truth_per_id.csv')\n",
    "            local_rdb_lite_preds=pd.read_csv(f'{content}/{content}_testset_rdb_lite_preds_per_id.csv')\n",
    "            local_tapo_preds=pd.read_csv(f'{content}/{content}_testset_tapo_preds_per_id.csv')\n",
    "            local_prigsa2_preds=pd.read_csv(f'{content}/{content}_testset_prigsa2_preds_per_id.csv')\n",
    "\n",
    "            for local_id in local_ids:\n",
    "                testset_gt+=local_ground_truth[local_id].dropna().tolist()\n",
    "                rdb_lite_preds+=local_rdb_lite_preds[local_id].dropna().tolist()\n",
    "                tapo_preds+=local_tapo_preds[local_id].dropna().tolist()\n",
    "                prigsa2_preds+=local_prigsa2_preds[local_id].dropna().tolist()\n"
   ]
  },
  {
   "cell_type": "code",
   "execution_count": 4,
   "metadata": {},
   "outputs": [],
   "source": [
    "nonsol_list=np.loadtxt(\"nonsol_testset_ids_2021_04_12.csv\",dtype='str',delimiter=',')\n"
   ]
  },
  {
   "cell_type": "code",
   "execution_count": 5,
   "metadata": {},
   "outputs": [],
   "source": [
    "nonsol_ids=[i[0].lower()+i[1] for i in nonsol_list]"
   ]
  },
  {
   "cell_type": "code",
   "execution_count": 6,
   "metadata": {},
   "outputs": [],
   "source": [
    "full_ids=ids+nonsol_ids"
   ]
  },
  {
   "cell_type": "markdown",
   "metadata": {},
   "source": [
    "## Functions"
   ]
  },
  {
   "cell_type": "code",
   "execution_count": 20,
   "metadata": {},
   "outputs": [],
   "source": [
    "class Matrix:\n",
    "    \n",
    "    def __init__(self, coords, indices):\n",
    "        self.coords=coords\n",
    "        self.indices=indices-indices[0]\n",
    "        \n",
    "    #Generates a distance matrix\n",
    "    # It takes three arguments: \n",
    "    #l - list of indices, \n",
    "    #m - list of atom coordinates, \n",
    "    #n - max x-dimension value of the matrix\n",
    "    #It creates an array of zeros of appropriate dimensions and subsequently populates it with distance values.\n",
    "\n",
    "\n",
    "        \n",
    "    def make_matrix(self):\n",
    "\n",
    "        matrix = np.zeros((self.indices[-1]+1, self.indices[-1]+1), np.float64)\n",
    "        for  x in range(0,len(self.coords)):\n",
    "            for y in range(0, len(self.coords)):\n",
    "                matrix[self.indices[x], self.indices[y]] = np.linalg.norm(self.coords[x]-self.coords[y])\n",
    "        #matrix=np.reshape(matrix, (len(matrix),maxdim,1))\n",
    "        #matrix=matrix.astype('float32')\n",
    "\n",
    "        #plt.matshow(matrix)\n",
    "        return matrix"
   ]
  },
  {
   "cell_type": "markdown",
   "metadata": {},
   "source": [
    "# 2D Conv section"
   ]
  },
  {
   "cell_type": "markdown",
   "metadata": {},
   "source": [
    "### Diagonal with 128 to 64"
   ]
  },
  {
   "cell_type": "code",
   "execution_count": 24,
   "metadata": {},
   "outputs": [],
   "source": [
    "class Protein:\n",
    "    \n",
    "    def __init__(self, path, chain):\n",
    "        self.path = path\n",
    "        self.chain = chain\n",
    "\n",
    "    #global - structure and pdb id\n",
    "    def set_structure(self):\n",
    "        parser = MMCIFParser()\n",
    "        structure=parser.get_structure(\"sds\",self.path)\n",
    "        self.structure=structure\n",
    "        #self.pdb_id=self.structure.name\n",
    "\n",
    "    #more local - chains, chain_ids and first residues\n",
    "    def set_chains(self):\n",
    "        self.chain_ids=[x.get_id() for x in self.structure[0]]\n",
    "        self.first_res=self.structure[0][self.chain].get_unpacked_list()[0].get_id()[1]\n",
    "        print(self.first_res)\n",
    "             \n",
    "    def __str__(self):\n",
    "        \n",
    "        return (\"Protein_ID \" + str(self.pdb_id) + \" with chains \" + str(self.chain_ids))\n",
    "    \n",
    "    #obtain arrays of atom coordinates and indices based on specified atom type\n",
    "    def set_atom_lists(self,atom):\n",
    "        \n",
    "        self.coords=np.asarray([residue[str(atom)].get_coord() \n",
    "                                            for residue in self.structure[0][self.chain] if len(residue)>=4 and str(atom) in residue])\n",
    "   \n",
    "        self.indices=np.asarray([residue.get_id()[1] for residue in self.structure[0][self.chain] if len(residue)>=4 and str(atom) in residue])\n",
    "\n",
    "    def set_matrices(self):\n",
    "        \n",
    "        distance_matrix1=Matrix(self.coords, self.indices)\n",
    "        self.atom_matrices=distance_matrix1.make_matrix()\n",
    "    def output_matrices(self, path2):\n",
    "        \n",
    "        [np.savetxt(str(path2) + \"/dmca_matrix_\" + str(self.pdb_id) + \"_\" + str(self.chain_ids[i]) + \"_clean_gemmi.csv\", self.atom_matrices.get_matrix()[i], delimiter=',') for i in range(len(self.chain_ids))]\n",
    "\n",
    "    def set_up(self):\n",
    "        self.set_structure()\n",
    "        self.set_chains()\n",
    "        self.set_atom_lists('CA')\n",
    "        self.set_matrices()\n",
    "\n",
    "    def return_matrix_and_first_res(self):\n",
    "        first_res_chain=self.first_res\n",
    "        distance_matrix_chain=self.atom_matrices\n",
    "\n",
    "        return first_res_chain, distance_matrix_chain, self.chain_ids\n",
    "\n",
    "class Prediction:\n",
    "    \n",
    "    def __init__(self, first_res_chain, distance_matrix_chain,loaded_model,sub_matrix_size, threshold):\n",
    "        self.first_res_chain = first_res_chain\n",
    "        self.distance_matrix_chain=distance_matrix_chain\n",
    "        self.loaded_model=loaded_model\n",
    "        self.sub_matrix_size=sub_matrix_size\n",
    "        self.threshold=threshold\n",
    "        self.alpha_predictions=[]\n",
    "        self.alphabeta_predictions=[]\n",
    "        self.beta_predictions=[]\n",
    "\n",
    "    def process_matrix_for_prediction(self):\n",
    "        \n",
    "        def split(array, nrows, ncols):\n",
    "\n",
    "            r, h = array.shape\n",
    "            return(array.reshape(h//nrows, nrows, -1, ncols).swapaxes(1, 2).reshape(-1, nrows, ncols, 1))\n",
    "        def diagonal_split(matrix,sub_matrix_size):\n",
    "            half_sub_matrix=int(sub_matrix_size/2)\n",
    "            slices=[]\n",
    "            for i in range(0,len(matrix)-half_sub_matrix,half_sub_matrix):\n",
    "                slices.append(matrix[i:i+sub_matrix_size,i:i+sub_matrix_size])\n",
    "            return np.asarray(slices)\n",
    "        # obtain value to pad with\n",
    "        dm_div = len(self.distance_matrix_chain)/self.sub_matrix_size\n",
    "        pad_value = int(((ceil(dm_div) - dm_div)*self.sub_matrix_size))\n",
    "        half_pad=int(pad_value/2)\n",
    "        lpad=half_pad+int(self.sub_matrix_size/4)\n",
    "        rpad=pad_value-half_pad+int(self.sub_matrix_size/4)\n",
    "        print(\"LPAD\",lpad)\n",
    "        # pad distance matrix\n",
    "        distance_matrix_padded = np.pad(self.distance_matrix_chain, ((lpad, rpad), (lpad, rpad)), 'constant', constant_values=(0, 0))\n",
    "        distance_matrix_padded=distance_matrix_padded/np.max(distance_matrix_padded)\n",
    "        #plt.matshow(distance_matrix_padded)\n",
    "        print(distance_matrix_padded.shape)\n",
    "        # split up distance matrix into 32x32 squares\n",
    "        distance_matrix_reshaped = diagonal_split(distance_matrix_padded, self.sub_matrix_size)\n",
    "        distance_matrix_reshaped=np.expand_dims(distance_matrix_reshaped,axis=-1)\n",
    "        print(distance_matrix_reshaped.shape)\n",
    "        self.distance_matrix_reshaped=distance_matrix_reshaped\n",
    "        self.pad_value=lpad\n",
    "\n",
    "    def make_prediction(self):\n",
    "        total_predictions=np.array([])\n",
    "        self.process_matrix_for_prediction()\n",
    "        \n",
    "        predictions=self.loaded_model.predict(self.distance_matrix_reshaped)\n",
    "        #predictions=predictions>self.threshold\n",
    "\n",
    "        predictions_argmaxed=np.argmax(predictions, axis=3)\n",
    "        print(predictions_argmaxed.shape)\n",
    "        #square_side=int((len(predictions_argmaxed)/(self.sub_matrix_size**2)))\n",
    "        #print(square_side)\n",
    "        #predictions_argmaxed=np.reshape(predictions_argmaxed, (square_side,self.sub_matrix_size,self.sub_matrix_size))\n",
    "        prediction_matrix=np.zeros((predictions_argmaxed.shape[0]*64,predictions_argmaxed.shape[0]*64))\n",
    "        print(prediction_matrix.shape)\n",
    "        for i in range(predictions_argmaxed.shape[0]):\n",
    "            prediction_matrix[i*64:i*64+64,i*64:i*64+64]=predictions_argmaxed[i]\n",
    "        #preds_concat1=np.concatenate(predictions_argmaxed, axis=1)\n",
    "        #preds_concat2=np.concatenate(preds_concat1, axis=1)\n",
    "        #plt.matshow(prediction_matrix)\n",
    "        self.prediction_matrix=prediction_matrix\n",
    "        for i in range(self.pad_value-int(self.sub_matrix_size/4),len(self.prediction_matrix)):\n",
    "            '''\n",
    "            if np.sum(self.prediction_matrix[:,i])!=0 and np.sum(self.prediction_matrix[i,:])!=0:\n",
    "                xavg=np.mean(self.prediction_matrix[:,i][np.nonzero(self.prediction_matrix[:,i])])\n",
    "                yavg=np.mean(self.prediction_matrix[i,:][np.nonzero(self.prediction_matrix[i,:])])\n",
    "                total_avg=int((xavg+yavg)/2)\n",
    "                print(\"total avg\",total_avg)\n",
    "                '''\n",
    "            for j in range(self.pad_value-int(self.sub_matrix_size/4),len(self.prediction_matrix)):\n",
    "                if i==j and i<=maxlength+self.pad_value-int(self.sub_matrix_size/4) and j<=maxlength+self.pad_value-int(self.sub_matrix_size/4):\n",
    "                #if i<=maxlength and j<=maxlength:\n",
    "\n",
    "                    total_predictions=np.append(total_predictions,self.prediction_matrix[i,j])\n",
    "           \n",
    "                #total_predictions=np.append(total_predictions,total_avg)\n",
    "        total_predictions[total_predictions==5]=0\n",
    "        total_predictions[total_predictions==4]=0\n",
    "        return total_predictions\n",
    "        \n",
    "\n",
    "    def get_solenoid_predictions(self):\n",
    "\n",
    "        total_preds=self.make_prediction()\n",
    "        solenoid_list=[]\n",
    "        beta_list=[]\n",
    "        alphabeta_list=[]\n",
    "        alpha_list=[]\n",
    "        propeller_list=[]\n",
    "        \n",
    "        \n",
    "        for i in range(len(total_preds)):\n",
    "\n",
    "            if total_preds[i]==1:\n",
    "                beta_list.append(i+self.first_res_chain)\n",
    "            elif total_preds[i]==2:\n",
    "                alphabeta_list.append(i+self.first_res_chain)\n",
    "            elif total_preds[i]==3:\n",
    "                alpha_list.append(i+self.first_res_chain)\n",
    "            elif total_preds[i]==4:\n",
    "                propeller_list.append(i+self.first_res_chain)\n",
    "        \n",
    "        '''\n",
    " \n",
    "        for i in range(len(self.prediction_matrix)):\n",
    "            for j in range(len(self.prediction_matrix)):\n",
    "                if i==j:\n",
    "                    if self.prediction_matrix[i,j]==1:\n",
    "                        beta_list.append(i+self.first_res_chain)\n",
    "                    elif self.prediction_matrix[i,j]==2:\n",
    "                        alphabeta_list.append(i+self.first_res_chain)\n",
    "                    elif self.prediction_matrix[i,j]==3:\n",
    "                        alpha_list.append(i+self.first_res_chain)\n",
    "                    elif self.prediction_matrix[i,j]==4:\n",
    "                        propeller_list.append(i+self.first_res_chain)\n",
    "        '''\n",
    "        return np.unique(beta_list), np.unique(alphabeta_list), np.unique(alpha_list), np.unique(propeller_list)"
   ]
  },
  {
   "cell_type": "markdown",
   "metadata": {},
   "source": [
    "## Load Model"
   ]
  },
  {
   "cell_type": "code",
   "execution_count": 25,
   "metadata": {},
   "outputs": [],
   "source": [
    "loaded_model=load_model('/Users/georginikov/SOLeNNoID/trained_models/Conv2D_dmca_multiclass_norm_filesplit_s128_b64_e100_split0.2_1645094358_diagonal_checkpoint.h5')"
   ]
  },
  {
   "cell_type": "markdown",
   "metadata": {},
   "source": [
    "## Go through dataset and save predictions"
   ]
  },
  {
   "cell_type": "markdown",
   "metadata": {},
   "source": [
    "### Solenoids only"
   ]
  },
  {
   "cell_type": "code",
   "execution_count": 26,
   "metadata": {
    "scrolled": true
   },
   "outputs": [],
   "source": [
    "#empty array that will hold predictions\n",
    "\n",
    "testset_predictions_categorical=np.array([])\n",
    "testset_predictions_argmaxed=np.array([])\n",
    "pred_list=[]\n",
    " \n",
    "for i in ids:\n",
    "    #assign structure and chain\n",
    "    structure_id=i[0:4]\n",
    "    chain_id=i[-1]\n",
    "    structure_path=main_folder + structure_id + \".cif\"\n",
    "    print(structure_id)\n",
    "    #get predictions and residue start\n",
    "    protein1=Protein(structure_path,chain=chain_id)\n",
    "    protein1.set_up()\n",
    "    first_residue,distance_matrix,chain_list=protein1.return_matrix_and_first_res()\n",
    "    maxlength=protein1.indices[-1]-first_residue\n",
    "    print(maxlength)\n",
    "    prediction1=Prediction(first_res_chain=first_residue, distance_matrix_chain=distance_matrix,loaded_model=loaded_model,sub_matrix_size=128, threshold=0.90)\n",
    "    argmaxed=prediction1.make_prediction()\n",
    "    print(\"ARGMAXED\",np.max(argmaxed))\n",
    "    #testset_predictions_categorical=np.append(testset_predictions_categorical, categorical)\n",
    "    testset_predictions_argmaxed=np.append(testset_predictions_argmaxed, argmaxed)\n",
    "    pred_list.append(argmaxed)\n",
    "#reshape raw predictions \n",
    "#raw_categorical_predictions=testset_predictions_categorical.reshape((int(len(testset_predictions_categorical)/4)),4)"
   ]
  },
  {
   "cell_type": "markdown",
   "metadata": {},
   "source": [
    "### Full dataset"
   ]
  },
  {
   "cell_type": "code",
   "execution_count": 27,
   "metadata": {},
   "outputs": [
    {
     "name": "stdout",
     "output_type": "stream",
     "text": [
      "1ezg\n",
      "2\n",
      "81\n",
      "LPAD 55\n",
      "(192, 192)\n",
      "(2, 128, 128, 1)\n",
      "1/1 [==============================] - 0s 35ms/step\n",
      "(2, 64, 64)\n",
      "(128, 128)\n",
      "ARGMAXED 2.0\n",
      "1sst\n",
      "1\n",
      "239\n",
      "LPAD 40\n",
      "(320, 320)\n",
      "(4, 128, 128, 1)\n",
      "1/1 [==============================] - 0s 40ms/step\n"
     ]
    },
    {
     "name": "stderr",
     "output_type": "stream",
     "text": [
      "/opt/homebrew/Caskroom/miniforge/base/envs/solennoid_v3/lib/python3.8/site-packages/Bio/PDB/StructureBuilder.py:89: PDBConstructionWarning: WARNING: Chain A is discontinuous at line 5390.\n",
      "  warnings.warn(\n",
      "/opt/homebrew/Caskroom/miniforge/base/envs/solennoid_v3/lib/python3.8/site-packages/Bio/PDB/StructureBuilder.py:89: PDBConstructionWarning: WARNING: Chain B is discontinuous at line 5438.\n",
      "  warnings.warn(\n",
      "/opt/homebrew/Caskroom/miniforge/base/envs/solennoid_v3/lib/python3.8/site-packages/Bio/PDB/StructureBuilder.py:89: PDBConstructionWarning: WARNING: Chain C is discontinuous at line 5486.\n",
      "  warnings.warn(\n",
      "/opt/homebrew/Caskroom/miniforge/base/envs/solennoid_v3/lib/python3.8/site-packages/Bio/PDB/StructureBuilder.py:89: PDBConstructionWarning: WARNING: Chain A is discontinuous at line 5534.\n",
      "  warnings.warn(\n",
      "/opt/homebrew/Caskroom/miniforge/base/envs/solennoid_v3/lib/python3.8/site-packages/Bio/PDB/StructureBuilder.py:89: PDBConstructionWarning: WARNING: Chain B is discontinuous at line 5592.\n",
      "  warnings.warn(\n",
      "/opt/homebrew/Caskroom/miniforge/base/envs/solennoid_v3/lib/python3.8/site-packages/Bio/PDB/StructureBuilder.py:89: PDBConstructionWarning: WARNING: Chain C is discontinuous at line 5646.\n",
      "  warnings.warn(\n"
     ]
    },
    {
     "name": "stdout",
     "output_type": "stream",
     "text": [
      "(4, 64, 64)\n",
      "(256, 256)\n",
      "ARGMAXED 1.0\n",
      "2b0r\n",
      "35\n",
      "163\n",
      "LPAD 78\n",
      "(320, 320)\n",
      "(4, 128, 128, 1)\n",
      "1/1 [==============================] - 0s 40ms/step\n",
      "(4, 64, 64)\n",
      "(256, 256)\n",
      "ARGMAXED 1.0\n",
      "2zu0\n"
     ]
    },
    {
     "name": "stderr",
     "output_type": "stream",
     "text": [
      "/opt/homebrew/Caskroom/miniforge/base/envs/solennoid_v3/lib/python3.8/site-packages/Bio/PDB/StructureBuilder.py:89: PDBConstructionWarning: WARNING: Chain A is discontinuous at line 2432.\n",
      "  warnings.warn(\n",
      "/opt/homebrew/Caskroom/miniforge/base/envs/solennoid_v3/lib/python3.8/site-packages/Bio/PDB/Atom.py:232: PDBConstructionWarning: Could not assign element 'UNK' for Atom (name=UNK) with given element 'X'\n",
      "  warnings.warn(msg, PDBConstructionWarning)\n"
     ]
    },
    {
     "name": "stdout",
     "output_type": "stream",
     "text": [
      "8\n"
     ]
    },
    {
     "name": "stderr",
     "output_type": "stream",
     "text": [
      "/opt/homebrew/Caskroom/miniforge/base/envs/solennoid_v3/lib/python3.8/site-packages/Bio/PDB/StructureBuilder.py:89: PDBConstructionWarning: WARNING: Chain C is discontinuous at line 8742.\n",
      "  warnings.warn(\n",
      "/opt/homebrew/Caskroom/miniforge/base/envs/solennoid_v3/lib/python3.8/site-packages/Bio/PDB/StructureBuilder.py:89: PDBConstructionWarning: WARNING: Chain A is discontinuous at line 8754.\n",
      "  warnings.warn(\n",
      "/opt/homebrew/Caskroom/miniforge/base/envs/solennoid_v3/lib/python3.8/site-packages/Bio/PDB/StructureBuilder.py:89: PDBConstructionWarning: WARNING: Chain B is discontinuous at line 8870.\n",
      "  warnings.warn(\n",
      "/opt/homebrew/Caskroom/miniforge/base/envs/solennoid_v3/lib/python3.8/site-packages/Bio/PDB/StructureBuilder.py:89: PDBConstructionWarning: WARNING: Chain C is discontinuous at line 8996.\n",
      "  warnings.warn(\n"
     ]
    },
    {
     "name": "stdout",
     "output_type": "stream",
     "text": [
      "415\n",
      "LPAD 80\n",
      "(576, 576)\n",
      "(8, 128, 128, 1)\n",
      "1/1 [==============================] - 0s 58ms/step\n",
      "(8, 64, 64)\n",
      "(512, 512)\n",
      "ARGMAXED 3.0\n",
      "3vst\n"
     ]
    },
    {
     "name": "stderr",
     "output_type": "stream",
     "text": [
      "/opt/homebrew/Caskroom/miniforge/base/envs/solennoid_v3/lib/python3.8/site-packages/Bio/PDB/StructureBuilder.py:89: PDBConstructionWarning: WARNING: Chain A is discontinuous at line 20588.\n",
      "  warnings.warn(\n",
      "/opt/homebrew/Caskroom/miniforge/base/envs/solennoid_v3/lib/python3.8/site-packages/Bio/PDB/StructureBuilder.py:89: PDBConstructionWarning: WARNING: Chain B is discontinuous at line 20596.\n",
      "  warnings.warn(\n",
      "/opt/homebrew/Caskroom/miniforge/base/envs/solennoid_v3/lib/python3.8/site-packages/Bio/PDB/StructureBuilder.py:89: PDBConstructionWarning: WARNING: Chain C is discontinuous at line 20604.\n",
      "  warnings.warn(\n",
      "/opt/homebrew/Caskroom/miniforge/base/envs/solennoid_v3/lib/python3.8/site-packages/Bio/PDB/StructureBuilder.py:89: PDBConstructionWarning: WARNING: Chain D is discontinuous at line 20612.\n",
      "  warnings.warn(\n",
      "/opt/homebrew/Caskroom/miniforge/base/envs/solennoid_v3/lib/python3.8/site-packages/Bio/PDB/StructureBuilder.py:89: PDBConstructionWarning: WARNING: Chain A is discontinuous at line 20620.\n",
      "  warnings.warn(\n",
      "/opt/homebrew/Caskroom/miniforge/base/envs/solennoid_v3/lib/python3.8/site-packages/Bio/PDB/StructureBuilder.py:89: PDBConstructionWarning: WARNING: Chain B is discontinuous at line 21412.\n",
      "  warnings.warn(\n",
      "/opt/homebrew/Caskroom/miniforge/base/envs/solennoid_v3/lib/python3.8/site-packages/Bio/PDB/StructureBuilder.py:89: PDBConstructionWarning: WARNING: Chain C is discontinuous at line 22224.\n",
      "  warnings.warn(\n",
      "/opt/homebrew/Caskroom/miniforge/base/envs/solennoid_v3/lib/python3.8/site-packages/Bio/PDB/StructureBuilder.py:89: PDBConstructionWarning: WARNING: Chain D is discontinuous at line 22946.\n",
      "  warnings.warn(\n"
     ]
    },
    {
     "name": "stdout",
     "output_type": "stream",
     "text": [
      "1\n",
      "637\n",
      "LPAD 33\n",
      "(704, 704)\n",
      "(10, 128, 128, 1)\n",
      "1/1 [==============================] - 0s 70ms/step\n",
      "(10, 64, 64)\n",
      "(640, 640)\n",
      "ARGMAXED 1.0\n",
      "6e0v\n"
     ]
    },
    {
     "name": "stderr",
     "output_type": "stream",
     "text": [
      "/opt/homebrew/Caskroom/miniforge/base/envs/solennoid_v3/lib/python3.8/site-packages/Bio/PDB/StructureBuilder.py:89: PDBConstructionWarning: WARNING: Chain A is discontinuous at line 27176.\n",
      "  warnings.warn(\n",
      "/opt/homebrew/Caskroom/miniforge/base/envs/solennoid_v3/lib/python3.8/site-packages/Bio/PDB/StructureBuilder.py:89: PDBConstructionWarning: WARNING: Chain B is discontinuous at line 27248.\n",
      "  warnings.warn(\n",
      "/opt/homebrew/Caskroom/miniforge/base/envs/solennoid_v3/lib/python3.8/site-packages/Bio/PDB/StructureBuilder.py:89: PDBConstructionWarning: WARNING: Chain C is discontinuous at line 27332.\n",
      "  warnings.warn(\n",
      "/opt/homebrew/Caskroom/miniforge/base/envs/solennoid_v3/lib/python3.8/site-packages/Bio/PDB/StructureBuilder.py:89: PDBConstructionWarning: WARNING: Chain A is discontinuous at line 27401.\n",
      "  warnings.warn(\n",
      "/opt/homebrew/Caskroom/miniforge/base/envs/solennoid_v3/lib/python3.8/site-packages/Bio/PDB/StructureBuilder.py:89: PDBConstructionWarning: WARNING: Chain B is discontinuous at line 28378.\n",
      "  warnings.warn(\n",
      "/opt/homebrew/Caskroom/miniforge/base/envs/solennoid_v3/lib/python3.8/site-packages/Bio/PDB/StructureBuilder.py:89: PDBConstructionWarning: WARNING: Chain C is discontinuous at line 29286.\n",
      "  warnings.warn(\n"
     ]
    },
    {
     "name": "stdout",
     "output_type": "stream",
     "text": [
      "201\n",
      "601\n",
      "LPAD 51\n",
      "(704, 704)\n",
      "(10, 128, 128, 1)\n",
      "1/1 [==============================] - 0s 76ms/step\n",
      "(10, 64, 64)\n",
      "(640, 640)\n",
      "ARGMAXED 3.0\n",
      "4ru5\n"
     ]
    },
    {
     "name": "stderr",
     "output_type": "stream",
     "text": [
      "/opt/homebrew/Caskroom/miniforge/base/envs/solennoid_v3/lib/python3.8/site-packages/Bio/PDB/StructureBuilder.py:89: PDBConstructionWarning: WARNING: Chain A is discontinuous at line 14011.\n",
      "  warnings.warn(\n",
      "/opt/homebrew/Caskroom/miniforge/base/envs/solennoid_v3/lib/python3.8/site-packages/Bio/PDB/StructureBuilder.py:89: PDBConstructionWarning: WARNING: Chain B is discontinuous at line 14039.\n",
      "  warnings.warn(\n",
      "/opt/homebrew/Caskroom/miniforge/base/envs/solennoid_v3/lib/python3.8/site-packages/Bio/PDB/StructureBuilder.py:89: PDBConstructionWarning: WARNING: Chain C is discontinuous at line 14067.\n",
      "  warnings.warn(\n",
      "/opt/homebrew/Caskroom/miniforge/base/envs/solennoid_v3/lib/python3.8/site-packages/Bio/PDB/StructureBuilder.py:89: PDBConstructionWarning: WARNING: Chain A is discontinuous at line 14107.\n",
      "  warnings.warn(\n",
      "/opt/homebrew/Caskroom/miniforge/base/envs/solennoid_v3/lib/python3.8/site-packages/Bio/PDB/StructureBuilder.py:89: PDBConstructionWarning: WARNING: Chain B is discontinuous at line 15110.\n",
      "  warnings.warn(\n",
      "/opt/homebrew/Caskroom/miniforge/base/envs/solennoid_v3/lib/python3.8/site-packages/Bio/PDB/StructureBuilder.py:89: PDBConstructionWarning: WARNING: Chain C is discontinuous at line 16230.\n",
      "  warnings.warn(\n"
     ]
    },
    {
     "name": "stdout",
     "output_type": "stream",
     "text": [
      "147\n",
      "599\n",
      "LPAD 52\n",
      "(704, 704)\n",
      "(10, 128, 128, 1)\n",
      "1/1 [==============================] - 0s 70ms/step\n",
      "(10, 64, 64)\n",
      "(640, 640)\n",
      "ARGMAXED 3.0\n",
      "5mqp\n"
     ]
    },
    {
     "name": "stderr",
     "output_type": "stream",
     "text": [
      "/opt/homebrew/Caskroom/miniforge/base/envs/solennoid_v3/lib/python3.8/site-packages/Bio/PDB/StructureBuilder.py:89: PDBConstructionWarning: WARNING: Chain A is discontinuous at line 38348.\n",
      "  warnings.warn(\n",
      "/opt/homebrew/Caskroom/miniforge/base/envs/solennoid_v3/lib/python3.8/site-packages/Bio/PDB/StructureBuilder.py:89: PDBConstructionWarning: WARNING: Chain B is discontinuous at line 38349.\n",
      "  warnings.warn(\n",
      "/opt/homebrew/Caskroom/miniforge/base/envs/solennoid_v3/lib/python3.8/site-packages/Bio/PDB/StructureBuilder.py:89: PDBConstructionWarning: WARNING: Chain C is discontinuous at line 38351.\n",
      "  warnings.warn(\n",
      "/opt/homebrew/Caskroom/miniforge/base/envs/solennoid_v3/lib/python3.8/site-packages/Bio/PDB/StructureBuilder.py:89: PDBConstructionWarning: WARNING: Chain D is discontinuous at line 38352.\n",
      "  warnings.warn(\n",
      "/opt/homebrew/Caskroom/miniforge/base/envs/solennoid_v3/lib/python3.8/site-packages/Bio/PDB/StructureBuilder.py:89: PDBConstructionWarning: WARNING: Chain E is discontinuous at line 38353.\n",
      "  warnings.warn(\n",
      "/opt/homebrew/Caskroom/miniforge/base/envs/solennoid_v3/lib/python3.8/site-packages/Bio/PDB/StructureBuilder.py:89: PDBConstructionWarning: WARNING: Chain F is discontinuous at line 38355.\n",
      "  warnings.warn(\n",
      "/opt/homebrew/Caskroom/miniforge/base/envs/solennoid_v3/lib/python3.8/site-packages/Bio/PDB/StructureBuilder.py:89: PDBConstructionWarning: WARNING: Chain G is discontinuous at line 38356.\n",
      "  warnings.warn(\n",
      "/opt/homebrew/Caskroom/miniforge/base/envs/solennoid_v3/lib/python3.8/site-packages/Bio/PDB/StructureBuilder.py:89: PDBConstructionWarning: WARNING: Chain H is discontinuous at line 38357.\n",
      "  warnings.warn(\n",
      "/opt/homebrew/Caskroom/miniforge/base/envs/solennoid_v3/lib/python3.8/site-packages/Bio/PDB/StructureBuilder.py:89: PDBConstructionWarning: WARNING: Chain A is discontinuous at line 38358.\n",
      "  warnings.warn(\n",
      "/opt/homebrew/Caskroom/miniforge/base/envs/solennoid_v3/lib/python3.8/site-packages/Bio/PDB/StructureBuilder.py:89: PDBConstructionWarning: WARNING: Chain B is discontinuous at line 38762.\n",
      "  warnings.warn(\n",
      "/opt/homebrew/Caskroom/miniforge/base/envs/solennoid_v3/lib/python3.8/site-packages/Bio/PDB/StructureBuilder.py:89: PDBConstructionWarning: WARNING: Chain C is discontinuous at line 39161.\n",
      "  warnings.warn(\n",
      "/opt/homebrew/Caskroom/miniforge/base/envs/solennoid_v3/lib/python3.8/site-packages/Bio/PDB/StructureBuilder.py:89: PDBConstructionWarning: WARNING: Chain D is discontinuous at line 39512.\n",
      "  warnings.warn(\n",
      "/opt/homebrew/Caskroom/miniforge/base/envs/solennoid_v3/lib/python3.8/site-packages/Bio/PDB/StructureBuilder.py:89: PDBConstructionWarning: WARNING: Chain E is discontinuous at line 39895.\n",
      "  warnings.warn(\n",
      "/opt/homebrew/Caskroom/miniforge/base/envs/solennoid_v3/lib/python3.8/site-packages/Bio/PDB/StructureBuilder.py:89: PDBConstructionWarning: WARNING: Chain F is discontinuous at line 40245.\n",
      "  warnings.warn(\n",
      "/opt/homebrew/Caskroom/miniforge/base/envs/solennoid_v3/lib/python3.8/site-packages/Bio/PDB/StructureBuilder.py:89: PDBConstructionWarning: WARNING: Chain G is discontinuous at line 40569.\n",
      "  warnings.warn(\n",
      "/opt/homebrew/Caskroom/miniforge/base/envs/solennoid_v3/lib/python3.8/site-packages/Bio/PDB/StructureBuilder.py:89: PDBConstructionWarning: WARNING: Chain H is discontinuous at line 40858.\n",
      "  warnings.warn(\n"
     ]
    },
    {
     "name": "stdout",
     "output_type": "stream",
     "text": [
      "19\n",
      "599\n",
      "LPAD 52\n",
      "(704, 704)\n",
      "(10, 128, 128, 1)\n",
      "1/1 [==============================] - 0s 72ms/step\n",
      "(10, 64, 64)\n",
      "(640, 640)\n",
      "ARGMAXED 3.0\n",
      "6c72\n"
     ]
    },
    {
     "name": "stderr",
     "output_type": "stream",
     "text": [
      "/opt/homebrew/Caskroom/miniforge/base/envs/solennoid_v3/lib/python3.8/site-packages/Bio/PDB/StructureBuilder.py:89: PDBConstructionWarning: WARNING: Chain A is discontinuous at line 13413.\n",
      "  warnings.warn(\n",
      "/opt/homebrew/Caskroom/miniforge/base/envs/solennoid_v3/lib/python3.8/site-packages/Bio/PDB/StructureBuilder.py:89: PDBConstructionWarning: WARNING: Chain B is discontinuous at line 13429.\n",
      "  warnings.warn(\n",
      "/opt/homebrew/Caskroom/miniforge/base/envs/solennoid_v3/lib/python3.8/site-packages/Bio/PDB/StructureBuilder.py:89: PDBConstructionWarning: WARNING: Chain C is discontinuous at line 13446.\n",
      "  warnings.warn(\n",
      "/opt/homebrew/Caskroom/miniforge/base/envs/solennoid_v3/lib/python3.8/site-packages/Bio/PDB/StructureBuilder.py:89: PDBConstructionWarning: WARNING: Chain A is discontinuous at line 13461.\n",
      "  warnings.warn(\n",
      "/opt/homebrew/Caskroom/miniforge/base/envs/solennoid_v3/lib/python3.8/site-packages/Bio/PDB/StructureBuilder.py:89: PDBConstructionWarning: WARNING: Chain B is discontinuous at line 14017.\n",
      "  warnings.warn(\n",
      "/opt/homebrew/Caskroom/miniforge/base/envs/solennoid_v3/lib/python3.8/site-packages/Bio/PDB/StructureBuilder.py:89: PDBConstructionWarning: WARNING: Chain C is discontinuous at line 14486.\n",
      "  warnings.warn(\n"
     ]
    },
    {
     "name": "stdout",
     "output_type": "stream",
     "text": [
      "204\n",
      "578\n",
      "LPAD 62\n",
      "(704, 704)\n",
      "(10, 128, 128, 1)\n",
      "1/1 [==============================] - 0s 70ms/step\n",
      "(10, 64, 64)\n",
      "(640, 640)\n",
      "ARGMAXED 2.0\n",
      "4tz1\n",
      "57\n",
      "548\n",
      "LPAD 77\n",
      "(704, 704)\n",
      "(10, 128, 128, 1)\n",
      "1/1 [==============================] - 0s 68ms/step\n",
      "(10, 64, 64)\n",
      "(640, 640)\n",
      "ARGMAXED 2.0\n",
      "3lyc\n",
      "28\n",
      "238\n",
      "LPAD 40\n",
      "(320, 320)\n",
      "(4, 128, 128, 1)\n",
      "1/1 [==============================] - 0s 40ms/step\n"
     ]
    },
    {
     "name": "stderr",
     "output_type": "stream",
     "text": [
      "/opt/homebrew/Caskroom/miniforge/base/envs/solennoid_v3/lib/python3.8/site-packages/Bio/PDB/StructureBuilder.py:89: PDBConstructionWarning: WARNING: Chain A is discontinuous at line 28863.\n",
      "  warnings.warn(\n",
      "/opt/homebrew/Caskroom/miniforge/base/envs/solennoid_v3/lib/python3.8/site-packages/Bio/PDB/StructureBuilder.py:89: PDBConstructionWarning: WARNING: Chain B is discontinuous at line 28953.\n",
      "  warnings.warn(\n",
      "/opt/homebrew/Caskroom/miniforge/base/envs/solennoid_v3/lib/python3.8/site-packages/Bio/PDB/StructureBuilder.py:89: PDBConstructionWarning: WARNING: Chain C is discontinuous at line 28991.\n",
      "  warnings.warn(\n",
      "/opt/homebrew/Caskroom/miniforge/base/envs/solennoid_v3/lib/python3.8/site-packages/Bio/PDB/StructureBuilder.py:89: PDBConstructionWarning: WARNING: Chain D is discontinuous at line 29041.\n",
      "  warnings.warn(\n",
      "/opt/homebrew/Caskroom/miniforge/base/envs/solennoid_v3/lib/python3.8/site-packages/Bio/PDB/StructureBuilder.py:89: PDBConstructionWarning: WARNING: Chain E is discontinuous at line 29062.\n",
      "  warnings.warn(\n",
      "/opt/homebrew/Caskroom/miniforge/base/envs/solennoid_v3/lib/python3.8/site-packages/Bio/PDB/StructureBuilder.py:89: PDBConstructionWarning: WARNING: Chain F is discontinuous at line 29159.\n",
      "  warnings.warn(\n",
      "/opt/homebrew/Caskroom/miniforge/base/envs/solennoid_v3/lib/python3.8/site-packages/Bio/PDB/StructureBuilder.py:89: PDBConstructionWarning: WARNING: Chain G is discontinuous at line 29205.\n",
      "  warnings.warn(\n",
      "/opt/homebrew/Caskroom/miniforge/base/envs/solennoid_v3/lib/python3.8/site-packages/Bio/PDB/StructureBuilder.py:89: PDBConstructionWarning: WARNING: Chain H is discontinuous at line 29269.\n",
      "  warnings.warn(\n",
      "/opt/homebrew/Caskroom/miniforge/base/envs/solennoid_v3/lib/python3.8/site-packages/Bio/PDB/StructureBuilder.py:89: PDBConstructionWarning: WARNING: Chain I is discontinuous at line 29293.\n",
      "  warnings.warn(\n",
      "/opt/homebrew/Caskroom/miniforge/base/envs/solennoid_v3/lib/python3.8/site-packages/Bio/PDB/StructureBuilder.py:89: PDBConstructionWarning: WARNING: Chain J is discontinuous at line 29377.\n",
      "  warnings.warn(\n",
      "/opt/homebrew/Caskroom/miniforge/base/envs/solennoid_v3/lib/python3.8/site-packages/Bio/PDB/StructureBuilder.py:89: PDBConstructionWarning: WARNING: Chain K is discontinuous at line 29427.\n",
      "  warnings.warn(\n",
      "/opt/homebrew/Caskroom/miniforge/base/envs/solennoid_v3/lib/python3.8/site-packages/Bio/PDB/StructureBuilder.py:89: PDBConstructionWarning: WARNING: Chain L is discontinuous at line 29482.\n",
      "  warnings.warn(\n",
      "/opt/homebrew/Caskroom/miniforge/base/envs/solennoid_v3/lib/python3.8/site-packages/Bio/PDB/StructureBuilder.py:89: PDBConstructionWarning: WARNING: Chain M is discontinuous at line 29499.\n",
      "  warnings.warn(\n",
      "/opt/homebrew/Caskroom/miniforge/base/envs/solennoid_v3/lib/python3.8/site-packages/Bio/PDB/StructureBuilder.py:89: PDBConstructionWarning: WARNING: Chain N is discontinuous at line 29587.\n",
      "  warnings.warn(\n",
      "/opt/homebrew/Caskroom/miniforge/base/envs/solennoid_v3/lib/python3.8/site-packages/Bio/PDB/StructureBuilder.py:89: PDBConstructionWarning: WARNING: Chain O is discontinuous at line 29626.\n",
      "  warnings.warn(\n",
      "/opt/homebrew/Caskroom/miniforge/base/envs/solennoid_v3/lib/python3.8/site-packages/Bio/PDB/StructureBuilder.py:89: PDBConstructionWarning: WARNING: Chain P is discontinuous at line 29689.\n",
      "  warnings.warn(\n"
     ]
    },
    {
     "name": "stdout",
     "output_type": "stream",
     "text": [
      "(4, 64, 64)\n",
      "(256, 256)\n",
      "ARGMAXED 1.0\n",
      "2qza\n"
     ]
    },
    {
     "name": "stderr",
     "output_type": "stream",
     "text": [
      "/opt/homebrew/Caskroom/miniforge/base/envs/solennoid_v3/lib/python3.8/site-packages/Bio/PDB/StructureBuilder.py:89: PDBConstructionWarning: WARNING: Chain A is discontinuous at line 9346.\n",
      "  warnings.warn(\n",
      "/opt/homebrew/Caskroom/miniforge/base/envs/solennoid_v3/lib/python3.8/site-packages/Bio/PDB/StructureBuilder.py:89: PDBConstructionWarning: WARNING: Chain B is discontinuous at line 9394.\n",
      "  warnings.warn(\n"
     ]
    },
    {
     "name": "stdout",
     "output_type": "stream",
     "text": [
      "166\n",
      "616\n",
      "LPAD 43\n",
      "(704, 704)\n",
      "(10, 128, 128, 1)\n",
      "1/1 [==============================] - 0s 69ms/step\n",
      "(10, 64, 64)\n",
      "(640, 640)\n",
      "ARGMAXED 3.0\n",
      "5n8p\n"
     ]
    },
    {
     "name": "stderr",
     "output_type": "stream",
     "text": [
      "/opt/homebrew/Caskroom/miniforge/base/envs/solennoid_v3/lib/python3.8/site-packages/Bio/PDB/StructureBuilder.py:89: PDBConstructionWarning: WARNING: Chain A is discontinuous at line 30798.\n",
      "  warnings.warn(\n",
      "/opt/homebrew/Caskroom/miniforge/base/envs/solennoid_v3/lib/python3.8/site-packages/Bio/PDB/StructureBuilder.py:89: PDBConstructionWarning: WARNING: Chain B is discontinuous at line 30817.\n",
      "  warnings.warn(\n",
      "/opt/homebrew/Caskroom/miniforge/base/envs/solennoid_v3/lib/python3.8/site-packages/Bio/PDB/StructureBuilder.py:89: PDBConstructionWarning: WARNING: Chain C is discontinuous at line 30836.\n",
      "  warnings.warn(\n",
      "/opt/homebrew/Caskroom/miniforge/base/envs/solennoid_v3/lib/python3.8/site-packages/Bio/PDB/StructureBuilder.py:89: PDBConstructionWarning: WARNING: Chain D is discontinuous at line 30855.\n",
      "  warnings.warn(\n",
      "/opt/homebrew/Caskroom/miniforge/base/envs/solennoid_v3/lib/python3.8/site-packages/Bio/PDB/StructureBuilder.py:89: PDBConstructionWarning: WARNING: Chain E is discontinuous at line 30874.\n",
      "  warnings.warn(\n",
      "/opt/homebrew/Caskroom/miniforge/base/envs/solennoid_v3/lib/python3.8/site-packages/Bio/PDB/StructureBuilder.py:89: PDBConstructionWarning: WARNING: Chain F is discontinuous at line 30893.\n",
      "  warnings.warn(\n",
      "/opt/homebrew/Caskroom/miniforge/base/envs/solennoid_v3/lib/python3.8/site-packages/Bio/PDB/StructureBuilder.py:89: PDBConstructionWarning: WARNING: Chain A is discontinuous at line 30912.\n",
      "  warnings.warn(\n",
      "/opt/homebrew/Caskroom/miniforge/base/envs/solennoid_v3/lib/python3.8/site-packages/Bio/PDB/StructureBuilder.py:89: PDBConstructionWarning: WARNING: Chain B is discontinuous at line 30931.\n",
      "  warnings.warn(\n",
      "/opt/homebrew/Caskroom/miniforge/base/envs/solennoid_v3/lib/python3.8/site-packages/Bio/PDB/StructureBuilder.py:89: PDBConstructionWarning: WARNING: Chain C is discontinuous at line 30960.\n",
      "  warnings.warn(\n",
      "/opt/homebrew/Caskroom/miniforge/base/envs/solennoid_v3/lib/python3.8/site-packages/Bio/PDB/StructureBuilder.py:89: PDBConstructionWarning: WARNING: Chain D is discontinuous at line 30984.\n",
      "  warnings.warn(\n",
      "/opt/homebrew/Caskroom/miniforge/base/envs/solennoid_v3/lib/python3.8/site-packages/Bio/PDB/StructureBuilder.py:89: PDBConstructionWarning: WARNING: Chain E is discontinuous at line 31016.\n",
      "  warnings.warn(\n",
      "/opt/homebrew/Caskroom/miniforge/base/envs/solennoid_v3/lib/python3.8/site-packages/Bio/PDB/StructureBuilder.py:89: PDBConstructionWarning: WARNING: Chain F is discontinuous at line 31032.\n",
      "  warnings.warn(\n"
     ]
    },
    {
     "name": "stdout",
     "output_type": "stream",
     "text": [
      "249\n",
      "777\n",
      "LPAD 91\n",
      "(960, 960)\n",
      "(14, 128, 128, 1)\n",
      "1/1 [==============================] - 0s 87ms/step\n",
      "(14, 64, 64)\n",
      "(896, 896)\n",
      "ARGMAXED 1.0\n",
      "5js4\n"
     ]
    },
    {
     "name": "stderr",
     "output_type": "stream",
     "text": [
      "/opt/homebrew/Caskroom/miniforge/base/envs/solennoid_v3/lib/python3.8/site-packages/Bio/PDB/StructureBuilder.py:89: PDBConstructionWarning: WARNING: Chain A is discontinuous at line 12537.\n",
      "  warnings.warn(\n",
      "/opt/homebrew/Caskroom/miniforge/base/envs/solennoid_v3/lib/python3.8/site-packages/Bio/PDB/StructureBuilder.py:89: PDBConstructionWarning: WARNING: Chain B is discontinuous at line 12558.\n",
      "  warnings.warn(\n",
      "/opt/homebrew/Caskroom/miniforge/base/envs/solennoid_v3/lib/python3.8/site-packages/Bio/PDB/StructureBuilder.py:89: PDBConstructionWarning: WARNING: Chain C is discontinuous at line 12579.\n",
      "  warnings.warn(\n",
      "/opt/homebrew/Caskroom/miniforge/base/envs/solennoid_v3/lib/python3.8/site-packages/Bio/PDB/StructureBuilder.py:89: PDBConstructionWarning: WARNING: Chain A is discontinuous at line 12600.\n",
      "  warnings.warn(\n",
      "/opt/homebrew/Caskroom/miniforge/base/envs/solennoid_v3/lib/python3.8/site-packages/Bio/PDB/StructureBuilder.py:89: PDBConstructionWarning: WARNING: Chain B is discontinuous at line 13531.\n",
      "  warnings.warn(\n",
      "/opt/homebrew/Caskroom/miniforge/base/envs/solennoid_v3/lib/python3.8/site-packages/Bio/PDB/StructureBuilder.py:89: PDBConstructionWarning: WARNING: Chain C is discontinuous at line 14433.\n",
      "  warnings.warn(\n"
     ]
    },
    {
     "name": "stdout",
     "output_type": "stream",
     "text": [
      "19\n",
      "546\n",
      "LPAD 78\n",
      "(704, 704)\n",
      "(10, 128, 128, 1)\n",
      "1/1 [==============================] - 0s 74ms/step\n",
      "(10, 64, 64)\n",
      "(640, 640)\n",
      "ARGMAXED 3.0\n",
      "2n3d\n",
      "37\n",
      "102\n",
      "LPAD 44\n",
      "(192, 192)\n",
      "(2, 128, 128, 1)\n",
      "1/1 [==============================] - 0s 31ms/step\n",
      "(2, 64, 64)\n",
      "(128, 128)\n",
      "ARGMAXED 1.0\n",
      "1elk\n",
      "1\n",
      "152\n",
      "LPAD 83\n",
      "(320, 320)\n",
      "(4, 128, 128, 1)\n",
      "1/1 [==============================] - 0s 38ms/step\n",
      "(4, 64, 64)\n",
      "(256, 256)\n",
      "ARGMAXED 3.0\n",
      "1hs6\n"
     ]
    },
    {
     "name": "stderr",
     "output_type": "stream",
     "text": [
      "/opt/homebrew/Caskroom/miniforge/base/envs/solennoid_v3/lib/python3.8/site-packages/Bio/PDB/StructureBuilder.py:89: PDBConstructionWarning: WARNING: Chain A is discontinuous at line 2410.\n",
      "  warnings.warn(\n",
      "/opt/homebrew/Caskroom/miniforge/base/envs/solennoid_v3/lib/python3.8/site-packages/Bio/PDB/StructureBuilder.py:89: PDBConstructionWarning: WARNING: Chain B is discontinuous at line 2611.\n",
      "  warnings.warn(\n"
     ]
    },
    {
     "name": "stdout",
     "output_type": "stream",
     "text": [
      "1\n",
      "609\n",
      "LPAD 47\n",
      "(704, 704)\n",
      "(10, 128, 128, 1)\n",
      "1/1 [==============================] - 0s 69ms/step\n",
      "(10, 64, 64)\n",
      "(640, 640)\n",
      "ARGMAXED 3.0\n",
      "1qgk\n",
      "1\n"
     ]
    },
    {
     "name": "stderr",
     "output_type": "stream",
     "text": [
      "/opt/homebrew/Caskroom/miniforge/base/envs/solennoid_v3/lib/python3.8/site-packages/Bio/PDB/StructureBuilder.py:89: PDBConstructionWarning: WARNING: Chain A is discontinuous at line 7185.\n",
      "  warnings.warn(\n",
      "/opt/homebrew/Caskroom/miniforge/base/envs/solennoid_v3/lib/python3.8/site-packages/Bio/PDB/StructureBuilder.py:89: PDBConstructionWarning: WARNING: Chain B is discontinuous at line 7227.\n",
      "  warnings.warn(\n"
     ]
    },
    {
     "name": "stdout",
     "output_type": "stream",
     "text": [
      "875\n",
      "LPAD 42\n",
      "(960, 960)\n",
      "(14, 128, 128, 1)\n",
      "1/1 [==============================] - 0s 86ms/step\n",
      "(14, 64, 64)\n",
      "(896, 896)\n",
      "ARGMAXED 3.0\n",
      "2db0\n",
      "9\n",
      "238\n",
      "LPAD 40\n",
      "(320, 320)\n",
      "(4, 128, 128, 1)\n",
      "1/1 [==============================] - 0s 39ms/step\n"
     ]
    },
    {
     "name": "stderr",
     "output_type": "stream",
     "text": [
      "/opt/homebrew/Caskroom/miniforge/base/envs/solennoid_v3/lib/python3.8/site-packages/Bio/PDB/StructureBuilder.py:89: PDBConstructionWarning: WARNING: Chain A is discontinuous at line 3807.\n",
      "  warnings.warn(\n",
      "/opt/homebrew/Caskroom/miniforge/base/envs/solennoid_v3/lib/python3.8/site-packages/Bio/PDB/StructureBuilder.py:89: PDBConstructionWarning: WARNING: Chain B is discontinuous at line 3865.\n",
      "  warnings.warn(\n"
     ]
    },
    {
     "name": "stdout",
     "output_type": "stream",
     "text": [
      "(4, 64, 64)\n",
      "(256, 256)\n",
      "ARGMAXED 3.0\n",
      "2ypf\n",
      "185\n"
     ]
    },
    {
     "name": "stderr",
     "output_type": "stream",
     "text": [
      "/opt/homebrew/Caskroom/miniforge/base/envs/solennoid_v3/lib/python3.8/site-packages/Bio/PDB/StructureBuilder.py:89: PDBConstructionWarning: WARNING: Chain A is discontinuous at line 5647.\n",
      "  warnings.warn(\n",
      "/opt/homebrew/Caskroom/miniforge/base/envs/solennoid_v3/lib/python3.8/site-packages/Bio/PDB/StructureBuilder.py:89: PDBConstructionWarning: WARNING: Chain B is discontinuous at line 5786.\n",
      "  warnings.warn(\n",
      "/opt/homebrew/Caskroom/miniforge/base/envs/solennoid_v3/lib/python3.8/site-packages/Bio/PDB/StructureBuilder.py:89: PDBConstructionWarning: WARNING: Chain C is discontinuous at line 5803.\n",
      "  warnings.warn(\n"
     ]
    },
    {
     "name": "stdout",
     "output_type": "stream",
     "text": [
      "676\n",
      "LPAD 77\n",
      "(832, 832)\n",
      "(12, 128, 128, 1)\n",
      "1/1 [==============================] - 0s 77ms/step\n",
      "(12, 64, 64)\n",
      "(768, 768)\n",
      "ARGMAXED 3.0\n",
      "2hye\n"
     ]
    },
    {
     "name": "stderr",
     "output_type": "stream",
     "text": [
      "/opt/homebrew/Caskroom/miniforge/base/envs/solennoid_v3/lib/python3.8/site-packages/Bio/PDB/StructureBuilder.py:89: PDBConstructionWarning: WARNING: Chain B is discontinuous at line 16938.\n",
      "  warnings.warn(\n",
      "/opt/homebrew/Caskroom/miniforge/base/envs/solennoid_v3/lib/python3.8/site-packages/Bio/PDB/StructureBuilder.py:89: PDBConstructionWarning: WARNING: Chain D is discontinuous at line 16940.\n",
      "  warnings.warn(\n"
     ]
    },
    {
     "name": "stdout",
     "output_type": "stream",
     "text": [
      "41\n",
      "718\n",
      "LPAD 56\n",
      "(832, 832)\n",
      "(12, 128, 128, 1)\n",
      "1/1 [==============================] - 0s 80ms/step\n",
      "(12, 64, 64)\n",
      "(768, 768)\n",
      "ARGMAXED 3.0\n",
      "2uy1\n",
      "12\n"
     ]
    },
    {
     "name": "stderr",
     "output_type": "stream",
     "text": [
      "/opt/homebrew/Caskroom/miniforge/base/envs/solennoid_v3/lib/python3.8/site-packages/Bio/PDB/StructureBuilder.py:89: PDBConstructionWarning: WARNING: Chain A is discontinuous at line 6903.\n",
      "  warnings.warn(\n",
      "/opt/homebrew/Caskroom/miniforge/base/envs/solennoid_v3/lib/python3.8/site-packages/Bio/PDB/StructureBuilder.py:89: PDBConstructionWarning: WARNING: Chain B is discontinuous at line 7124.\n",
      "  warnings.warn(\n"
     ]
    },
    {
     "name": "stdout",
     "output_type": "stream",
     "text": [
      "453\n",
      "LPAD 61\n",
      "(576, 576)\n",
      "(8, 128, 128, 1)\n",
      "1/1 [==============================] - 0s 58ms/step\n",
      "(8, 64, 64)\n",
      "(512, 512)\n",
      "ARGMAXED 3.0\n",
      "2r17\n"
     ]
    },
    {
     "name": "stderr",
     "output_type": "stream",
     "text": [
      "/opt/homebrew/Caskroom/miniforge/base/envs/solennoid_v3/lib/python3.8/site-packages/Bio/PDB/StructureBuilder.py:89: PDBConstructionWarning: WARNING: Chain A is discontinuous at line 7591.\n",
      "  warnings.warn(\n",
      "/opt/homebrew/Caskroom/miniforge/base/envs/solennoid_v3/lib/python3.8/site-packages/Bio/PDB/StructureBuilder.py:89: PDBConstructionWarning: WARNING: Chain B is discontinuous at line 7599.\n",
      "  warnings.warn(\n",
      "/opt/homebrew/Caskroom/miniforge/base/envs/solennoid_v3/lib/python3.8/site-packages/Bio/PDB/StructureBuilder.py:89: PDBConstructionWarning: WARNING: Chain C is discontinuous at line 7609.\n",
      "  warnings.warn(\n",
      "/opt/homebrew/Caskroom/miniforge/base/envs/solennoid_v3/lib/python3.8/site-packages/Bio/PDB/StructureBuilder.py:89: PDBConstructionWarning: WARNING: Chain D is discontinuous at line 7626.\n",
      "  warnings.warn(\n"
     ]
    },
    {
     "name": "stdout",
     "output_type": "stream",
     "text": [
      "484\n",
      "296\n",
      "LPAD 75\n",
      "(448, 448)\n",
      "(6, 128, 128, 1)\n",
      "1/1 [==============================] - 0s 49ms/step\n",
      "(6, 64, 64)\n",
      "(384, 384)\n",
      "ARGMAXED 3.0\n",
      "1yvp\n"
     ]
    },
    {
     "name": "stderr",
     "output_type": "stream",
     "text": [
      "/opt/homebrew/Caskroom/miniforge/base/envs/solennoid_v3/lib/python3.8/site-packages/Bio/PDB/StructureBuilder.py:89: PDBConstructionWarning: WARNING: Chain A is discontinuous at line 9472.\n",
      "  warnings.warn(\n",
      "/opt/homebrew/Caskroom/miniforge/base/envs/solennoid_v3/lib/python3.8/site-packages/Bio/PDB/StructureBuilder.py:89: PDBConstructionWarning: WARNING: Chain B is discontinuous at line 9477.\n",
      "  warnings.warn(\n",
      "/opt/homebrew/Caskroom/miniforge/base/envs/solennoid_v3/lib/python3.8/site-packages/Bio/PDB/StructureBuilder.py:89: PDBConstructionWarning: WARNING: Chain C is discontinuous at line 9482.\n",
      "  warnings.warn(\n",
      "/opt/homebrew/Caskroom/miniforge/base/envs/solennoid_v3/lib/python3.8/site-packages/Bio/PDB/StructureBuilder.py:89: PDBConstructionWarning: WARNING: Chain D is discontinuous at line 9501.\n",
      "  warnings.warn(\n",
      "/opt/homebrew/Caskroom/miniforge/base/envs/solennoid_v3/lib/python3.8/site-packages/Bio/PDB/StructureBuilder.py:89: PDBConstructionWarning: WARNING: Chain E is discontinuous at line 9504.\n",
      "  warnings.warn(\n",
      "/opt/homebrew/Caskroom/miniforge/base/envs/solennoid_v3/lib/python3.8/site-packages/Bio/PDB/StructureBuilder.py:89: PDBConstructionWarning: WARNING: Chain F is discontinuous at line 9518.\n",
      "  warnings.warn(\n",
      "/opt/homebrew/Caskroom/miniforge/base/envs/solennoid_v3/lib/python3.8/site-packages/Bio/PDB/StructureBuilder.py:89: PDBConstructionWarning: WARNING: Chain G is discontinuous at line 9524.\n",
      "  warnings.warn(\n",
      "/opt/homebrew/Caskroom/miniforge/base/envs/solennoid_v3/lib/python3.8/site-packages/Bio/PDB/StructureBuilder.py:89: PDBConstructionWarning: WARNING: Chain H is discontinuous at line 9533.\n",
      "  warnings.warn(\n",
      "/opt/homebrew/Caskroom/miniforge/base/envs/solennoid_v3/lib/python3.8/site-packages/Bio/PDB/StructureBuilder.py:89: PDBConstructionWarning: WARNING: Chain A is discontinuous at line 9554.\n",
      "  warnings.warn(\n",
      "/opt/homebrew/Caskroom/miniforge/base/envs/solennoid_v3/lib/python3.8/site-packages/Bio/PDB/StructureBuilder.py:89: PDBConstructionWarning: WARNING: Chain B is discontinuous at line 9721.\n",
      "  warnings.warn(\n"
     ]
    },
    {
     "name": "stdout",
     "output_type": "stream",
     "text": [
      "4\n",
      "533\n",
      "LPAD 85\n",
      "(704, 704)\n",
      "(10, 128, 128, 1)\n",
      "1/1 [==============================] - 0s 65ms/step\n",
      "(10, 64, 64)\n",
      "(640, 640)\n",
      "ARGMAXED 3.0\n",
      "1z3h\n"
     ]
    },
    {
     "name": "stderr",
     "output_type": "stream",
     "text": [
      "/opt/homebrew/Caskroom/miniforge/base/envs/solennoid_v3/lib/python3.8/site-packages/Bio/PDB/StructureBuilder.py:89: PDBConstructionWarning: WARNING: Chain A is discontinuous at line 14786.\n",
      "  warnings.warn(\n"
     ]
    },
    {
     "name": "stdout",
     "output_type": "stream",
     "text": [
      "2\n",
      "957\n",
      "LPAD 65\n",
      "(1088, 1088)\n",
      "(16, 128, 128, 1)\n",
      "1/1 [==============================] - 0s 99ms/step\n",
      "(16, 64, 64)\n",
      "(1024, 1024)\n",
      "ARGMAXED 3.0\n",
      "2z5j\n",
      "5\n",
      "885\n",
      "LPAD 37\n",
      "(960, 960)\n",
      "(14, 128, 128, 1)\n",
      "1/1 [==============================] - 0s 87ms/step\n",
      "(14, 64, 64)\n",
      "(896, 896)\n",
      "ARGMAXED 3.0\n",
      "4bv4\n"
     ]
    },
    {
     "name": "stderr",
     "output_type": "stream",
     "text": [
      "/opt/homebrew/Caskroom/miniforge/base/envs/solennoid_v3/lib/python3.8/site-packages/Bio/PDB/StructureBuilder.py:89: PDBConstructionWarning: WARNING: Chain R is discontinuous at line 4670.\n",
      "  warnings.warn(\n",
      "/opt/homebrew/Caskroom/miniforge/base/envs/solennoid_v3/lib/python3.8/site-packages/Bio/PDB/StructureBuilder.py:89: PDBConstructionWarning: WARNING: Chain L is discontinuous at line 4726.\n",
      "  warnings.warn(\n",
      "/opt/homebrew/Caskroom/miniforge/base/envs/solennoid_v3/lib/python3.8/site-packages/Bio/PDB/StructureBuilder.py:89: PDBConstructionWarning: WARNING: Chain M is discontinuous at line 4738.\n",
      "  warnings.warn(\n",
      "/opt/homebrew/Caskroom/miniforge/base/envs/solennoid_v3/lib/python3.8/site-packages/Bio/PDB/StructureBuilder.py:89: PDBConstructionWarning: WARNING: Chain R is discontinuous at line 4750.\n",
      "  warnings.warn(\n"
     ]
    },
    {
     "name": "stdout",
     "output_type": "stream",
     "text": [
      "28\n",
      "439\n",
      "LPAD 68\n",
      "(576, 576)\n",
      "(8, 128, 128, 1)\n",
      "1/1 [==============================] - 0s 58ms/step\n",
      "(8, 64, 64)\n",
      "(512, 512)\n",
      "ARGMAXED 3.0\n",
      "3w3g\n"
     ]
    },
    {
     "name": "stderr",
     "output_type": "stream",
     "text": [
      "/opt/homebrew/Caskroom/miniforge/base/envs/solennoid_v3/lib/python3.8/site-packages/Bio/PDB/StructureBuilder.py:89: PDBConstructionWarning: WARNING: Chain A is discontinuous at line 12263.\n",
      "  warnings.warn(\n",
      "/opt/homebrew/Caskroom/miniforge/base/envs/solennoid_v3/lib/python3.8/site-packages/Bio/PDB/StructureBuilder.py:89: PDBConstructionWarning: WARNING: Chain B is discontinuous at line 12353.\n",
      "  warnings.warn(\n",
      "/opt/homebrew/Caskroom/miniforge/base/envs/solennoid_v3/lib/python3.8/site-packages/Bio/PDB/StructureBuilder.py:89: PDBConstructionWarning: WARNING: Chain A is discontinuous at line 12409.\n",
      "  warnings.warn(\n",
      "/opt/homebrew/Caskroom/miniforge/base/envs/solennoid_v3/lib/python3.8/site-packages/Bio/PDB/StructureBuilder.py:89: PDBConstructionWarning: WARNING: Chain B is discontinuous at line 12708.\n",
      "  warnings.warn(\n"
     ]
    },
    {
     "name": "stdout",
     "output_type": "stream",
     "text": [
      "32\n",
      "787\n",
      "LPAD 86\n",
      "(960, 960)\n",
      "(14, 128, 128, 1)\n",
      "1/1 [==============================] - 0s 90ms/step\n",
      "(14, 64, 64)\n",
      "(896, 896)\n",
      "ARGMAXED 3.0\n",
      "4j0m\n"
     ]
    },
    {
     "name": "stderr",
     "output_type": "stream",
     "text": [
      "/opt/homebrew/Caskroom/miniforge/base/envs/solennoid_v3/lib/python3.8/site-packages/Bio/PDB/StructureBuilder.py:89: PDBConstructionWarning: WARNING: Chain A is discontinuous at line 11250.\n",
      "  warnings.warn(\n",
      "/opt/homebrew/Caskroom/miniforge/base/envs/solennoid_v3/lib/python3.8/site-packages/Bio/PDB/StructureBuilder.py:89: PDBConstructionWarning: WARNING: Chain B is discontinuous at line 11312.\n",
      "  warnings.warn(\n",
      "/opt/homebrew/Caskroom/miniforge/base/envs/solennoid_v3/lib/python3.8/site-packages/Bio/PDB/StructureBuilder.py:89: PDBConstructionWarning: WARNING: Chain A is discontinuous at line 11374.\n",
      "  warnings.warn(\n",
      "/opt/homebrew/Caskroom/miniforge/base/envs/solennoid_v3/lib/python3.8/site-packages/Bio/PDB/StructureBuilder.py:89: PDBConstructionWarning: WARNING: Chain B is discontinuous at line 11584.\n",
      "  warnings.warn(\n"
     ]
    },
    {
     "name": "stdout",
     "output_type": "stream",
     "text": [
      "31\n",
      "726\n",
      "LPAD 52\n",
      "(832, 832)\n",
      "(12, 128, 128, 1)\n",
      "1/1 [==============================] - 0s 83ms/step\n",
      "(12, 64, 64)\n",
      "(768, 768)\n",
      "ARGMAXED 2.0\n",
      "4ay9\n"
     ]
    },
    {
     "name": "stderr",
     "output_type": "stream",
     "text": [
      "/opt/homebrew/Caskroom/miniforge/base/envs/solennoid_v3/lib/python3.8/site-packages/Bio/PDB/StructureBuilder.py:89: PDBConstructionWarning: WARNING: Chain A is discontinuous at line 11911.\n",
      "  warnings.warn(\n",
      "/opt/homebrew/Caskroom/miniforge/base/envs/solennoid_v3/lib/python3.8/site-packages/Bio/PDB/StructureBuilder.py:89: PDBConstructionWarning: WARNING: Chain B is discontinuous at line 11939.\n",
      "  warnings.warn(\n",
      "/opt/homebrew/Caskroom/miniforge/base/envs/solennoid_v3/lib/python3.8/site-packages/Bio/PDB/StructureBuilder.py:89: PDBConstructionWarning: WARNING: Chain D is discontinuous at line 11967.\n",
      "  warnings.warn(\n",
      "/opt/homebrew/Caskroom/miniforge/base/envs/solennoid_v3/lib/python3.8/site-packages/Bio/PDB/StructureBuilder.py:89: PDBConstructionWarning: WARNING: Chain E is discontinuous at line 11995.\n",
      "  warnings.warn(\n",
      "/opt/homebrew/Caskroom/miniforge/base/envs/solennoid_v3/lib/python3.8/site-packages/Bio/PDB/StructureBuilder.py:89: PDBConstructionWarning: WARNING: Chain G is discontinuous at line 12023.\n",
      "  warnings.warn(\n",
      "/opt/homebrew/Caskroom/miniforge/base/envs/solennoid_v3/lib/python3.8/site-packages/Bio/PDB/StructureBuilder.py:89: PDBConstructionWarning: WARNING: Chain H is discontinuous at line 12051.\n",
      "  warnings.warn(\n",
      "/opt/homebrew/Caskroom/miniforge/base/envs/solennoid_v3/lib/python3.8/site-packages/Bio/PDB/StructureBuilder.py:89: PDBConstructionWarning: WARNING: Chain X is discontinuous at line 12079.\n",
      "  warnings.warn(\n",
      "/opt/homebrew/Caskroom/miniforge/base/envs/solennoid_v3/lib/python3.8/site-packages/Bio/PDB/StructureBuilder.py:89: PDBConstructionWarning: WARNING: Chain Y is discontinuous at line 12093.\n",
      "  warnings.warn(\n",
      "/opt/homebrew/Caskroom/miniforge/base/envs/solennoid_v3/lib/python3.8/site-packages/Bio/PDB/StructureBuilder.py:89: PDBConstructionWarning: WARNING: Chain Z is discontinuous at line 12107.\n",
      "  warnings.warn(\n",
      "/opt/homebrew/Caskroom/miniforge/base/envs/solennoid_v3/lib/python3.8/site-packages/Bio/PDB/StructureBuilder.py:89: PDBConstructionWarning: WARNING: Chain A is discontinuous at line 12121.\n",
      "  warnings.warn(\n",
      "/opt/homebrew/Caskroom/miniforge/base/envs/solennoid_v3/lib/python3.8/site-packages/Bio/PDB/StructureBuilder.py:89: PDBConstructionWarning: WARNING: Chain B is discontinuous at line 12140.\n",
      "  warnings.warn(\n",
      "/opt/homebrew/Caskroom/miniforge/base/envs/solennoid_v3/lib/python3.8/site-packages/Bio/PDB/StructureBuilder.py:89: PDBConstructionWarning: WARNING: Chain D is discontinuous at line 12155.\n",
      "  warnings.warn(\n",
      "/opt/homebrew/Caskroom/miniforge/base/envs/solennoid_v3/lib/python3.8/site-packages/Bio/PDB/StructureBuilder.py:89: PDBConstructionWarning: WARNING: Chain E is discontinuous at line 12173.\n",
      "  warnings.warn(\n",
      "/opt/homebrew/Caskroom/miniforge/base/envs/solennoid_v3/lib/python3.8/site-packages/Bio/PDB/StructureBuilder.py:89: PDBConstructionWarning: WARNING: Chain G is discontinuous at line 12194.\n",
      "  warnings.warn(\n",
      "/opt/homebrew/Caskroom/miniforge/base/envs/solennoid_v3/lib/python3.8/site-packages/Bio/PDB/StructureBuilder.py:89: PDBConstructionWarning: WARNING: Chain H is discontinuous at line 12212.\n",
      "  warnings.warn(\n",
      "/opt/homebrew/Caskroom/miniforge/base/envs/solennoid_v3/lib/python3.8/site-packages/Bio/PDB/StructureBuilder.py:89: PDBConstructionWarning: WARNING: Chain X is discontinuous at line 12226.\n",
      "  warnings.warn(\n",
      "/opt/homebrew/Caskroom/miniforge/base/envs/solennoid_v3/lib/python3.8/site-packages/Bio/PDB/StructureBuilder.py:89: PDBConstructionWarning: WARNING: Chain Y is discontinuous at line 12254.\n",
      "  warnings.warn(\n",
      "/opt/homebrew/Caskroom/miniforge/base/envs/solennoid_v3/lib/python3.8/site-packages/Bio/PDB/StructureBuilder.py:89: PDBConstructionWarning: WARNING: Chain Z is discontinuous at line 12299.\n",
      "  warnings.warn(\n"
     ]
    },
    {
     "name": "stdout",
     "output_type": "stream",
     "text": [
      "18\n",
      "341\n",
      "LPAD 53\n",
      "(448, 448)\n",
      "(6, 128, 128, 1)\n",
      "1/1 [==============================] - 0s 47ms/step\n",
      "(6, 64, 64)\n",
      "(384, 384)\n",
      "ARGMAXED 2.0\n",
      "4fs7\n",
      "22\n",
      "392\n",
      "LPAD 91\n",
      "(576, 576)\n",
      "(8, 128, 128, 1)\n",
      "1/1 [==============================] - 0s 58ms/step\n",
      "(8, 64, 64)\n",
      "(512, 512)\n",
      "ARGMAXED 2.0\n",
      "4i6j\n",
      "35"
     ]
    },
    {
     "name": "stderr",
     "output_type": "stream",
     "text": [
      "/opt/homebrew/Caskroom/miniforge/base/envs/solennoid_v3/lib/python3.8/site-packages/Bio/PDB/StructureBuilder.py:89: PDBConstructionWarning: WARNING: Chain A is discontinuous at line 8279.\n",
      "  warnings.warn(\n",
      "/opt/homebrew/Caskroom/miniforge/base/envs/solennoid_v3/lib/python3.8/site-packages/Bio/PDB/StructureBuilder.py:89: PDBConstructionWarning: WARNING: Chain B is discontinuous at line 8372.\n",
      "  warnings.warn(\n",
      "/opt/homebrew/Caskroom/miniforge/base/envs/solennoid_v3/lib/python3.8/site-packages/Bio/PDB/StructureBuilder.py:89: PDBConstructionWarning: WARNING: Chain C is discontinuous at line 8430.\n",
      "  warnings.warn(\n"
     ]
    },
    {
     "name": "stdout",
     "output_type": "stream",
     "text": [
      "\n",
      "393\n",
      "LPAD 91\n",
      "(576, 576)\n",
      "(8, 128, 128, 1)\n",
      "1/1 [==============================] - 0s 56ms/step\n",
      "(8, 64, 64)\n",
      "(512, 512)\n",
      "ARGMAXED 3.0\n",
      "4hob\n",
      "217\n",
      "61\n",
      "LPAD 65\n",
      "(192, 192)\n",
      "(2, 128, 128, 1)\n",
      "1/1 [==============================] - 0s 29ms/step\n",
      "(2, 64, 64)\n",
      "(128, 128)\n",
      "ARGMAXED 0.0\n",
      "5h6y\n",
      "61\n",
      "116\n",
      "LPAD 37\n",
      "(192, 192)\n",
      "(2, 128, 128, 1)\n",
      "1/1 [==============================] - 0s 30ms/step\n"
     ]
    },
    {
     "name": "stderr",
     "output_type": "stream",
     "text": [
      "/opt/homebrew/Caskroom/miniforge/base/envs/solennoid_v3/lib/python3.8/site-packages/Bio/PDB/StructureBuilder.py:89: PDBConstructionWarning: WARNING: Chain A is discontinuous at line 2007.\n",
      "  warnings.warn(\n",
      "/opt/homebrew/Caskroom/miniforge/base/envs/solennoid_v3/lib/python3.8/site-packages/Bio/PDB/StructureBuilder.py:89: PDBConstructionWarning: WARNING: Chain B is discontinuous at line 2017.\n",
      "  warnings.warn(\n",
      "/opt/homebrew/Caskroom/miniforge/base/envs/solennoid_v3/lib/python3.8/site-packages/Bio/PDB/StructureBuilder.py:89: PDBConstructionWarning: WARNING: Chain C is discontinuous at line 2027.\n",
      "  warnings.warn(\n",
      "/opt/homebrew/Caskroom/miniforge/base/envs/solennoid_v3/lib/python3.8/site-packages/Bio/PDB/StructureBuilder.py:89: PDBConstructionWarning: WARNING: Chain A is discontinuous at line 2052.\n",
      "  warnings.warn(\n",
      "/opt/homebrew/Caskroom/miniforge/base/envs/solennoid_v3/lib/python3.8/site-packages/Bio/PDB/StructureBuilder.py:89: PDBConstructionWarning: WARNING: Chain B is discontinuous at line 2103.\n",
      "  warnings.warn(\n",
      "/opt/homebrew/Caskroom/miniforge/base/envs/solennoid_v3/lib/python3.8/site-packages/Bio/PDB/StructureBuilder.py:89: PDBConstructionWarning: WARNING: Chain C is discontinuous at line 2146.\n",
      "  warnings.warn(\n",
      "/opt/homebrew/Caskroom/miniforge/base/envs/solennoid_v3/lib/python3.8/site-packages/Bio/PDB/StructureBuilder.py:89: PDBConstructionWarning: WARNING: Chain D is discontinuous at line 2213.\n",
      "  warnings.warn(\n",
      "/opt/homebrew/Caskroom/miniforge/base/envs/solennoid_v3/lib/python3.8/site-packages/Bio/PDB/StructureBuilder.py:89: PDBConstructionWarning: WARNING: Chain A is discontinuous at line 987.\n",
      "  warnings.warn(\n",
      "/opt/homebrew/Caskroom/miniforge/base/envs/solennoid_v3/lib/python3.8/site-packages/Bio/PDB/StructureBuilder.py:89: PDBConstructionWarning: WARNING: Chain B is discontinuous at line 1075.\n",
      "  warnings.warn(\n"
     ]
    },
    {
     "name": "stdout",
     "output_type": "stream",
     "text": [
      "(2, 64, 64)\n",
      "(128, 128)\n",
      "ARGMAXED 0.0\n",
      "5po1\n",
      "22\n",
      "122\n",
      "LPAD 34\n",
      "(192, 192)\n",
      "(2, 128, 128, 1)\n",
      "1/1 [==============================] - 0s 30ms/step\n",
      "(2, 64, 64)\n",
      "(128, 128)\n",
      "ARGMAXED 0.0\n",
      "3tcu\n",
      "21\n",
      "92\n",
      "LPAD 49\n",
      "(192, 192)\n",
      "(2, 128, 128, 1)\n",
      "1/1 [==============================] - 0s 29ms/step\n"
     ]
    },
    {
     "name": "stderr",
     "output_type": "stream",
     "text": [
      "/opt/homebrew/Caskroom/miniforge/base/envs/solennoid_v3/lib/python3.8/site-packages/Bio/PDB/StructureBuilder.py:89: PDBConstructionWarning: WARNING: Chain A is discontinuous at line 2063.\n",
      "  warnings.warn(\n",
      "/opt/homebrew/Caskroom/miniforge/base/envs/solennoid_v3/lib/python3.8/site-packages/Bio/PDB/StructureBuilder.py:89: PDBConstructionWarning: WARNING: Chain B is discontinuous at line 2075.\n",
      "  warnings.warn(\n",
      "/opt/homebrew/Caskroom/miniforge/base/envs/solennoid_v3/lib/python3.8/site-packages/Bio/PDB/StructureBuilder.py:89: PDBConstructionWarning: WARNING: Chain A is discontinuous at line 2110.\n",
      "  warnings.warn(\n",
      "/opt/homebrew/Caskroom/miniforge/base/envs/solennoid_v3/lib/python3.8/site-packages/Bio/PDB/StructureBuilder.py:89: PDBConstructionWarning: WARNING: Chain B is discontinuous at line 2227.\n",
      "  warnings.warn(\n",
      "/opt/homebrew/Caskroom/miniforge/base/envs/solennoid_v3/lib/python3.8/site-packages/Bio/PDB/StructureBuilder.py:89: PDBConstructionWarning: WARNING: Chain A is discontinuous at line 1490.\n",
      "  warnings.warn(\n",
      "/opt/homebrew/Caskroom/miniforge/base/envs/solennoid_v3/lib/python3.8/site-packages/Bio/PDB/StructureBuilder.py:89: PDBConstructionWarning: WARNING: Chain B is discontinuous at line 1495.\n",
      "  warnings.warn(\n",
      "/opt/homebrew/Caskroom/miniforge/base/envs/solennoid_v3/lib/python3.8/site-packages/Bio/PDB/StructureBuilder.py:89: PDBConstructionWarning: WARNING: Chain A is discontinuous at line 1499.\n",
      "  warnings.warn(\n",
      "/opt/homebrew/Caskroom/miniforge/base/envs/solennoid_v3/lib/python3.8/site-packages/Bio/PDB/StructureBuilder.py:89: PDBConstructionWarning: WARNING: Chain B is discontinuous at line 1520.\n",
      "  warnings.warn(\n"
     ]
    },
    {
     "name": "stdout",
     "output_type": "stream",
     "text": [
      "(2, 64, 64)\n",
      "(128, 128)\n",
      "ARGMAXED 0.0\n",
      "3wu2\n"
     ]
    },
    {
     "name": "stderr",
     "output_type": "stream",
     "text": [
      "/opt/homebrew/Caskroom/miniforge/base/envs/solennoid_v3/lib/python3.8/site-packages/Bio/PDB/StructureBuilder.py:89: PDBConstructionWarning: WARNING: Chain A is discontinuous at line 41151.\n",
      "  warnings.warn(\n",
      "/opt/homebrew/Caskroom/miniforge/base/envs/solennoid_v3/lib/python3.8/site-packages/Bio/PDB/StructureBuilder.py:89: PDBConstructionWarning: WARNING: Chain B is discontinuous at line 41928.\n",
      "  warnings.warn(\n",
      "/opt/homebrew/Caskroom/miniforge/base/envs/solennoid_v3/lib/python3.8/site-packages/Bio/PDB/StructureBuilder.py:89: PDBConstructionWarning: WARNING: Chain C is discontinuous at line 43416.\n",
      "  warnings.warn(\n",
      "/opt/homebrew/Caskroom/miniforge/base/envs/solennoid_v3/lib/python3.8/site-packages/Bio/PDB/StructureBuilder.py:89: PDBConstructionWarning: WARNING: Chain D is discontinuous at line 44703.\n",
      "  warnings.warn(\n",
      "/opt/homebrew/Caskroom/miniforge/base/envs/solennoid_v3/lib/python3.8/site-packages/Bio/PDB/StructureBuilder.py:89: PDBConstructionWarning: WARNING: Chain E is discontinuous at line 45306.\n",
      "  warnings.warn(\n",
      "/opt/homebrew/Caskroom/miniforge/base/envs/solennoid_v3/lib/python3.8/site-packages/Bio/PDB/StructureBuilder.py:89: PDBConstructionWarning: WARNING: Chain F is discontinuous at line 45382.\n",
      "  warnings.warn(\n",
      "/opt/homebrew/Caskroom/miniforge/base/envs/solennoid_v3/lib/python3.8/site-packages/Bio/PDB/StructureBuilder.py:89: PDBConstructionWarning: WARNING: Chain H is discontinuous at line 45461.\n",
      "  warnings.warn(\n",
      "/opt/homebrew/Caskroom/miniforge/base/envs/solennoid_v3/lib/python3.8/site-packages/Bio/PDB/StructureBuilder.py:89: PDBConstructionWarning: WARNING: Chain I is discontinuous at line 45574.\n",
      "  warnings.warn(\n",
      "/opt/homebrew/Caskroom/miniforge/base/envs/solennoid_v3/lib/python3.8/site-packages/Bio/PDB/StructureBuilder.py:89: PDBConstructionWarning: WARNING: Chain J is discontinuous at line 45598.\n",
      "  warnings.warn(\n",
      "/opt/homebrew/Caskroom/miniforge/base/envs/solennoid_v3/lib/python3.8/site-packages/Bio/PDB/StructureBuilder.py:89: PDBConstructionWarning: WARNING: Chain K is discontinuous at line 45649.\n",
      "  warnings.warn(\n",
      "/opt/homebrew/Caskroom/miniforge/base/envs/solennoid_v3/lib/python3.8/site-packages/Bio/PDB/StructureBuilder.py:89: PDBConstructionWarning: WARNING: Chain L is discontinuous at line 45729.\n",
      "  warnings.warn(\n",
      "/opt/homebrew/Caskroom/miniforge/base/envs/solennoid_v3/lib/python3.8/site-packages/Bio/PDB/StructureBuilder.py:89: PDBConstructionWarning: WARNING: Chain M is discontinuous at line 45852.\n",
      "  warnings.warn(\n",
      "/opt/homebrew/Caskroom/miniforge/base/envs/solennoid_v3/lib/python3.8/site-packages/Bio/PDB/StructureBuilder.py:89: PDBConstructionWarning: WARNING: Chain O is discontinuous at line 45938.\n",
      "  warnings.warn(\n",
      "/opt/homebrew/Caskroom/miniforge/base/envs/solennoid_v3/lib/python3.8/site-packages/Bio/PDB/StructureBuilder.py:89: PDBConstructionWarning: WARNING: Chain T is discontinuous at line 45969.\n",
      "  warnings.warn(\n",
      "/opt/homebrew/Caskroom/miniforge/base/envs/solennoid_v3/lib/python3.8/site-packages/Bio/PDB/StructureBuilder.py:89: PDBConstructionWarning: WARNING: Chain U is discontinuous at line 46022.\n",
      "  warnings.warn(\n",
      "/opt/homebrew/Caskroom/miniforge/base/envs/solennoid_v3/lib/python3.8/site-packages/Bio/PDB/StructureBuilder.py:89: PDBConstructionWarning: WARNING: Chain V is discontinuous at line 46031.\n",
      "  warnings.warn(\n",
      "/opt/homebrew/Caskroom/miniforge/base/envs/solennoid_v3/lib/python3.8/site-packages/Bio/PDB/StructureBuilder.py:89: PDBConstructionWarning: WARNING: Chain X is discontinuous at line 46105.\n",
      "  warnings.warn(\n",
      "/opt/homebrew/Caskroom/miniforge/base/envs/solennoid_v3/lib/python3.8/site-packages/Bio/PDB/StructureBuilder.py:89: PDBConstructionWarning: WARNING: Chain Z is discontinuous at line 46121.\n",
      "  warnings.warn(\n",
      "/opt/homebrew/Caskroom/miniforge/base/envs/solennoid_v3/lib/python3.8/site-packages/Bio/PDB/StructureBuilder.py:89: PDBConstructionWarning: WARNING: Chain a is discontinuous at line 46223.\n",
      "  warnings.warn(\n",
      "/opt/homebrew/Caskroom/miniforge/base/envs/solennoid_v3/lib/python3.8/site-packages/Bio/PDB/StructureBuilder.py:89: PDBConstructionWarning: WARNING: Chain b is discontinuous at line 47031.\n",
      "  warnings.warn(\n",
      "/opt/homebrew/Caskroom/miniforge/base/envs/solennoid_v3/lib/python3.8/site-packages/Bio/PDB/StructureBuilder.py:89: PDBConstructionWarning: WARNING: Chain c is discontinuous at line 48482.\n",
      "  warnings.warn(\n",
      "/opt/homebrew/Caskroom/miniforge/base/envs/solennoid_v3/lib/python3.8/site-packages/Bio/PDB/StructureBuilder.py:89: PDBConstructionWarning: WARNING: Chain d is discontinuous at line 49833.\n",
      "  warnings.warn(\n",
      "/opt/homebrew/Caskroom/miniforge/base/envs/solennoid_v3/lib/python3.8/site-packages/Bio/PDB/StructureBuilder.py:89: PDBConstructionWarning: WARNING: Chain e is discontinuous at line 50341.\n",
      "  warnings.warn(\n",
      "/opt/homebrew/Caskroom/miniforge/base/envs/solennoid_v3/lib/python3.8/site-packages/Bio/PDB/StructureBuilder.py:89: PDBConstructionWarning: WARNING: Chain f is discontinuous at line 50352.\n",
      "  warnings.warn(\n",
      "/opt/homebrew/Caskroom/miniforge/base/envs/solennoid_v3/lib/python3.8/site-packages/Bio/PDB/StructureBuilder.py:89: PDBConstructionWarning: WARNING: Chain h is discontinuous at line 50435.\n",
      "  warnings.warn(\n",
      "/opt/homebrew/Caskroom/miniforge/base/envs/solennoid_v3/lib/python3.8/site-packages/Bio/PDB/StructureBuilder.py:89: PDBConstructionWarning: WARNING: Chain i is discontinuous at line 50544.\n",
      "  warnings.warn(\n",
      "/opt/homebrew/Caskroom/miniforge/base/envs/solennoid_v3/lib/python3.8/site-packages/Bio/PDB/StructureBuilder.py:89: PDBConstructionWarning: WARNING: Chain j is discontinuous at line 50599.\n",
      "  warnings.warn(\n",
      "/opt/homebrew/Caskroom/miniforge/base/envs/solennoid_v3/lib/python3.8/site-packages/Bio/PDB/StructureBuilder.py:89: PDBConstructionWarning: WARNING: Chain k is discontinuous at line 50628.\n",
      "  warnings.warn(\n",
      "/opt/homebrew/Caskroom/miniforge/base/envs/solennoid_v3/lib/python3.8/site-packages/Bio/PDB/StructureBuilder.py:89: PDBConstructionWarning: WARNING: Chain l is discontinuous at line 50708.\n",
      "  warnings.warn(\n",
      "/opt/homebrew/Caskroom/miniforge/base/envs/solennoid_v3/lib/python3.8/site-packages/Bio/PDB/StructureBuilder.py:89: PDBConstructionWarning: WARNING: Chain m is discontinuous at line 50763.\n",
      "  warnings.warn(\n",
      "/opt/homebrew/Caskroom/miniforge/base/envs/solennoid_v3/lib/python3.8/site-packages/Bio/PDB/StructureBuilder.py:89: PDBConstructionWarning: WARNING: Chain o is discontinuous at line 50833.\n",
      "  warnings.warn(\n",
      "/opt/homebrew/Caskroom/miniforge/base/envs/solennoid_v3/lib/python3.8/site-packages/Bio/PDB/StructureBuilder.py:89: PDBConstructionWarning: WARNING: Chain t is discontinuous at line 50834.\n",
      "  warnings.warn(\n",
      "/opt/homebrew/Caskroom/miniforge/base/envs/solennoid_v3/lib/python3.8/site-packages/Bio/PDB/StructureBuilder.py:89: PDBConstructionWarning: WARNING: Chain u is discontinuous at line 50914.\n",
      "  warnings.warn(\n",
      "/opt/homebrew/Caskroom/miniforge/base/envs/solennoid_v3/lib/python3.8/site-packages/Bio/PDB/StructureBuilder.py:89: PDBConstructionWarning: WARNING: Chain v is discontinuous at line 50928.\n",
      "  warnings.warn(\n",
      "/opt/homebrew/Caskroom/miniforge/base/envs/solennoid_v3/lib/python3.8/site-packages/Bio/PDB/StructureBuilder.py:89: PDBConstructionWarning: WARNING: Chain x is discontinuous at line 50989.\n",
      "  warnings.warn(\n",
      "/opt/homebrew/Caskroom/miniforge/base/envs/solennoid_v3/lib/python3.8/site-packages/Bio/PDB/StructureBuilder.py:89: PDBConstructionWarning: WARNING: Chain z is discontinuous at line 51005.\n",
      "  warnings.warn(\n",
      "/opt/homebrew/Caskroom/miniforge/base/envs/solennoid_v3/lib/python3.8/site-packages/Bio/PDB/StructureBuilder.py:89: PDBConstructionWarning: WARNING: Chain A is discontinuous at line 51053.\n",
      "  warnings.warn(\n",
      "/opt/homebrew/Caskroom/miniforge/base/envs/solennoid_v3/lib/python3.8/site-packages/Bio/PDB/StructureBuilder.py:89: PDBConstructionWarning: WARNING: Chain B is discontinuous at line 51223.\n",
      "  warnings.warn(\n",
      "/opt/homebrew/Caskroom/miniforge/base/envs/solennoid_v3/lib/python3.8/site-packages/Bio/PDB/StructureBuilder.py:89: PDBConstructionWarning: WARNING: Chain C is discontinuous at line 51542.\n",
      "  warnings.warn(\n",
      "/opt/homebrew/Caskroom/miniforge/base/envs/solennoid_v3/lib/python3.8/site-packages/Bio/PDB/StructureBuilder.py:89: PDBConstructionWarning: WARNING: Chain D is discontinuous at line 51805.\n",
      "  warnings.warn(\n",
      "/opt/homebrew/Caskroom/miniforge/base/envs/solennoid_v3/lib/python3.8/site-packages/Bio/PDB/StructureBuilder.py:89: PDBConstructionWarning: WARNING: Chain E is discontinuous at line 51966.\n",
      "  warnings.warn(\n",
      "/opt/homebrew/Caskroom/miniforge/base/envs/solennoid_v3/lib/python3.8/site-packages/Bio/PDB/StructureBuilder.py:89: PDBConstructionWarning: WARNING: Chain F is discontinuous at line 52001.\n",
      "  warnings.warn(\n",
      "/opt/homebrew/Caskroom/miniforge/base/envs/solennoid_v3/lib/python3.8/site-packages/Bio/PDB/StructureBuilder.py:89: PDBConstructionWarning: WARNING: Chain H is discontinuous at line 52013.\n",
      "  warnings.warn(\n",
      "/opt/homebrew/Caskroom/miniforge/base/envs/solennoid_v3/lib/python3.8/site-packages/Bio/PDB/StructureBuilder.py:89: PDBConstructionWarning: WARNING: Chain I is discontinuous at line 52065.\n",
      "  warnings.warn(\n",
      "/opt/homebrew/Caskroom/miniforge/base/envs/solennoid_v3/lib/python3.8/site-packages/Bio/PDB/StructureBuilder.py:89: PDBConstructionWarning: WARNING: Chain J is discontinuous at line 52073.\n",
      "  warnings.warn(\n",
      "/opt/homebrew/Caskroom/miniforge/base/envs/solennoid_v3/lib/python3.8/site-packages/Bio/PDB/StructureBuilder.py:89: PDBConstructionWarning: WARNING: Chain K is discontinuous at line 52082.\n",
      "  warnings.warn(\n",
      "/opt/homebrew/Caskroom/miniforge/base/envs/solennoid_v3/lib/python3.8/site-packages/Bio/PDB/StructureBuilder.py:89: PDBConstructionWarning: WARNING: Chain L is discontinuous at line 52090.\n",
      "  warnings.warn(\n",
      "/opt/homebrew/Caskroom/miniforge/base/envs/solennoid_v3/lib/python3.8/site-packages/Bio/PDB/StructureBuilder.py:89: PDBConstructionWarning: WARNING: Chain M is discontinuous at line 52114.\n",
      "  warnings.warn(\n",
      "/opt/homebrew/Caskroom/miniforge/base/envs/solennoid_v3/lib/python3.8/site-packages/Bio/PDB/StructureBuilder.py:89: PDBConstructionWarning: WARNING: Chain O is discontinuous at line 52130.\n",
      "  warnings.warn(\n",
      "/opt/homebrew/Caskroom/miniforge/base/envs/solennoid_v3/lib/python3.8/site-packages/Bio/PDB/StructureBuilder.py:89: PDBConstructionWarning: WARNING: Chain T is discontinuous at line 52332.\n",
      "  warnings.warn(\n",
      "/opt/homebrew/Caskroom/miniforge/base/envs/solennoid_v3/lib/python3.8/site-packages/Bio/PDB/StructureBuilder.py:89: PDBConstructionWarning: WARNING: Chain U is discontinuous at line 52342.\n",
      "  warnings.warn(\n",
      "/opt/homebrew/Caskroom/miniforge/base/envs/solennoid_v3/lib/python3.8/site-packages/Bio/PDB/StructureBuilder.py:89: PDBConstructionWarning: WARNING: Chain V is discontinuous at line 52442.\n",
      "  warnings.warn(\n",
      "/opt/homebrew/Caskroom/miniforge/base/envs/solennoid_v3/lib/python3.8/site-packages/Bio/PDB/StructureBuilder.py:89: PDBConstructionWarning: WARNING: Chain Y is discontinuous at line 52586.\n",
      "  warnings.warn(\n",
      "/opt/homebrew/Caskroom/miniforge/base/envs/solennoid_v3/lib/python3.8/site-packages/Bio/PDB/StructureBuilder.py:89: PDBConstructionWarning: WARNING: Chain X is discontinuous at line 52592.\n",
      "  warnings.warn(\n",
      "/opt/homebrew/Caskroom/miniforge/base/envs/solennoid_v3/lib/python3.8/site-packages/Bio/PDB/StructureBuilder.py:89: PDBConstructionWarning: WARNING: Chain Z is discontinuous at line 52606.\n",
      "  warnings.warn(\n",
      "/opt/homebrew/Caskroom/miniforge/base/envs/solennoid_v3/lib/python3.8/site-packages/Bio/PDB/StructureBuilder.py:89: PDBConstructionWarning: WARNING: Chain a is discontinuous at line 52607.\n",
      "  warnings.warn(\n",
      "/opt/homebrew/Caskroom/miniforge/base/envs/solennoid_v3/lib/python3.8/site-packages/Bio/PDB/StructureBuilder.py:89: PDBConstructionWarning: WARNING: Chain b is discontinuous at line 52762.\n",
      "  warnings.warn(\n",
      "/opt/homebrew/Caskroom/miniforge/base/envs/solennoid_v3/lib/python3.8/site-packages/Bio/PDB/StructureBuilder.py:89: PDBConstructionWarning: WARNING: Chain c is discontinuous at line 53068.\n",
      "  warnings.warn(\n",
      "/opt/homebrew/Caskroom/miniforge/base/envs/solennoid_v3/lib/python3.8/site-packages/Bio/PDB/StructureBuilder.py:89: PDBConstructionWarning: WARNING: Chain d is discontinuous at line 53313.\n",
      "  warnings.warn(\n",
      "/opt/homebrew/Caskroom/miniforge/base/envs/solennoid_v3/lib/python3.8/site-packages/Bio/PDB/StructureBuilder.py:89: PDBConstructionWarning: WARNING: Chain e is discontinuous at line 53473.\n",
      "  warnings.warn(\n",
      "/opt/homebrew/Caskroom/miniforge/base/envs/solennoid_v3/lib/python3.8/site-packages/Bio/PDB/StructureBuilder.py:89: PDBConstructionWarning: WARNING: Chain f is discontinuous at line 53495.\n",
      "  warnings.warn(\n",
      "/opt/homebrew/Caskroom/miniforge/base/envs/solennoid_v3/lib/python3.8/site-packages/Bio/PDB/StructureBuilder.py:89: PDBConstructionWarning: WARNING: Chain h is discontinuous at line 53509.\n",
      "  warnings.warn(\n",
      "/opt/homebrew/Caskroom/miniforge/base/envs/solennoid_v3/lib/python3.8/site-packages/Bio/PDB/StructureBuilder.py:89: PDBConstructionWarning: WARNING: Chain i is discontinuous at line 53562.\n",
      "  warnings.warn(\n",
      "/opt/homebrew/Caskroom/miniforge/base/envs/solennoid_v3/lib/python3.8/site-packages/Bio/PDB/StructureBuilder.py:89: PDBConstructionWarning: WARNING: Chain j is discontinuous at line 53576.\n",
      "  warnings.warn(\n",
      "/opt/homebrew/Caskroom/miniforge/base/envs/solennoid_v3/lib/python3.8/site-packages/Bio/PDB/StructureBuilder.py:89: PDBConstructionWarning: WARNING: Chain k is discontinuous at line 53585.\n",
      "  warnings.warn(\n",
      "/opt/homebrew/Caskroom/miniforge/base/envs/solennoid_v3/lib/python3.8/site-packages/Bio/PDB/StructureBuilder.py:89: PDBConstructionWarning: WARNING: Chain l is discontinuous at line 53590.\n",
      "  warnings.warn(\n",
      "/opt/homebrew/Caskroom/miniforge/base/envs/solennoid_v3/lib/python3.8/site-packages/Bio/PDB/StructureBuilder.py:89: PDBConstructionWarning: WARNING: Chain m is discontinuous at line 53608.\n",
      "  warnings.warn(\n",
      "/opt/homebrew/Caskroom/miniforge/base/envs/solennoid_v3/lib/python3.8/site-packages/Bio/PDB/StructureBuilder.py:89: PDBConstructionWarning: WARNING: Chain o is discontinuous at line 53624.\n",
      "  warnings.warn(\n",
      "/opt/homebrew/Caskroom/miniforge/base/envs/solennoid_v3/lib/python3.8/site-packages/Bio/PDB/StructureBuilder.py:89: PDBConstructionWarning: WARNING: Chain t is discontinuous at line 53799.\n",
      "  warnings.warn(\n",
      "/opt/homebrew/Caskroom/miniforge/base/envs/solennoid_v3/lib/python3.8/site-packages/Bio/PDB/StructureBuilder.py:89: PDBConstructionWarning: WARNING: Chain u is discontinuous at line 53811.\n",
      "  warnings.warn(\n",
      "/opt/homebrew/Caskroom/miniforge/base/envs/solennoid_v3/lib/python3.8/site-packages/Bio/PDB/StructureBuilder.py:89: PDBConstructionWarning: WARNING: Chain v is discontinuous at line 53917.\n",
      "  warnings.warn(\n",
      "/opt/homebrew/Caskroom/miniforge/base/envs/solennoid_v3/lib/python3.8/site-packages/Bio/PDB/StructureBuilder.py:89: PDBConstructionWarning: WARNING: Chain y is discontinuous at line 54021.\n",
      "  warnings.warn(\n",
      "/opt/homebrew/Caskroom/miniforge/base/envs/solennoid_v3/lib/python3.8/site-packages/Bio/PDB/StructureBuilder.py:89: PDBConstructionWarning: WARNING: Chain x is discontinuous at line 54028.\n",
      "  warnings.warn(\n",
      "/opt/homebrew/Caskroom/miniforge/base/envs/solennoid_v3/lib/python3.8/site-packages/Bio/PDB/StructureBuilder.py:89: PDBConstructionWarning: WARNING: Chain z is discontinuous at line 54034.\n",
      "  warnings.warn(\n"
     ]
    },
    {
     "name": "stdout",
     "output_type": "stream",
     "text": [
      "11\n",
      "333\n",
      "LPAD 57\n",
      "(448, 448)\n",
      "(6, 128, 128, 1)\n",
      "1/1 [==============================] - 0s 51ms/step\n",
      "(6, 64, 64)\n",
      "(384, 384)\n",
      "ARGMAXED 0.0\n",
      "5r1l\n",
      "1833\n",
      "236\n",
      "LPAD 41\n",
      "(320, 320)\n",
      "(4, 128, 128, 1)\n",
      "1/1 [==============================] - 0s 39ms/step\n"
     ]
    },
    {
     "name": "stderr",
     "output_type": "stream",
     "text": [
      "/opt/homebrew/Caskroom/miniforge/base/envs/solennoid_v3/lib/python3.8/site-packages/Bio/PDB/StructureBuilder.py:89: PDBConstructionWarning: WARNING: Chain A is discontinuous at line 4570.\n",
      "  warnings.warn(\n",
      "/opt/homebrew/Caskroom/miniforge/base/envs/solennoid_v3/lib/python3.8/site-packages/Bio/PDB/StructureBuilder.py:89: PDBConstructionWarning: WARNING: Chain B is discontinuous at line 4609.\n",
      "  warnings.warn(\n",
      "/opt/homebrew/Caskroom/miniforge/base/envs/solennoid_v3/lib/python3.8/site-packages/Bio/PDB/StructureBuilder.py:89: PDBConstructionWarning: WARNING: Chain A is discontinuous at line 2027.\n",
      "  warnings.warn(\n",
      "/opt/homebrew/Caskroom/miniforge/base/envs/solennoid_v3/lib/python3.8/site-packages/Bio/PDB/StructureBuilder.py:89: PDBConstructionWarning: WARNING: Chain B is discontinuous at line 2039.\n",
      "  warnings.warn(\n",
      "/opt/homebrew/Caskroom/miniforge/base/envs/solennoid_v3/lib/python3.8/site-packages/Bio/PDB/StructureBuilder.py:89: PDBConstructionWarning: WARNING: Chain A is discontinuous at line 2048.\n",
      "  warnings.warn(\n",
      "/opt/homebrew/Caskroom/miniforge/base/envs/solennoid_v3/lib/python3.8/site-packages/Bio/PDB/StructureBuilder.py:89: PDBConstructionWarning: WARNING: Chain B is discontinuous at line 2162.\n",
      "  warnings.warn(\n"
     ]
    },
    {
     "name": "stdout",
     "output_type": "stream",
     "text": [
      "(4, 64, 64)\n",
      "(256, 256)\n",
      "ARGMAXED 3.0\n",
      "5ppw\n",
      "22\n",
      "120\n",
      "LPAD 35\n",
      "(192, 192)\n",
      "(2, 128, 128, 1)\n",
      "1/1 [==============================] - 0s 30ms/step\n",
      "(2, 64, 64)\n",
      "(128, 128)\n",
      "ARGMAXED 0.0\n",
      "4wks\n",
      "30\n",
      "162\n",
      "LPAD 78\n",
      "(320, 320)\n",
      "(4, 128, 128, 1)\n",
      "1/1 [==============================] - 0s 38ms/step\n"
     ]
    },
    {
     "name": "stderr",
     "output_type": "stream",
     "text": [
      "/opt/homebrew/Caskroom/miniforge/base/envs/solennoid_v3/lib/python3.8/site-packages/Bio/PDB/StructureBuilder.py:89: PDBConstructionWarning: WARNING: Chain C is discontinuous at line 5587.\n",
      "  warnings.warn(\n",
      "/opt/homebrew/Caskroom/miniforge/base/envs/solennoid_v3/lib/python3.8/site-packages/Bio/PDB/StructureBuilder.py:89: PDBConstructionWarning: WARNING: Chain A is discontinuous at line 6153.\n",
      "  warnings.warn(\n"
     ]
    },
    {
     "name": "stdout",
     "output_type": "stream",
     "text": [
      "(4, 64, 64)\n",
      "(256, 256)\n",
      "ARGMAXED 0.0\n",
      "4zq8\n"
     ]
    },
    {
     "name": "stderr",
     "output_type": "stream",
     "text": [
      "/opt/homebrew/Caskroom/miniforge/base/envs/solennoid_v3/lib/python3.8/site-packages/Bio/PDB/StructureBuilder.py:89: PDBConstructionWarning: WARNING: Chain A is discontinuous at line 5092.\n",
      "  warnings.warn(\n",
      "/opt/homebrew/Caskroom/miniforge/base/envs/solennoid_v3/lib/python3.8/site-packages/Bio/PDB/StructureBuilder.py:89: PDBConstructionWarning: WARNING: Chain B is discontinuous at line 5447.\n",
      "  warnings.warn(\n"
     ]
    },
    {
     "name": "stdout",
     "output_type": "stream",
     "text": [
      "28\n",
      "324\n",
      "LPAD 61\n",
      "(448, 448)\n",
      "(6, 128, 128, 1)\n",
      "1/1 [==============================] - 0s 49ms/step\n",
      "(6, 64, 64)\n",
      "(384, 384)\n",
      "ARGMAXED 0.0\n",
      "4eko\n",
      "1\n",
      "206\n",
      "LPAD 56\n",
      "(320, 320)\n",
      "(4, 128, 128, 1)\n",
      "1/1 [==============================] - 0s 39ms/step\n",
      "(4, 64, 64)\n",
      "(256, 256)\n",
      "ARGMAXED 0.0\n",
      "4f6i\n",
      "0\n",
      "109\n",
      "LPAD 41\n",
      "(192, 192)\n",
      "(2, 128, 128, 1)\n",
      "1/1 [==============================] - 0s 30ms/step\n",
      "(2, 64, 64)\n",
      "(128, 128)\n",
      "ARGMAXED 0.0\n",
      "3tlo\n",
      "1\n",
      "301\n",
      "LPAD 73\n"
     ]
    },
    {
     "name": "stderr",
     "output_type": "stream",
     "text": [
      "/opt/homebrew/Caskroom/miniforge/base/envs/solennoid_v3/lib/python3.8/site-packages/Bio/PDB/StructureBuilder.py:89: PDBConstructionWarning: WARNING: Chain A is discontinuous at line 4611.\n",
      "  warnings.warn(\n",
      "/opt/homebrew/Caskroom/miniforge/base/envs/solennoid_v3/lib/python3.8/site-packages/Bio/PDB/StructureBuilder.py:89: PDBConstructionWarning: WARNING: Chain B is discontinuous at line 4630.\n",
      "  warnings.warn(\n",
      "/opt/homebrew/Caskroom/miniforge/base/envs/solennoid_v3/lib/python3.8/site-packages/Bio/PDB/StructureBuilder.py:89: PDBConstructionWarning: WARNING: Chain A is discontinuous at line 4648.\n",
      "  warnings.warn(\n",
      "/opt/homebrew/Caskroom/miniforge/base/envs/solennoid_v3/lib/python3.8/site-packages/Bio/PDB/StructureBuilder.py:89: PDBConstructionWarning: WARNING: Chain B is discontinuous at line 5034.\n",
      "  warnings.warn(\n"
     ]
    },
    {
     "name": "stdout",
     "output_type": "stream",
     "text": [
      "(448, 448)\n",
      "(6, 128, 128, 1)\n",
      "1/1 [==============================] - 0s 47ms/step\n",
      "(6, 64, 64)\n",
      "(384, 384)\n",
      "ARGMAXED 3.0\n",
      "5vzh\n",
      "138\n"
     ]
    },
    {
     "name": "stderr",
     "output_type": "stream",
     "text": [
      "/opt/homebrew/Caskroom/miniforge/base/envs/solennoid_v3/lib/python3.8/site-packages/Bio/PDB/StructureBuilder.py:89: PDBConstructionWarning: WARNING: Chain A is discontinuous at line 3027.\n",
      "  warnings.warn(\n",
      "/opt/homebrew/Caskroom/miniforge/base/envs/solennoid_v3/lib/python3.8/site-packages/Bio/PDB/StructureBuilder.py:89: PDBConstructionWarning: WARNING: Chain T is discontinuous at line 3298.\n",
      "  warnings.warn(\n",
      "/opt/homebrew/Caskroom/miniforge/base/envs/solennoid_v3/lib/python3.8/site-packages/Bio/PDB/StructureBuilder.py:89: PDBConstructionWarning: WARNING: Chain P is discontinuous at line 3318.\n",
      "  warnings.warn(\n",
      "/opt/homebrew/Caskroom/miniforge/base/envs/solennoid_v3/lib/python3.8/site-packages/Bio/PDB/StructureBuilder.py:89: PDBConstructionWarning: WARNING: Chain D is discontinuous at line 3329.\n",
      "  warnings.warn(\n"
     ]
    },
    {
     "name": "stdout",
     "output_type": "stream",
     "text": [
      "356\n",
      "LPAD 45\n",
      "(448, 448)\n",
      "(6, 128, 128, 1)\n",
      "1/1 [==============================] - 0s 46ms/step\n",
      "(6, 64, 64)\n",
      "(384, 384)\n",
      "ARGMAXED 3.0\n",
      "4qxc\n",
      "36\n"
     ]
    },
    {
     "name": "stderr",
     "output_type": "stream",
     "text": [
      "/opt/homebrew/Caskroom/miniforge/base/envs/solennoid_v3/lib/python3.8/site-packages/Bio/PDB/StructureBuilder.py:89: PDBConstructionWarning: WARNING: Chain A is discontinuous at line 6732.\n",
      "  warnings.warn(\n",
      "/opt/homebrew/Caskroom/miniforge/base/envs/solennoid_v3/lib/python3.8/site-packages/Bio/PDB/StructureBuilder.py:89: PDBConstructionWarning: WARNING: Chain C is discontinuous at line 6743.\n",
      "  warnings.warn(\n",
      "/opt/homebrew/Caskroom/miniforge/base/envs/solennoid_v3/lib/python3.8/site-packages/Bio/PDB/StructureBuilder.py:89: PDBConstructionWarning: WARNING: Chain A is discontinuous at line 6754.\n",
      "  warnings.warn(\n",
      "/opt/homebrew/Caskroom/miniforge/base/envs/solennoid_v3/lib/python3.8/site-packages/Bio/PDB/StructureBuilder.py:89: PDBConstructionWarning: WARNING: Chain B is discontinuous at line 6962.\n",
      "  warnings.warn(\n",
      "/opt/homebrew/Caskroom/miniforge/base/envs/solennoid_v3/lib/python3.8/site-packages/Bio/PDB/StructureBuilder.py:89: PDBConstructionWarning: WARNING: Chain C is discontinuous at line 7004.\n",
      "  warnings.warn(\n",
      "/opt/homebrew/Caskroom/miniforge/base/envs/solennoid_v3/lib/python3.8/site-packages/Bio/PDB/StructureBuilder.py:89: PDBConstructionWarning: WARNING: Chain D is discontinuous at line 7166.\n",
      "  warnings.warn(\n",
      "/opt/homebrew/Caskroom/miniforge/base/envs/solennoid_v3/lib/python3.8/site-packages/Bio/PDB/StructureBuilder.py:89: PDBConstructionWarning: WARNING: Chain E is discontinuous at line 7188.\n",
      "  warnings.warn(\n",
      "/opt/homebrew/Caskroom/miniforge/base/envs/solennoid_v3/lib/python3.8/site-packages/Bio/PDB/StructureBuilder.py:89: PDBConstructionWarning: WARNING: Chain F is discontinuous at line 7196.\n",
      "  warnings.warn(\n"
     ]
    },
    {
     "name": "stdout",
     "output_type": "stream",
     "text": [
      "328\n",
      "LPAD 59\n",
      "(448, 448)\n",
      "(6, 128, 128, 1)\n",
      "1/1 [==============================] - 0s 46ms/step\n",
      "(6, 64, 64)\n",
      "(384, 384)\n",
      "ARGMAXED 0.0\n",
      "5pzj\n",
      "701\n",
      "177\n",
      "LPAD 71\n",
      "(320, 320)\n",
      "(4, 128, 128, 1)\n",
      "1/1 [==============================] - 0s 39ms/step\n"
     ]
    },
    {
     "name": "stderr",
     "output_type": "stream",
     "text": [
      "/opt/homebrew/Caskroom/miniforge/base/envs/solennoid_v3/lib/python3.8/site-packages/Bio/PDB/StructureBuilder.py:89: PDBConstructionWarning: WARNING: Chain A is discontinuous at line 3016.\n",
      "  warnings.warn(\n",
      "/opt/homebrew/Caskroom/miniforge/base/envs/solennoid_v3/lib/python3.8/site-packages/Bio/PDB/StructureBuilder.py:89: PDBConstructionWarning: WARNING: Chain B is discontinuous at line 3035.\n",
      "  warnings.warn(\n",
      "/opt/homebrew/Caskroom/miniforge/base/envs/solennoid_v3/lib/python3.8/site-packages/Bio/PDB/StructureBuilder.py:89: PDBConstructionWarning: WARNING: Chain A is discontinuous at line 3041.\n",
      "  warnings.warn(\n",
      "/opt/homebrew/Caskroom/miniforge/base/envs/solennoid_v3/lib/python3.8/site-packages/Bio/PDB/StructureBuilder.py:89: PDBConstructionWarning: WARNING: Chain B is discontinuous at line 3355.\n",
      "  warnings.warn(\n"
     ]
    },
    {
     "name": "stdout",
     "output_type": "stream",
     "text": [
      "(4, 64, 64)\n",
      "(256, 256)\n",
      "ARGMAXED 0.0\n",
      "5zhb\n"
     ]
    },
    {
     "name": "stderr",
     "output_type": "stream",
     "text": [
      "/opt/homebrew/Caskroom/miniforge/base/envs/solennoid_v3/lib/python3.8/site-packages/Bio/PDB/StructureBuilder.py:89: PDBConstructionWarning: WARNING: Chain A is discontinuous at line 6466.\n",
      "  warnings.warn(\n",
      "/opt/homebrew/Caskroom/miniforge/base/envs/solennoid_v3/lib/python3.8/site-packages/Bio/PDB/StructureBuilder.py:89: PDBConstructionWarning: WARNING: Chain B is discontinuous at line 6494.\n",
      "  warnings.warn(\n"
     ]
    },
    {
     "name": "stdout",
     "output_type": "stream",
     "text": [
      "1\n",
      "388\n",
      "LPAD 93\n",
      "(576, 576)\n",
      "(8, 128, 128, 1)\n",
      "1/1 [==============================] - 0s 56ms/step\n",
      "(8, 64, 64)\n",
      "(512, 512)\n",
      "ARGMAXED 0.0\n",
      "4hy9\n",
      "389\n",
      "212\n",
      "LPAD 53\n",
      "(320, 320)\n",
      "(4, 128, 128, 1)\n",
      "1/1 [==============================] - 0s 39ms/step\n"
     ]
    },
    {
     "name": "stderr",
     "output_type": "stream",
     "text": [
      "/opt/homebrew/Caskroom/miniforge/base/envs/solennoid_v3/lib/python3.8/site-packages/Bio/PDB/StructureBuilder.py:89: PDBConstructionWarning: WARNING: Chain A is discontinuous at line 3440.\n",
      "  warnings.warn(\n",
      "/opt/homebrew/Caskroom/miniforge/base/envs/solennoid_v3/lib/python3.8/site-packages/Bio/PDB/StructureBuilder.py:89: PDBConstructionWarning: WARNING: Chain B is discontinuous at line 3445.\n",
      "  warnings.warn(\n",
      "/opt/homebrew/Caskroom/miniforge/base/envs/solennoid_v3/lib/python3.8/site-packages/Bio/PDB/StructureBuilder.py:89: PDBConstructionWarning: WARNING: Chain C is discontinuous at line 3455.\n",
      "  warnings.warn(\n",
      "/opt/homebrew/Caskroom/miniforge/base/envs/solennoid_v3/lib/python3.8/site-packages/Bio/PDB/StructureBuilder.py:89: PDBConstructionWarning: WARNING: Chain A is discontinuous at line 3460.\n",
      "  warnings.warn(\n",
      "/opt/homebrew/Caskroom/miniforge/base/envs/solennoid_v3/lib/python3.8/site-packages/Bio/PDB/StructureBuilder.py:89: PDBConstructionWarning: WARNING: Chain B is discontinuous at line 3652.\n",
      "  warnings.warn(\n",
      "/opt/homebrew/Caskroom/miniforge/base/envs/solennoid_v3/lib/python3.8/site-packages/Bio/PDB/StructureBuilder.py:89: PDBConstructionWarning: WARNING: Chain C is discontinuous at line 3829.\n",
      "  warnings.warn(\n",
      "/opt/homebrew/Caskroom/miniforge/base/envs/solennoid_v3/lib/python3.8/site-packages/Bio/PDB/StructureBuilder.py:89: PDBConstructionWarning: WARNING: Chain D is discontinuous at line 3843.\n",
      "  warnings.warn(\n"
     ]
    },
    {
     "name": "stdout",
     "output_type": "stream",
     "text": [
      "(4, 64, 64)\n",
      "(256, 256)\n",
      "ARGMAXED 3.0\n",
      "5py7\n",
      "701\n",
      "177\n",
      "LPAD 71\n",
      "(320, 320)\n",
      "(4, 128, 128, 1)\n",
      "1/1 [==============================] - 0s 39ms/step\n"
     ]
    },
    {
     "name": "stderr",
     "output_type": "stream",
     "text": [
      "/opt/homebrew/Caskroom/miniforge/base/envs/solennoid_v3/lib/python3.8/site-packages/Bio/PDB/StructureBuilder.py:89: PDBConstructionWarning: WARNING: Chain A is discontinuous at line 3016.\n",
      "  warnings.warn(\n",
      "/opt/homebrew/Caskroom/miniforge/base/envs/solennoid_v3/lib/python3.8/site-packages/Bio/PDB/StructureBuilder.py:89: PDBConstructionWarning: WARNING: Chain B is discontinuous at line 3035.\n",
      "  warnings.warn(\n",
      "/opt/homebrew/Caskroom/miniforge/base/envs/solennoid_v3/lib/python3.8/site-packages/Bio/PDB/StructureBuilder.py:89: PDBConstructionWarning: WARNING: Chain A is discontinuous at line 3041.\n",
      "  warnings.warn(\n",
      "/opt/homebrew/Caskroom/miniforge/base/envs/solennoid_v3/lib/python3.8/site-packages/Bio/PDB/StructureBuilder.py:89: PDBConstructionWarning: WARNING: Chain B is discontinuous at line 3354.\n",
      "  warnings.warn(\n",
      "/opt/homebrew/Caskroom/miniforge/base/envs/solennoid_v3/lib/python3.8/site-packages/Bio/PDB/StructureBuilder.py:89: PDBConstructionWarning: WARNING: Chain A is discontinuous at line 1194.\n",
      "  warnings.warn(\n"
     ]
    },
    {
     "name": "stdout",
     "output_type": "stream",
     "text": [
      "(4, 64, 64)\n",
      "(256, 256)\n",
      "ARGMAXED 0.0\n",
      "3oeb\n",
      "1\n",
      "143\n",
      "LPAD 88\n",
      "(320, 320)\n",
      "(4, 128, 128, 1)\n",
      "1/1 [==============================] - 0s 39ms/step\n",
      "(4, 64, 64)\n",
      "(256, 256)\n",
      "ARGMAXED 0.0\n",
      "4ohy\n",
      "3\n",
      "420\n",
      "LPAD 77\n"
     ]
    },
    {
     "name": "stderr",
     "output_type": "stream",
     "text": [
      "/opt/homebrew/Caskroom/miniforge/base/envs/solennoid_v3/lib/python3.8/site-packages/Bio/PDB/StructureBuilder.py:89: PDBConstructionWarning: WARNING: Chain A is discontinuous at line 3249.\n",
      "  warnings.warn(\n",
      "/opt/homebrew/Caskroom/miniforge/base/envs/solennoid_v3/lib/python3.8/site-packages/Bio/PDB/StructureBuilder.py:89: PDBConstructionWarning: WARNING: Chain B is discontinuous at line 3438.\n",
      "  warnings.warn(\n"
     ]
    },
    {
     "name": "stdout",
     "output_type": "stream",
     "text": [
      "(576, 576)\n",
      "(8, 128, 128, 1)\n",
      "1/1 [==============================] - 0s 57ms/step\n",
      "(8, 64, 64)\n",
      "(512, 512)\n",
      "ARGMAXED 0.0\n",
      "3kqr\n",
      "1\n",
      "699\n",
      "LPAD 66\n",
      "(832, 832)\n",
      "(12, 128, 128, 1)\n",
      "1/1 [==============================] - 0s 74ms/step\n"
     ]
    },
    {
     "name": "stderr",
     "output_type": "stream",
     "text": [
      "/opt/homebrew/Caskroom/miniforge/base/envs/solennoid_v3/lib/python3.8/site-packages/Bio/PDB/StructureBuilder.py:89: PDBConstructionWarning: WARNING: Chain A is discontinuous at line 17064.\n",
      "  warnings.warn(\n",
      "/opt/homebrew/Caskroom/miniforge/base/envs/solennoid_v3/lib/python3.8/site-packages/Bio/PDB/StructureBuilder.py:89: PDBConstructionWarning: WARNING: Chain B is discontinuous at line 17101.\n",
      "  warnings.warn(\n",
      "/opt/homebrew/Caskroom/miniforge/base/envs/solennoid_v3/lib/python3.8/site-packages/Bio/PDB/StructureBuilder.py:89: PDBConstructionWarning: WARNING: Chain C is discontinuous at line 17138.\n",
      "  warnings.warn(\n",
      "/opt/homebrew/Caskroom/miniforge/base/envs/solennoid_v3/lib/python3.8/site-packages/Bio/PDB/StructureBuilder.py:89: PDBConstructionWarning: WARNING: Chain D is discontinuous at line 17175.\n",
      "  warnings.warn(\n",
      "/opt/homebrew/Caskroom/miniforge/base/envs/solennoid_v3/lib/python3.8/site-packages/Bio/PDB/StructureBuilder.py:89: PDBConstructionWarning: WARNING: Chain E is discontinuous at line 17212.\n",
      "  warnings.warn(\n",
      "/opt/homebrew/Caskroom/miniforge/base/envs/solennoid_v3/lib/python3.8/site-packages/Bio/PDB/StructureBuilder.py:89: PDBConstructionWarning: WARNING: Chain A is discontinuous at line 17249.\n",
      "  warnings.warn(\n",
      "/opt/homebrew/Caskroom/miniforge/base/envs/solennoid_v3/lib/python3.8/site-packages/Bio/PDB/StructureBuilder.py:89: PDBConstructionWarning: WARNING: Chain B is discontinuous at line 17491.\n",
      "  warnings.warn(\n",
      "/opt/homebrew/Caskroom/miniforge/base/envs/solennoid_v3/lib/python3.8/site-packages/Bio/PDB/StructureBuilder.py:89: PDBConstructionWarning: WARNING: Chain C is discontinuous at line 17798.\n",
      "  warnings.warn(\n",
      "/opt/homebrew/Caskroom/miniforge/base/envs/solennoid_v3/lib/python3.8/site-packages/Bio/PDB/StructureBuilder.py:89: PDBConstructionWarning: WARNING: Chain D is discontinuous at line 18104.\n",
      "  warnings.warn(\n",
      "/opt/homebrew/Caskroom/miniforge/base/envs/solennoid_v3/lib/python3.8/site-packages/Bio/PDB/StructureBuilder.py:89: PDBConstructionWarning: WARNING: Chain E is discontinuous at line 18392.\n",
      "  warnings.warn(\n"
     ]
    },
    {
     "name": "stdout",
     "output_type": "stream",
     "text": [
      "(12, 64, 64)\n",
      "(768, 768)\n",
      "ARGMAXED 1.0\n",
      "4ht8\n",
      "5\n",
      "60\n",
      "LPAD 65\n",
      "(192, 192)\n",
      "(2, 128, 128, 1)\n",
      "1/1 [==============================] - 0s 30ms/step\n",
      "(2, 64, 64)\n",
      "(128, 128)\n",
      "ARGMAXED 0.0\n",
      "4rkb\n",
      "7\n",
      "134\n",
      "LPAD 92\n",
      "(320, 320)\n",
      "(4, 128, 128, 1)\n",
      "1/1 [==============================] - 0s 39ms/step\n"
     ]
    },
    {
     "name": "stderr",
     "output_type": "stream",
     "text": [
      "/opt/homebrew/Caskroom/miniforge/base/envs/solennoid_v3/lib/python3.8/site-packages/Bio/PDB/StructureBuilder.py:89: PDBConstructionWarning: WARNING: Chain A is discontinuous at line 3104.\n",
      "  warnings.warn(\n",
      "/opt/homebrew/Caskroom/miniforge/base/envs/solennoid_v3/lib/python3.8/site-packages/Bio/PDB/StructureBuilder.py:89: PDBConstructionWarning: WARNING: Chain B is discontinuous at line 3141.\n",
      "  warnings.warn(\n",
      "/opt/homebrew/Caskroom/miniforge/base/envs/solennoid_v3/lib/python3.8/site-packages/Bio/PDB/StructureBuilder.py:89: PDBConstructionWarning: WARNING: Chain C is discontinuous at line 3173.\n",
      "  warnings.warn(\n",
      "/opt/homebrew/Caskroom/miniforge/base/envs/solennoid_v3/lib/python3.8/site-packages/Bio/PDB/StructureBuilder.py:89: PDBConstructionWarning: WARNING: Chain D is discontinuous at line 3189.\n",
      "  warnings.warn(\n",
      "/opt/homebrew/Caskroom/miniforge/base/envs/solennoid_v3/lib/python3.8/site-packages/Bio/PDB/StructureBuilder.py:89: PDBConstructionWarning: WARNING: Chain E is discontinuous at line 3208.\n",
      "  warnings.warn(\n",
      "/opt/homebrew/Caskroom/miniforge/base/envs/solennoid_v3/lib/python3.8/site-packages/Bio/PDB/StructureBuilder.py:89: PDBConstructionWarning: WARNING: Chain F is discontinuous at line 3236.\n",
      "  warnings.warn(\n",
      "/opt/homebrew/Caskroom/miniforge/base/envs/solennoid_v3/lib/python3.8/site-packages/Bio/PDB/StructureBuilder.py:89: PDBConstructionWarning: WARNING: Chain I is discontinuous at line 3265.\n",
      "  warnings.warn(\n",
      "/opt/homebrew/Caskroom/miniforge/base/envs/solennoid_v3/lib/python3.8/site-packages/Bio/PDB/StructureBuilder.py:89: PDBConstructionWarning: WARNING: Chain K is discontinuous at line 3281.\n",
      "  warnings.warn(\n"
     ]
    },
    {
     "name": "stdout",
     "output_type": "stream",
     "text": [
      "(4, 64, 64)\n",
      "(256, 256)\n",
      "ARGMAXED 0.0\n",
      "3r69\n",
      "240\n",
      "87\n",
      "LPAD 52\n",
      "(192, 192)\n",
      "(2, 128, 128, 1)\n",
      "1/1 [==============================] - 0s 30ms/step\n",
      "(2, 64, 64)\n",
      "(128, 128)\n",
      "ARGMAXED 0.0\n",
      "4hdo\n"
     ]
    },
    {
     "name": "stderr",
     "output_type": "stream",
     "text": [
      "/opt/homebrew/Caskroom/miniforge/base/envs/solennoid_v3/lib/python3.8/site-packages/Bio/PDB/StructureBuilder.py:89: PDBConstructionWarning: WARNING: Chain A is discontinuous at line 1334.\n",
      "  warnings.warn(\n",
      "/opt/homebrew/Caskroom/miniforge/base/envs/solennoid_v3/lib/python3.8/site-packages/Bio/PDB/StructureBuilder.py:89: PDBConstructionWarning: WARNING: Chain B is discontinuous at line 1408.\n",
      "  warnings.warn(\n",
      "/opt/homebrew/Caskroom/miniforge/base/envs/solennoid_v3/lib/python3.8/site-packages/Bio/PDB/StructureBuilder.py:89: PDBConstructionWarning: WARNING: Chain A is discontinuous at line 3860.\n",
      "  warnings.warn(\n",
      "/opt/homebrew/Caskroom/miniforge/base/envs/solennoid_v3/lib/python3.8/site-packages/Bio/PDB/StructureBuilder.py:89: PDBConstructionWarning: WARNING: Chain B is discontinuous at line 3866.\n",
      "  warnings.warn(\n",
      "/opt/homebrew/Caskroom/miniforge/base/envs/solennoid_v3/lib/python3.8/site-packages/Bio/PDB/StructureBuilder.py:89: PDBConstructionWarning: WARNING: Chain A is discontinuous at line 3899.\n",
      "  warnings.warn(\n",
      "/opt/homebrew/Caskroom/miniforge/base/envs/solennoid_v3/lib/python3.8/site-packages/Bio/PDB/StructureBuilder.py:89: PDBConstructionWarning: WARNING: Chain B is discontinuous at line 4064.\n",
      "  warnings.warn(\n"
     ]
    },
    {
     "name": "stdout",
     "output_type": "stream",
     "text": [
      "417\n",
      "313\n",
      "LPAD 67\n",
      "(448, 448)\n",
      "(6, 128, 128, 1)\n",
      "1/1 [==============================] - 0s 47ms/step\n",
      "(6, 64, 64)\n",
      "(384, 384)\n",
      "ARGMAXED 3.0\n",
      "5tfl\n",
      "645\n",
      "216\n",
      "LPAD 51\n",
      "(320, 320)\n",
      "(4, 128, 128, 1)\n",
      "1/1 [==============================] - 0s 38ms/step\n"
     ]
    },
    {
     "name": "stderr",
     "output_type": "stream",
     "text": [
      "/opt/homebrew/Caskroom/miniforge/base/envs/solennoid_v3/lib/python3.8/site-packages/Bio/PDB/StructureBuilder.py:89: PDBConstructionWarning: WARNING: Chain A is discontinuous at line 3084.\n",
      "  warnings.warn(\n",
      "/opt/homebrew/Caskroom/miniforge/base/envs/solennoid_v3/lib/python3.8/site-packages/Bio/PDB/StructureBuilder.py:89: PDBConstructionWarning: WARNING: Chain B is discontinuous at line 3087.\n",
      "  warnings.warn(\n",
      "/opt/homebrew/Caskroom/miniforge/base/envs/solennoid_v3/lib/python3.8/site-packages/Bio/PDB/StructureBuilder.py:89: PDBConstructionWarning: WARNING: Chain A is discontinuous at line 3090.\n",
      "  warnings.warn(\n"
     ]
    },
    {
     "name": "stdout",
     "output_type": "stream",
     "text": [
      "(4, 64, 64)\n",
      "(256, 256)\n",
      "ARGMAXED 0.0\n",
      "5to2\n",
      "15\n",
      "120\n",
      "LPAD 35\n",
      "(192, 192)\n",
      "(2, 128, 128, 1)\n",
      "1/1 [==============================] - 0s 29ms/step\n"
     ]
    },
    {
     "name": "stderr",
     "output_type": "stream",
     "text": [
      "/opt/homebrew/Caskroom/miniforge/base/envs/solennoid_v3/lib/python3.8/site-packages/Bio/PDB/StructureBuilder.py:89: PDBConstructionWarning: WARNING: Chain A is discontinuous at line 3625.\n",
      "  warnings.warn(\n",
      "/opt/homebrew/Caskroom/miniforge/base/envs/solennoid_v3/lib/python3.8/site-packages/Bio/PDB/StructureBuilder.py:89: PDBConstructionWarning: WARNING: Chain B is discontinuous at line 3687.\n",
      "  warnings.warn(\n",
      "/opt/homebrew/Caskroom/miniforge/base/envs/solennoid_v3/lib/python3.8/site-packages/Bio/PDB/StructureBuilder.py:89: PDBConstructionWarning: WARNING: Chain C is discontinuous at line 3754.\n",
      "  warnings.warn(\n",
      "/opt/homebrew/Caskroom/miniforge/base/envs/solennoid_v3/lib/python3.8/site-packages/Bio/PDB/StructureBuilder.py:89: PDBConstructionWarning: WARNING: Chain D is discontinuous at line 3829.\n",
      "  warnings.warn(\n"
     ]
    },
    {
     "name": "stdout",
     "output_type": "stream",
     "text": [
      "(2, 64, 64)\n",
      "(128, 128)\n",
      "ARGMAXED 0.0\n",
      "5rfa\n",
      "1\n",
      "300\n",
      "LPAD 73\n",
      "(448, 448)\n",
      "(6, 128, 128, 1)\n",
      "1/1 [==============================] - 0s 47ms/step\n",
      "(6, 64, 64)\n",
      "(384, 384)\n",
      "ARGMAXED 3.0\n",
      "4eko\n",
      "1\n",
      "206\n",
      "LPAD 56\n",
      "(320, 320)\n",
      "(4, 128, 128, 1)\n",
      "1/1 [==============================] - 0s 38ms/step\n",
      "(4, 64, 64)\n",
      "(256, 256)\n",
      "ARGMAXED 0.0\n",
      "4r8h\n",
      "9\n",
      "199\n",
      "LPAD 60\n",
      "(320, 320)\n",
      "(4, 128, 128, 1)\n",
      "1/1 [==============================] - 0s 39ms/step\n"
     ]
    },
    {
     "name": "stderr",
     "output_type": "stream",
     "text": [
      "/opt/homebrew/Caskroom/miniforge/base/envs/solennoid_v3/lib/python3.8/site-packages/Bio/PDB/StructureBuilder.py:89: PDBConstructionWarning: WARNING: Chain A is discontinuous at line 3126.\n",
      "  warnings.warn(\n",
      "/opt/homebrew/Caskroom/miniforge/base/envs/solennoid_v3/lib/python3.8/site-packages/Bio/PDB/StructureBuilder.py:89: PDBConstructionWarning: WARNING: Chain B is discontinuous at line 3200.\n",
      "  warnings.warn(\n",
      "/opt/homebrew/Caskroom/miniforge/base/envs/solennoid_v3/lib/python3.8/site-packages/Bio/PDB/StructureBuilder.py:89: PDBConstructionWarning: WARNING: Chain A is discontinuous at line 3256.\n",
      "  warnings.warn(\n",
      "/opt/homebrew/Caskroom/miniforge/base/envs/solennoid_v3/lib/python3.8/site-packages/Bio/PDB/StructureBuilder.py:89: PDBConstructionWarning: WARNING: Chain B is discontinuous at line 3394.\n",
      "  warnings.warn(\n"
     ]
    },
    {
     "name": "stdout",
     "output_type": "stream",
     "text": [
      "(4, 64, 64)\n",
      "(256, 256)\n",
      "ARGMAXED 0.0\n",
      "6at2\n",
      "6\n",
      "536\n",
      "LPAD 83\n",
      "(704, 704)\n",
      "(10, 128, 128, 1)\n",
      "1/1 [==============================] - 0s 66ms/step\n",
      "(10, 64, 64)\n",
      "(640, 640)\n",
      "ARGMAXED 3.0\n",
      "4f87\n",
      "10\n",
      "60\n",
      "LPAD 65\n",
      "(192, 192)\n",
      "(2, 128, 128, 1)\n",
      "1/1 [==============================] - 0s 30ms/step\n",
      "(2, 64, 64)\n",
      "(128, 128)\n",
      "ARGMAXED 0.0\n",
      "5ple\n"
     ]
    },
    {
     "name": "stderr",
     "output_type": "stream",
     "text": [
      "/opt/homebrew/Caskroom/miniforge/base/envs/solennoid_v3/lib/python3.8/site-packages/Bio/PDB/StructureBuilder.py:89: PDBConstructionWarning: WARNING: Chain B is discontinuous at line 1891.\n",
      "  warnings.warn(\n",
      "/opt/homebrew/Caskroom/miniforge/base/envs/solennoid_v3/lib/python3.8/site-packages/Bio/PDB/StructureBuilder.py:89: PDBConstructionWarning: WARNING: Chain D is discontinuous at line 1899.\n",
      "  warnings.warn(\n",
      "/opt/homebrew/Caskroom/miniforge/base/envs/solennoid_v3/lib/python3.8/site-packages/Bio/PDB/StructureBuilder.py:89: PDBConstructionWarning: WARNING: Chain A is discontinuous at line 1907.\n",
      "  warnings.warn(\n",
      "/opt/homebrew/Caskroom/miniforge/base/envs/solennoid_v3/lib/python3.8/site-packages/Bio/PDB/StructureBuilder.py:89: PDBConstructionWarning: WARNING: Chain B is discontinuous at line 1995.\n",
      "  warnings.warn(\n",
      "/opt/homebrew/Caskroom/miniforge/base/envs/solennoid_v3/lib/python3.8/site-packages/Bio/PDB/StructureBuilder.py:89: PDBConstructionWarning: WARNING: Chain C is discontinuous at line 2079.\n",
      "  warnings.warn(\n",
      "/opt/homebrew/Caskroom/miniforge/base/envs/solennoid_v3/lib/python3.8/site-packages/Bio/PDB/StructureBuilder.py:89: PDBConstructionWarning: WARNING: Chain D is discontinuous at line 2183.\n",
      "  warnings.warn(\n"
     ]
    },
    {
     "name": "stdout",
     "output_type": "stream",
     "text": [
      "11\n",
      "330\n",
      "LPAD 58\n",
      "(448, 448)\n",
      "(6, 128, 128, 1)\n",
      "1/1 [==============================] - 0s 47ms/step\n",
      "(6, 64, 64)\n",
      "(384, 384)\n",
      "ARGMAXED 0.0\n",
      "4wkt\n"
     ]
    },
    {
     "name": "stderr",
     "output_type": "stream",
     "text": [
      "/opt/homebrew/Caskroom/miniforge/base/envs/solennoid_v3/lib/python3.8/site-packages/Bio/PDB/StructureBuilder.py:89: PDBConstructionWarning: WARNING: Chain C is discontinuous at line 5591.\n",
      "  warnings.warn(\n",
      "/opt/homebrew/Caskroom/miniforge/base/envs/solennoid_v3/lib/python3.8/site-packages/Bio/PDB/StructureBuilder.py:89: PDBConstructionWarning: WARNING: Chain A is discontinuous at line 5675.\n",
      "  warnings.warn(\n",
      "/opt/homebrew/Caskroom/miniforge/base/envs/solennoid_v3/lib/python3.8/site-packages/Bio/PDB/StructureBuilder.py:89: PDBConstructionWarning: WARNING: Chain C is discontinuous at line 5711.\n",
      "  warnings.warn(\n",
      "/opt/homebrew/Caskroom/miniforge/base/envs/solennoid_v3/lib/python3.8/site-packages/Bio/PDB/StructureBuilder.py:89: PDBConstructionWarning: WARNING: Chain A is discontinuous at line 6186.\n",
      "  warnings.warn(\n"
     ]
    },
    {
     "name": "stdout",
     "output_type": "stream",
     "text": [
      "217\n",
      "547\n",
      "LPAD 78\n",
      "(704, 704)\n",
      "(10, 128, 128, 1)\n",
      "1/1 [==============================] - 0s 64ms/step\n",
      "(10, 64, 64)\n",
      "(640, 640)\n",
      "ARGMAXED 0.0\n",
      "3vze\n",
      "22\n",
      "137\n",
      "LPAD 91\n",
      "(320, 320)\n",
      "(4, 128, 128, 1)\n",
      "1/1 [==============================] - 0s 39ms/step\n",
      "(4, 64, 64)\n",
      "(256, 256)\n",
      "ARGMAXED 0.0\n",
      "3rhz\n"
     ]
    },
    {
     "name": "stderr",
     "output_type": "stream",
     "text": [
      "/opt/homebrew/Caskroom/miniforge/base/envs/solennoid_v3/lib/python3.8/site-packages/Bio/PDB/StructureBuilder.py:89: PDBConstructionWarning: WARNING: Chain A is discontinuous at line 1107.\n",
      "  warnings.warn(\n"
     ]
    },
    {
     "name": "stdout",
     "output_type": "stream",
     "text": [
      "0\n",
      "329\n",
      "LPAD 59\n",
      "(448, 448)\n",
      "(6, 128, 128, 1)\n",
      "1/1 [==============================] - 0s 49ms/step\n"
     ]
    },
    {
     "name": "stderr",
     "output_type": "stream",
     "text": [
      "/opt/homebrew/Caskroom/miniforge/base/envs/solennoid_v3/lib/python3.8/site-packages/Bio/PDB/StructureBuilder.py:89: PDBConstructionWarning: WARNING: Chain A is discontinuous at line 5327.\n",
      "  warnings.warn(\n",
      "/opt/homebrew/Caskroom/miniforge/base/envs/solennoid_v3/lib/python3.8/site-packages/Bio/PDB/StructureBuilder.py:89: PDBConstructionWarning: WARNING: Chain B is discontinuous at line 5352.\n",
      "  warnings.warn(\n",
      "/opt/homebrew/Caskroom/miniforge/base/envs/solennoid_v3/lib/python3.8/site-packages/Bio/PDB/StructureBuilder.py:89: PDBConstructionWarning: WARNING: Chain A is discontinuous at line 5378.\n",
      "  warnings.warn(\n",
      "/opt/homebrew/Caskroom/miniforge/base/envs/solennoid_v3/lib/python3.8/site-packages/Bio/PDB/StructureBuilder.py:89: PDBConstructionWarning: WARNING: Chain B is discontinuous at line 5590.\n",
      "  warnings.warn(\n"
     ]
    },
    {
     "name": "stdout",
     "output_type": "stream",
     "text": [
      "(6, 64, 64)\n",
      "(384, 384)\n",
      "ARGMAXED 3.0\n",
      "3lrk\n"
     ]
    },
    {
     "name": "stderr",
     "output_type": "stream",
     "text": [
      "/opt/homebrew/Caskroom/miniforge/base/envs/solennoid_v3/lib/python3.8/site-packages/Bio/PDB/StructureBuilder.py:89: PDBConstructionWarning: WARNING: Chain A is discontinuous at line 3574.\n",
      "  warnings.warn(\n"
     ]
    },
    {
     "name": "stdout",
     "output_type": "stream",
     "text": [
      "19\n",
      "451\n",
      "LPAD 62\n",
      "(576, 576)\n",
      "(8, 128, 128, 1)\n",
      "1/1 [==============================] - 0s 57ms/step\n",
      "(8, 64, 64)\n",
      "(512, 512)\n",
      "ARGMAXED 3.0\n",
      "6v26\n"
     ]
    },
    {
     "name": "stderr",
     "output_type": "stream",
     "text": [
      "/opt/homebrew/Caskroom/miniforge/base/envs/solennoid_v3/lib/python3.8/site-packages/Bio/PDB/StructureBuilder.py:89: PDBConstructionWarning: WARNING: Chain A is discontinuous at line 9609.\n",
      "  warnings.warn(\n",
      "/opt/homebrew/Caskroom/miniforge/base/envs/solennoid_v3/lib/python3.8/site-packages/Bio/PDB/StructureBuilder.py:89: PDBConstructionWarning: WARNING: Chain B is discontinuous at line 9618.\n",
      "  warnings.warn(\n",
      "/opt/homebrew/Caskroom/miniforge/base/envs/solennoid_v3/lib/python3.8/site-packages/Bio/PDB/StructureBuilder.py:89: PDBConstructionWarning: WARNING: Chain C is discontinuous at line 9627.\n",
      "  warnings.warn(\n",
      "/opt/homebrew/Caskroom/miniforge/base/envs/solennoid_v3/lib/python3.8/site-packages/Bio/PDB/StructureBuilder.py:89: PDBConstructionWarning: WARNING: Chain D is discontinuous at line 9636.\n",
      "  warnings.warn(\n",
      "/opt/homebrew/Caskroom/miniforge/base/envs/solennoid_v3/lib/python3.8/site-packages/Bio/PDB/StructureBuilder.py:89: PDBConstructionWarning: WARNING: Chain A is discontinuous at line 9645.\n",
      "  warnings.warn(\n",
      "/opt/homebrew/Caskroom/miniforge/base/envs/solennoid_v3/lib/python3.8/site-packages/Bio/PDB/StructureBuilder.py:89: PDBConstructionWarning: WARNING: Chain B is discontinuous at line 9918.\n",
      "  warnings.warn(\n",
      "/opt/homebrew/Caskroom/miniforge/base/envs/solennoid_v3/lib/python3.8/site-packages/Bio/PDB/StructureBuilder.py:89: PDBConstructionWarning: WARNING: Chain C is discontinuous at line 10168.\n",
      "  warnings.warn(\n",
      "/opt/homebrew/Caskroom/miniforge/base/envs/solennoid_v3/lib/python3.8/site-packages/Bio/PDB/StructureBuilder.py:89: PDBConstructionWarning: WARNING: Chain D is discontinuous at line 10522.\n",
      "  warnings.warn(\n"
     ]
    },
    {
     "name": "stdout",
     "output_type": "stream",
     "text": [
      "1\n",
      "400\n",
      "LPAD 87\n",
      "(576, 576)\n",
      "(8, 128, 128, 1)\n",
      "1/1 [==============================] - 0s 55ms/step\n",
      "(8, 64, 64)\n",
      "(512, 512)\n",
      "ARGMAXED 0.0\n",
      "4i7e\n"
     ]
    },
    {
     "name": "stderr",
     "output_type": "stream",
     "text": [
      "/opt/homebrew/Caskroom/miniforge/base/envs/solennoid_v3/lib/python3.8/site-packages/Bio/PDB/StructureBuilder.py:89: PDBConstructionWarning: WARNING: Chain A is discontinuous at line 9531.\n",
      "  warnings.warn(\n",
      "/opt/homebrew/Caskroom/miniforge/base/envs/solennoid_v3/lib/python3.8/site-packages/Bio/PDB/StructureBuilder.py:89: PDBConstructionWarning: WARNING: Chain B is discontinuous at line 9541.\n",
      "  warnings.warn(\n",
      "/opt/homebrew/Caskroom/miniforge/base/envs/solennoid_v3/lib/python3.8/site-packages/Bio/PDB/StructureBuilder.py:89: PDBConstructionWarning: WARNING: Chain C is discontinuous at line 9551.\n",
      "  warnings.warn(\n",
      "/opt/homebrew/Caskroom/miniforge/base/envs/solennoid_v3/lib/python3.8/site-packages/Bio/PDB/StructureBuilder.py:89: PDBConstructionWarning: WARNING: Chain D is discontinuous at line 9561.\n",
      "  warnings.warn(\n",
      "/opt/homebrew/Caskroom/miniforge/base/envs/solennoid_v3/lib/python3.8/site-packages/Bio/PDB/StructureBuilder.py:89: PDBConstructionWarning: WARNING: Chain A is discontinuous at line 9571.\n",
      "  warnings.warn(\n",
      "/opt/homebrew/Caskroom/miniforge/base/envs/solennoid_v3/lib/python3.8/site-packages/Bio/PDB/StructureBuilder.py:89: PDBConstructionWarning: WARNING: Chain B is discontinuous at line 9737.\n",
      "  warnings.warn(\n",
      "/opt/homebrew/Caskroom/miniforge/base/envs/solennoid_v3/lib/python3.8/site-packages/Bio/PDB/StructureBuilder.py:89: PDBConstructionWarning: WARNING: Chain C is discontinuous at line 9873.\n",
      "  warnings.warn(\n",
      "/opt/homebrew/Caskroom/miniforge/base/envs/solennoid_v3/lib/python3.8/site-packages/Bio/PDB/StructureBuilder.py:89: PDBConstructionWarning: WARNING: Chain D is discontinuous at line 9998.\n",
      "  warnings.warn(\n"
     ]
    },
    {
     "name": "stdout",
     "output_type": "stream",
     "text": [
      "1\n",
      "318\n",
      "LPAD 64\n",
      "(448, 448)\n",
      "(6, 128, 128, 1)\n",
      "1/1 [==============================] - 0s 47ms/step\n",
      "(6, 64, 64)\n",
      "(384, 384)\n",
      "ARGMAXED 0.0\n",
      "6c7v\n",
      "2\n",
      "249\n",
      "LPAD 35\n",
      "(320, 320)\n",
      "(4, 128, 128, 1)\n",
      "1/1 [==============================] - 0s 39ms/step\n",
      "(4, 64, 64)\n",
      "(256, 256)\n",
      "ARGMAXED 0.0\n",
      "6poh\n",
      "1\n",
      "187\n",
      "LPAD 66\n",
      "(320, 320)\n",
      "(4, 128, 128, 1)\n",
      "1/1 [==============================] - 0s 39ms/step\n"
     ]
    },
    {
     "name": "stderr",
     "output_type": "stream",
     "text": [
      "/opt/homebrew/Caskroom/miniforge/base/envs/solennoid_v3/lib/python3.8/site-packages/Bio/PDB/StructureBuilder.py:89: PDBConstructionWarning: WARNING: Chain A is discontinuous at line 2970.\n",
      "  warnings.warn(\n",
      "/opt/homebrew/Caskroom/miniforge/base/envs/solennoid_v3/lib/python3.8/site-packages/Bio/PDB/StructureBuilder.py:89: PDBConstructionWarning: WARNING: Chain B is discontinuous at line 2988.\n",
      "  warnings.warn(\n",
      "/opt/homebrew/Caskroom/miniforge/base/envs/solennoid_v3/lib/python3.8/site-packages/Bio/PDB/StructureBuilder.py:89: PDBConstructionWarning: WARNING: Chain A is discontinuous at line 2989.\n",
      "  warnings.warn(\n",
      "/opt/homebrew/Caskroom/miniforge/base/envs/solennoid_v3/lib/python3.8/site-packages/Bio/PDB/StructureBuilder.py:89: PDBConstructionWarning: WARNING: Chain B is discontinuous at line 3258.\n",
      "  warnings.warn(\n"
     ]
    },
    {
     "name": "stdout",
     "output_type": "stream",
     "text": [
      "(4, 64, 64)\n",
      "(256, 256)\n",
      "ARGMAXED 3.0\n",
      "6ax4\n",
      "373\n",
      "222\n",
      "LPAD 48\n",
      "(320, 320)\n",
      "(4, 128, 128, 1)\n",
      "1/1 [==============================] - 0s 38ms/step\n"
     ]
    },
    {
     "name": "stderr",
     "output_type": "stream",
     "text": [
      "/opt/homebrew/Caskroom/miniforge/base/envs/solennoid_v3/lib/python3.8/site-packages/Bio/PDB/StructureBuilder.py:89: PDBConstructionWarning: WARNING: Chain A is discontinuous at line 3776.\n",
      "  warnings.warn(\n",
      "/opt/homebrew/Caskroom/miniforge/base/envs/solennoid_v3/lib/python3.8/site-packages/Bio/PDB/StructureBuilder.py:89: PDBConstructionWarning: WARNING: Chain C is discontinuous at line 4028.\n",
      "  warnings.warn(\n"
     ]
    },
    {
     "name": "stdout",
     "output_type": "stream",
     "text": [
      "(4, 64, 64)\n",
      "(256, 256)\n",
      "ARGMAXED 0.0\n",
      "6blk\n",
      "319\n",
      "157\n",
      "LPAD 81\n",
      "(320, 320)\n",
      "(4, 128, 128, 1)\n",
      "1/1 [==============================] - 0s 38ms/step\n"
     ]
    },
    {
     "name": "stderr",
     "output_type": "stream",
     "text": [
      "/opt/homebrew/Caskroom/miniforge/base/envs/solennoid_v3/lib/python3.8/site-packages/Bio/PDB/StructureBuilder.py:89: PDBConstructionWarning: WARNING: Chain C is discontinuous at line 9479.\n",
      "  warnings.warn(\n",
      "/opt/homebrew/Caskroom/miniforge/base/envs/solennoid_v3/lib/python3.8/site-packages/Bio/PDB/StructureBuilder.py:89: PDBConstructionWarning: WARNING: Chain D is discontinuous at line 9522.\n",
      "  warnings.warn(\n",
      "/opt/homebrew/Caskroom/miniforge/base/envs/solennoid_v3/lib/python3.8/site-packages/Bio/PDB/StructureBuilder.py:89: PDBConstructionWarning: WARNING: Chain A is discontinuous at line 9565.\n",
      "  warnings.warn(\n",
      "/opt/homebrew/Caskroom/miniforge/base/envs/solennoid_v3/lib/python3.8/site-packages/Bio/PDB/StructureBuilder.py:89: PDBConstructionWarning: WARNING: Chain B is discontinuous at line 9608.\n",
      "  warnings.warn(\n",
      "/opt/homebrew/Caskroom/miniforge/base/envs/solennoid_v3/lib/python3.8/site-packages/Bio/PDB/StructureBuilder.py:89: PDBConstructionWarning: WARNING: Chain C is discontinuous at line 9651.\n",
      "  warnings.warn(\n",
      "/opt/homebrew/Caskroom/miniforge/base/envs/solennoid_v3/lib/python3.8/site-packages/Bio/PDB/StructureBuilder.py:89: PDBConstructionWarning: WARNING: Chain D is discontinuous at line 9787.\n",
      "  warnings.warn(\n",
      "/opt/homebrew/Caskroom/miniforge/base/envs/solennoid_v3/lib/python3.8/site-packages/Bio/PDB/StructureBuilder.py:89: PDBConstructionWarning: WARNING: Chain A is discontinuous at line 9915.\n",
      "  warnings.warn(\n",
      "/opt/homebrew/Caskroom/miniforge/base/envs/solennoid_v3/lib/python3.8/site-packages/Bio/PDB/StructureBuilder.py:89: PDBConstructionWarning: WARNING: Chain B is discontinuous at line 10068.\n",
      "  warnings.warn(\n"
     ]
    },
    {
     "name": "stdout",
     "output_type": "stream",
     "text": [
      "(4, 64, 64)\n",
      "(256, 256)\n",
      "ARGMAXED 0.0\n",
      "5d9j\n",
      "1\n",
      "178\n",
      "LPAD 70\n",
      "(320, 320)\n",
      "(4, 128, 128, 1)\n",
      "1/1 [==============================] - 0s 38ms/step\n",
      "(4, 64, 64)\n",
      "(256, 256)\n",
      "ARGMAXED 0.0\n",
      "4zbc\n",
      "2\n"
     ]
    },
    {
     "name": "stderr",
     "output_type": "stream",
     "text": [
      "/opt/homebrew/Caskroom/miniforge/base/envs/solennoid_v3/lib/python3.8/site-packages/Bio/PDB/StructureBuilder.py:89: PDBConstructionWarning: WARNING: Chain A is discontinuous at line 6106.\n",
      "  warnings.warn(\n",
      "/opt/homebrew/Caskroom/miniforge/base/envs/solennoid_v3/lib/python3.8/site-packages/Bio/PDB/StructureBuilder.py:89: PDBConstructionWarning: WARNING: Chain B is discontinuous at line 6160.\n",
      "  warnings.warn(\n",
      "/opt/homebrew/Caskroom/miniforge/base/envs/solennoid_v3/lib/python3.8/site-packages/Bio/PDB/StructureBuilder.py:89: PDBConstructionWarning: WARNING: Chain A is discontinuous at line 6213.\n",
      "  warnings.warn(\n",
      "/opt/homebrew/Caskroom/miniforge/base/envs/solennoid_v3/lib/python3.8/site-packages/Bio/PDB/StructureBuilder.py:89: PDBConstructionWarning: WARNING: Chain B is discontinuous at line 6495.\n",
      "  warnings.warn(\n"
     ]
    },
    {
     "name": "stdout",
     "output_type": "stream",
     "text": [
      "386\n",
      "LPAD 94\n",
      "(576, 576)\n",
      "(8, 128, 128, 1)\n",
      "1/1 [==============================] - 0s 57ms/step\n",
      "(8, 64, 64)\n",
      "(512, 512)\n",
      "ARGMAXED 3.0\n",
      "5bwl\n",
      "36\n",
      "266\n",
      "LPAD 90\n"
     ]
    },
    {
     "name": "stderr",
     "output_type": "stream",
     "text": [
      "/opt/homebrew/Caskroom/miniforge/base/envs/solennoid_v3/lib/python3.8/site-packages/Bio/PDB/StructureBuilder.py:89: PDBConstructionWarning: WARNING: Chain A is discontinuous at line 4107.\n",
      "  warnings.warn(\n",
      "/opt/homebrew/Caskroom/miniforge/base/envs/solennoid_v3/lib/python3.8/site-packages/Bio/PDB/StructureBuilder.py:89: PDBConstructionWarning: WARNING: Chain B is discontinuous at line 4108.\n",
      "  warnings.warn(\n",
      "/opt/homebrew/Caskroom/miniforge/base/envs/solennoid_v3/lib/python3.8/site-packages/Bio/PDB/StructureBuilder.py:89: PDBConstructionWarning: WARNING: Chain A is discontinuous at line 4129.\n",
      "  warnings.warn(\n",
      "/opt/homebrew/Caskroom/miniforge/base/envs/solennoid_v3/lib/python3.8/site-packages/Bio/PDB/StructureBuilder.py:89: PDBConstructionWarning: WARNING: Chain B is discontinuous at line 4501.\n",
      "  warnings.warn(\n"
     ]
    },
    {
     "name": "stdout",
     "output_type": "stream",
     "text": [
      "(448, 448)\n",
      "(6, 128, 128, 1)\n",
      "1/1 [==============================] - 0s 48ms/step\n",
      "(6, 64, 64)\n",
      "(384, 384)\n",
      "ARGMAXED 0.0\n",
      "5hwo\n",
      "1\n",
      "417\n",
      "LPAD 79\n",
      "(576, 576)\n",
      "(8, 128, 128, 1)\n",
      "1/1 [==============================] - 0s 56ms/step\n",
      "(8, 64, 64)\n",
      "(512, 512)\n",
      "ARGMAXED 3.0\n",
      "5j32\n"
     ]
    },
    {
     "name": "stderr",
     "output_type": "stream",
     "text": [
      "/opt/homebrew/Caskroom/miniforge/base/envs/solennoid_v3/lib/python3.8/site-packages/Bio/PDB/StructureBuilder.py:89: PDBConstructionWarning: WARNING: Chain A is discontinuous at line 11003.\n",
      "  warnings.warn(\n",
      "/opt/homebrew/Caskroom/miniforge/base/envs/solennoid_v3/lib/python3.8/site-packages/Bio/PDB/StructureBuilder.py:89: PDBConstructionWarning: WARNING: Chain C is discontinuous at line 11029.\n",
      "  warnings.warn(\n",
      "/opt/homebrew/Caskroom/miniforge/base/envs/solennoid_v3/lib/python3.8/site-packages/Bio/PDB/StructureBuilder.py:89: PDBConstructionWarning: WARNING: Chain A is discontinuous at line 11055.\n",
      "  warnings.warn(\n",
      "/opt/homebrew/Caskroom/miniforge/base/envs/solennoid_v3/lib/python3.8/site-packages/Bio/PDB/StructureBuilder.py:89: PDBConstructionWarning: WARNING: Chain B is discontinuous at line 11423.\n",
      "  warnings.warn(\n",
      "/opt/homebrew/Caskroom/miniforge/base/envs/solennoid_v3/lib/python3.8/site-packages/Bio/PDB/StructureBuilder.py:89: PDBConstructionWarning: WARNING: Chain C is discontinuous at line 11824.\n",
      "  warnings.warn(\n",
      "/opt/homebrew/Caskroom/miniforge/base/envs/solennoid_v3/lib/python3.8/site-packages/Bio/PDB/StructureBuilder.py:89: PDBConstructionWarning: WARNING: Chain D is discontinuous at line 12151.\n",
      "  warnings.warn(\n"
     ]
    },
    {
     "name": "stdout",
     "output_type": "stream",
     "text": [
      "31\n",
      "368\n",
      "LPAD 39\n",
      "(448, 448)\n",
      "(6, 128, 128, 1)\n",
      "1/1 [==============================] - 0s 47ms/step\n",
      "(6, 64, 64)\n",
      "(384, 384)\n",
      "ARGMAXED 0.0\n",
      "3wx7\n"
     ]
    },
    {
     "name": "stderr",
     "output_type": "stream",
     "text": [
      "/opt/homebrew/Caskroom/miniforge/base/envs/solennoid_v3/lib/python3.8/site-packages/Bio/PDB/StructureBuilder.py:89: PDBConstructionWarning: WARNING: Chain A is discontinuous at line 6270.\n",
      "  warnings.warn(\n",
      "/opt/homebrew/Caskroom/miniforge/base/envs/solennoid_v3/lib/python3.8/site-packages/Bio/PDB/StructureBuilder.py:89: PDBConstructionWarning: WARNING: Chain B is discontinuous at line 6288.\n",
      "  warnings.warn(\n",
      "/opt/homebrew/Caskroom/miniforge/base/envs/solennoid_v3/lib/python3.8/site-packages/Bio/PDB/StructureBuilder.py:89: PDBConstructionWarning: WARNING: Chain A is discontinuous at line 6306.\n",
      "  warnings.warn(\n",
      "/opt/homebrew/Caskroom/miniforge/base/envs/solennoid_v3/lib/python3.8/site-packages/Bio/PDB/StructureBuilder.py:89: PDBConstructionWarning: WARNING: Chain B is discontinuous at line 6888.\n",
      "  warnings.warn(\n"
     ]
    },
    {
     "name": "stdout",
     "output_type": "stream",
     "text": [
      "26\n",
      "401\n",
      "LPAD 87\n",
      "(576, 576)\n",
      "(8, 128, 128, 1)\n",
      "1/1 [==============================] - 0s 56ms/step\n",
      "(8, 64, 64)\n",
      "(512, 512)\n",
      "ARGMAXED 0.0\n",
      "3pe7\n",
      "1\n",
      "387\n",
      "LPAD 94\n",
      "(576, 576)\n",
      "(8, 128, 128, 1)\n",
      "1/1 [==============================] - 0s 54ms/step\n",
      "(8, 64, 64)\n",
      "(512, 512)\n",
      "ARGMAXED 0.0\n"
     ]
    }
   ],
   "source": [
    "testset_predictions_categorical=np.array([])\n",
    "testset_predictions_argmaxed=np.array([])\n",
    "pred_list=[]\n",
    " \n",
    "for i in full_ids:\n",
    "    #assign structure and chain\n",
    "    structure_id=i[0:4]\n",
    "    chain_id=i[-1]\n",
    "    structure_path=main_folder + structure_id + \".cif\"\n",
    "    print(structure_id)\n",
    "    #get predictions and residue start\n",
    "    protein1=Protein(structure_path,chain=chain_id)\n",
    "    protein1.set_up()\n",
    "    first_residue,distance_matrix,chain_list=protein1.return_matrix_and_first_res()\n",
    "    maxlength=protein1.indices[-1]-first_residue\n",
    "    print(maxlength)\n",
    "    prediction1=Prediction(first_res_chain=first_residue, distance_matrix_chain=distance_matrix,loaded_model=loaded_model,sub_matrix_size=128, threshold=0.90)\n",
    "    argmaxed=prediction1.make_prediction()\n",
    "    print(\"ARGMAXED\",np.max(argmaxed))\n",
    "    #testset_predictions_categorical=np.append(testset_predictions_categorical, categorical)\n",
    "    testset_predictions_argmaxed=np.append(testset_predictions_argmaxed, argmaxed)\n",
    "    pred_list.append(argmaxed)"
   ]
  },
  {
   "cell_type": "markdown",
   "metadata": {},
   "source": [
    "## Compare predictions to ground truth"
   ]
  },
  {
   "cell_type": "markdown",
   "metadata": {},
   "source": [
    "### Solenoid dataset as multi-class problem"
   ]
  },
  {
   "cell_type": "markdown",
   "metadata": {},
   "source": [
    "#### Convert all predictions to categorical values"
   ]
  },
  {
   "cell_type": "code",
   "execution_count": 15,
   "metadata": {},
   "outputs": [],
   "source": [
    "#convert predictions to categorical values\n",
    "testset_gt_rs=to_categorical(testset_gt, num_classes=4)\n",
    "rdb_lite_pred_rs=to_categorical(rdb_lite_preds, num_classes=4)\n",
    "testset_pred_rs=to_categorical(testset_predictions_argmaxed, num_classes=4)\n",
    "tapo_pred_rs=to_categorical(tapo_preds, num_classes=4)\n",
    "prigsa_pred_rs=to_categorical(prigsa2_preds,num_classes=4)"
   ]
  },
  {
   "cell_type": "markdown",
   "metadata": {},
   "source": [
    "#### Classification report for TAPO"
   ]
  },
  {
   "cell_type": "code",
   "execution_count": 115,
   "metadata": {},
   "outputs": [],
   "source": [
    "tapo_class_report=classification_report(testset_gt_rs,tapo_pred_rs,target_names=[\"non-solenoid\", \"beta-solenoid\", \"alphabeta-solenoid\", \"alpha-solenoid\"],output_dict=True)"
   ]
  },
  {
   "cell_type": "code",
   "execution_count": 116,
   "metadata": {},
   "outputs": [],
   "source": [
    "tapo_df=pd.DataFrame.from_dict(tapo_class_report)"
   ]
  },
  {
   "cell_type": "code",
   "execution_count": 118,
   "metadata": {},
   "outputs": [
    {
     "data": {
      "text/html": [
       "<div>\n",
       "<style scoped>\n",
       "    .dataframe tbody tr th:only-of-type {\n",
       "        vertical-align: middle;\n",
       "    }\n",
       "\n",
       "    .dataframe tbody tr th {\n",
       "        vertical-align: top;\n",
       "    }\n",
       "\n",
       "    .dataframe thead th {\n",
       "        text-align: right;\n",
       "    }\n",
       "</style>\n",
       "<table border=\"1\" class=\"dataframe\">\n",
       "  <thead>\n",
       "    <tr style=\"text-align: right;\">\n",
       "      <th></th>\n",
       "      <th>non-solenoid</th>\n",
       "      <th>beta-solenoid</th>\n",
       "      <th>alphabeta-solenoid</th>\n",
       "      <th>alpha-solenoid</th>\n",
       "      <th>micro avg</th>\n",
       "      <th>macro avg</th>\n",
       "      <th>weighted avg</th>\n",
       "      <th>samples avg</th>\n",
       "    </tr>\n",
       "  </thead>\n",
       "  <tbody>\n",
       "    <tr>\n",
       "      <th>precision</th>\n",
       "      <td>0.779830</td>\n",
       "      <td>0.769600</td>\n",
       "      <td>0.871556</td>\n",
       "      <td>0.911643</td>\n",
       "      <td>0.83006</td>\n",
       "      <td>0.833157</td>\n",
       "      <td>0.830103</td>\n",
       "      <td>0.83006</td>\n",
       "    </tr>\n",
       "    <tr>\n",
       "      <th>recall</th>\n",
       "      <td>0.729188</td>\n",
       "      <td>0.835835</td>\n",
       "      <td>0.964168</td>\n",
       "      <td>0.880412</td>\n",
       "      <td>0.83006</td>\n",
       "      <td>0.852401</td>\n",
       "      <td>0.830060</td>\n",
       "      <td>0.83006</td>\n",
       "    </tr>\n",
       "    <tr>\n",
       "      <th>f1-score</th>\n",
       "      <td>0.753659</td>\n",
       "      <td>0.801351</td>\n",
       "      <td>0.915526</td>\n",
       "      <td>0.895755</td>\n",
       "      <td>0.83006</td>\n",
       "      <td>0.841573</td>\n",
       "      <td>0.829075</td>\n",
       "      <td>0.83006</td>\n",
       "    </tr>\n",
       "    <tr>\n",
       "      <th>support</th>\n",
       "      <td>5790.000000</td>\n",
       "      <td>3265.000000</td>\n",
       "      <td>2428.000000</td>\n",
       "      <td>4758.000000</td>\n",
       "      <td>16241.00000</td>\n",
       "      <td>16241.000000</td>\n",
       "      <td>16241.000000</td>\n",
       "      <td>16241.00000</td>\n",
       "    </tr>\n",
       "  </tbody>\n",
       "</table>\n",
       "</div>"
      ],
      "text/plain": [
       "           non-solenoid  beta-solenoid  alphabeta-solenoid  alpha-solenoid  \\\n",
       "precision      0.779830       0.769600            0.871556        0.911643   \n",
       "recall         0.729188       0.835835            0.964168        0.880412   \n",
       "f1-score       0.753659       0.801351            0.915526        0.895755   \n",
       "support     5790.000000    3265.000000         2428.000000     4758.000000   \n",
       "\n",
       "             micro avg     macro avg  weighted avg  samples avg  \n",
       "precision      0.83006      0.833157      0.830103      0.83006  \n",
       "recall         0.83006      0.852401      0.830060      0.83006  \n",
       "f1-score       0.83006      0.841573      0.829075      0.83006  \n",
       "support    16241.00000  16241.000000  16241.000000  16241.00000  "
      ]
     },
     "execution_count": 118,
     "metadata": {},
     "output_type": "execute_result"
    }
   ],
   "source": [
    "tapo_df"
   ]
  },
  {
   "cell_type": "markdown",
   "metadata": {},
   "source": [
    "#### MCC for TAPO"
   ]
  },
  {
   "cell_type": "code",
   "execution_count": 133,
   "metadata": {},
   "outputs": [
    {
     "data": {
      "text/plain": [
       "0.7677359740295451"
      ]
     },
     "execution_count": 133,
     "metadata": {},
     "output_type": "execute_result"
    }
   ],
   "source": [
    "matthews_corrcoef(testset_gt,tapo_preds)"
   ]
  },
  {
   "cell_type": "markdown",
   "metadata": {},
   "source": [
    "#### Classification report for RepeatsDB-lite"
   ]
  },
  {
   "cell_type": "code",
   "execution_count": 119,
   "metadata": {},
   "outputs": [],
   "source": [
    "rdb_lite_class_report=classification_report(testset_gt_rs,rdb_lite_pred_rs,target_names=[\"non-solenoid\", \"beta-solenoid\", \"alphabeta-solenoid\", \"alpha-solenoid\"],output_dict=True)"
   ]
  },
  {
   "cell_type": "code",
   "execution_count": 120,
   "metadata": {},
   "outputs": [],
   "source": [
    "rdb_lite_df=pd.DataFrame.from_dict(rdb_lite_class_report)"
   ]
  },
  {
   "cell_type": "code",
   "execution_count": 121,
   "metadata": {
    "scrolled": true
   },
   "outputs": [
    {
     "data": {
      "text/html": [
       "<div>\n",
       "<style scoped>\n",
       "    .dataframe tbody tr th:only-of-type {\n",
       "        vertical-align: middle;\n",
       "    }\n",
       "\n",
       "    .dataframe tbody tr th {\n",
       "        vertical-align: top;\n",
       "    }\n",
       "\n",
       "    .dataframe thead th {\n",
       "        text-align: right;\n",
       "    }\n",
       "</style>\n",
       "<table border=\"1\" class=\"dataframe\">\n",
       "  <thead>\n",
       "    <tr style=\"text-align: right;\">\n",
       "      <th></th>\n",
       "      <th>non-solenoid</th>\n",
       "      <th>beta-solenoid</th>\n",
       "      <th>alphabeta-solenoid</th>\n",
       "      <th>alpha-solenoid</th>\n",
       "      <th>micro avg</th>\n",
       "      <th>macro avg</th>\n",
       "      <th>weighted avg</th>\n",
       "      <th>samples avg</th>\n",
       "    </tr>\n",
       "  </thead>\n",
       "  <tbody>\n",
       "    <tr>\n",
       "      <th>precision</th>\n",
       "      <td>0.494402</td>\n",
       "      <td>0.502363</td>\n",
       "      <td>0.801242</td>\n",
       "      <td>0.886157</td>\n",
       "      <td>0.54738</td>\n",
       "      <td>0.671041</td>\n",
       "      <td>0.656644</td>\n",
       "      <td>0.54738</td>\n",
       "    </tr>\n",
       "    <tr>\n",
       "      <th>recall</th>\n",
       "      <td>0.892401</td>\n",
       "      <td>0.553446</td>\n",
       "      <td>0.106260</td>\n",
       "      <td>0.348466</td>\n",
       "      <td>0.54738</td>\n",
       "      <td>0.475143</td>\n",
       "      <td>0.547380</td>\n",
       "      <td>0.54738</td>\n",
       "    </tr>\n",
       "    <tr>\n",
       "      <th>f1-score</th>\n",
       "      <td>0.636291</td>\n",
       "      <td>0.526669</td>\n",
       "      <td>0.187636</td>\n",
       "      <td>0.500226</td>\n",
       "      <td>0.54738</td>\n",
       "      <td>0.462706</td>\n",
       "      <td>0.507318</td>\n",
       "      <td>0.54738</td>\n",
       "    </tr>\n",
       "    <tr>\n",
       "      <th>support</th>\n",
       "      <td>5790.000000</td>\n",
       "      <td>3265.000000</td>\n",
       "      <td>2428.000000</td>\n",
       "      <td>4758.000000</td>\n",
       "      <td>16241.00000</td>\n",
       "      <td>16241.000000</td>\n",
       "      <td>16241.000000</td>\n",
       "      <td>16241.00000</td>\n",
       "    </tr>\n",
       "  </tbody>\n",
       "</table>\n",
       "</div>"
      ],
      "text/plain": [
       "           non-solenoid  beta-solenoid  alphabeta-solenoid  alpha-solenoid  \\\n",
       "precision      0.494402       0.502363            0.801242        0.886157   \n",
       "recall         0.892401       0.553446            0.106260        0.348466   \n",
       "f1-score       0.636291       0.526669            0.187636        0.500226   \n",
       "support     5790.000000    3265.000000         2428.000000     4758.000000   \n",
       "\n",
       "             micro avg     macro avg  weighted avg  samples avg  \n",
       "precision      0.54738      0.671041      0.656644      0.54738  \n",
       "recall         0.54738      0.475143      0.547380      0.54738  \n",
       "f1-score       0.54738      0.462706      0.507318      0.54738  \n",
       "support    16241.00000  16241.000000  16241.000000  16241.00000  "
      ]
     },
     "execution_count": 121,
     "metadata": {},
     "output_type": "execute_result"
    }
   ],
   "source": [
    "rdb_lite_df"
   ]
  },
  {
   "cell_type": "markdown",
   "metadata": {},
   "source": [
    "#### MCC for RepeatsDB-Lite"
   ]
  },
  {
   "cell_type": "code",
   "execution_count": 134,
   "metadata": {},
   "outputs": [
    {
     "data": {
      "text/plain": [
       "0.3845580733133376"
      ]
     },
     "execution_count": 134,
     "metadata": {},
     "output_type": "execute_result"
    }
   ],
   "source": [
    "matthews_corrcoef(testset_gt,rdb_lite_preds)"
   ]
  },
  {
   "cell_type": "markdown",
   "metadata": {},
   "source": [
    "#### Classification report for PRIGSA2"
   ]
  },
  {
   "cell_type": "code",
   "execution_count": 122,
   "metadata": {},
   "outputs": [],
   "source": [
    "prigsa2_class_report=classification_report(testset_gt_rs,prigsa_pred_rs,target_names=[\"non-solenoid\", \"beta-solenoid\", \"alphabeta-solenoid\", \"alpha-solenoid\"],output_dict=True)"
   ]
  },
  {
   "cell_type": "code",
   "execution_count": 123,
   "metadata": {},
   "outputs": [],
   "source": [
    "prigsa2_df=pd.DataFrame.from_dict(prigsa2_class_report)"
   ]
  },
  {
   "cell_type": "code",
   "execution_count": 124,
   "metadata": {},
   "outputs": [
    {
     "data": {
      "text/html": [
       "<div>\n",
       "<style scoped>\n",
       "    .dataframe tbody tr th:only-of-type {\n",
       "        vertical-align: middle;\n",
       "    }\n",
       "\n",
       "    .dataframe tbody tr th {\n",
       "        vertical-align: top;\n",
       "    }\n",
       "\n",
       "    .dataframe thead th {\n",
       "        text-align: right;\n",
       "    }\n",
       "</style>\n",
       "<table border=\"1\" class=\"dataframe\">\n",
       "  <thead>\n",
       "    <tr style=\"text-align: right;\">\n",
       "      <th></th>\n",
       "      <th>non-solenoid</th>\n",
       "      <th>beta-solenoid</th>\n",
       "      <th>alphabeta-solenoid</th>\n",
       "      <th>alpha-solenoid</th>\n",
       "      <th>micro avg</th>\n",
       "      <th>macro avg</th>\n",
       "      <th>weighted avg</th>\n",
       "      <th>samples avg</th>\n",
       "    </tr>\n",
       "  </thead>\n",
       "  <tbody>\n",
       "    <tr>\n",
       "      <th>precision</th>\n",
       "      <td>0.509183</td>\n",
       "      <td>0.856688</td>\n",
       "      <td>0.961948</td>\n",
       "      <td>0.970930</td>\n",
       "      <td>0.655809</td>\n",
       "      <td>0.824687</td>\n",
       "      <td>0.782005</td>\n",
       "      <td>0.655809</td>\n",
       "    </tr>\n",
       "    <tr>\n",
       "      <th>recall</th>\n",
       "      <td>0.957686</td>\n",
       "      <td>0.164778</td>\n",
       "      <td>0.780890</td>\n",
       "      <td>0.561580</td>\n",
       "      <td>0.655809</td>\n",
       "      <td>0.616233</td>\n",
       "      <td>0.655809</td>\n",
       "      <td>0.655809</td>\n",
       "    </tr>\n",
       "    <tr>\n",
       "      <th>f1-score</th>\n",
       "      <td>0.664868</td>\n",
       "      <td>0.276394</td>\n",
       "      <td>0.862014</td>\n",
       "      <td>0.711585</td>\n",
       "      <td>0.655809</td>\n",
       "      <td>0.628715</td>\n",
       "      <td>0.629930</td>\n",
       "      <td>0.655809</td>\n",
       "    </tr>\n",
       "    <tr>\n",
       "      <th>support</th>\n",
       "      <td>5790.000000</td>\n",
       "      <td>3265.000000</td>\n",
       "      <td>2428.000000</td>\n",
       "      <td>4758.000000</td>\n",
       "      <td>16241.000000</td>\n",
       "      <td>16241.000000</td>\n",
       "      <td>16241.000000</td>\n",
       "      <td>16241.000000</td>\n",
       "    </tr>\n",
       "  </tbody>\n",
       "</table>\n",
       "</div>"
      ],
      "text/plain": [
       "           non-solenoid  beta-solenoid  alphabeta-solenoid  alpha-solenoid  \\\n",
       "precision      0.509183       0.856688            0.961948        0.970930   \n",
       "recall         0.957686       0.164778            0.780890        0.561580   \n",
       "f1-score       0.664868       0.276394            0.862014        0.711585   \n",
       "support     5790.000000    3265.000000         2428.000000     4758.000000   \n",
       "\n",
       "              micro avg     macro avg  weighted avg   samples avg  \n",
       "precision      0.655809      0.824687      0.782005      0.655809  \n",
       "recall         0.655809      0.616233      0.655809      0.655809  \n",
       "f1-score       0.655809      0.628715      0.629930      0.655809  \n",
       "support    16241.000000  16241.000000  16241.000000  16241.000000  "
      ]
     },
     "execution_count": 124,
     "metadata": {},
     "output_type": "execute_result"
    }
   ],
   "source": [
    "prigsa2_df"
   ]
  },
  {
   "cell_type": "markdown",
   "metadata": {},
   "source": [
    "#### MCC for PRIGSA2"
   ]
  },
  {
   "cell_type": "code",
   "execution_count": 136,
   "metadata": {},
   "outputs": [
    {
     "data": {
      "text/plain": [
       "0.5639094534217006"
      ]
     },
     "execution_count": 136,
     "metadata": {},
     "output_type": "execute_result"
    }
   ],
   "source": [
    "matthews_corrcoef(testset_gt,prigsa2_preds)"
   ]
  },
  {
   "cell_type": "markdown",
   "metadata": {},
   "source": [
    "#### Classification report for SOLeNNoID"
   ]
  },
  {
   "cell_type": "code",
   "execution_count": 137,
   "metadata": {},
   "outputs": [],
   "source": [
    "#using model Conv2D_dmca_multiclass_norm_filesplit_s128_b64_e100_split0.2_1645094358_diagonal_checkpoint.h5\n",
    "solennoid_class_report=classification_report(testset_gt_rs, testset_pred_rs, target_names=[\"non-solenoid\", \"beta-solenoid\", \"alphabeta-solenoid\", \"alpha-solenoid\"],output_dict=True)\n",
    "solennoid_df=pd.DataFrame.from_dict(solennoid_class_report)"
   ]
  },
  {
   "cell_type": "code",
   "execution_count": 138,
   "metadata": {},
   "outputs": [
    {
     "data": {
      "text/html": [
       "<div>\n",
       "<style scoped>\n",
       "    .dataframe tbody tr th:only-of-type {\n",
       "        vertical-align: middle;\n",
       "    }\n",
       "\n",
       "    .dataframe tbody tr th {\n",
       "        vertical-align: top;\n",
       "    }\n",
       "\n",
       "    .dataframe thead th {\n",
       "        text-align: right;\n",
       "    }\n",
       "</style>\n",
       "<table border=\"1\" class=\"dataframe\">\n",
       "  <thead>\n",
       "    <tr style=\"text-align: right;\">\n",
       "      <th></th>\n",
       "      <th>non-solenoid</th>\n",
       "      <th>beta-solenoid</th>\n",
       "      <th>alphabeta-solenoid</th>\n",
       "      <th>alpha-solenoid</th>\n",
       "      <th>micro avg</th>\n",
       "      <th>macro avg</th>\n",
       "      <th>weighted avg</th>\n",
       "      <th>samples avg</th>\n",
       "    </tr>\n",
       "  </thead>\n",
       "  <tbody>\n",
       "    <tr>\n",
       "      <th>precision</th>\n",
       "      <td>0.786493</td>\n",
       "      <td>0.862528</td>\n",
       "      <td>0.948482</td>\n",
       "      <td>0.806230</td>\n",
       "      <td>0.829136</td>\n",
       "      <td>0.850933</td>\n",
       "      <td>0.831778</td>\n",
       "      <td>0.829136</td>\n",
       "    </tr>\n",
       "    <tr>\n",
       "      <th>recall</th>\n",
       "      <td>0.760276</td>\n",
       "      <td>0.812864</td>\n",
       "      <td>0.849259</td>\n",
       "      <td>0.913829</td>\n",
       "      <td>0.829136</td>\n",
       "      <td>0.834057</td>\n",
       "      <td>0.829136</td>\n",
       "      <td>0.829136</td>\n",
       "    </tr>\n",
       "    <tr>\n",
       "      <th>f1-score</th>\n",
       "      <td>0.773162</td>\n",
       "      <td>0.836960</td>\n",
       "      <td>0.896132</td>\n",
       "      <td>0.856664</td>\n",
       "      <td>0.829136</td>\n",
       "      <td>0.840730</td>\n",
       "      <td>0.828835</td>\n",
       "      <td>0.829136</td>\n",
       "    </tr>\n",
       "    <tr>\n",
       "      <th>support</th>\n",
       "      <td>5790.000000</td>\n",
       "      <td>3265.000000</td>\n",
       "      <td>2428.000000</td>\n",
       "      <td>4758.000000</td>\n",
       "      <td>16241.000000</td>\n",
       "      <td>16241.000000</td>\n",
       "      <td>16241.000000</td>\n",
       "      <td>16241.000000</td>\n",
       "    </tr>\n",
       "  </tbody>\n",
       "</table>\n",
       "</div>"
      ],
      "text/plain": [
       "           non-solenoid  beta-solenoid  alphabeta-solenoid  alpha-solenoid  \\\n",
       "precision      0.786493       0.862528            0.948482        0.806230   \n",
       "recall         0.760276       0.812864            0.849259        0.913829   \n",
       "f1-score       0.773162       0.836960            0.896132        0.856664   \n",
       "support     5790.000000    3265.000000         2428.000000     4758.000000   \n",
       "\n",
       "              micro avg     macro avg  weighted avg   samples avg  \n",
       "precision      0.829136      0.850933      0.831778      0.829136  \n",
       "recall         0.829136      0.834057      0.829136      0.829136  \n",
       "f1-score       0.829136      0.840730      0.828835      0.829136  \n",
       "support    16241.000000  16241.000000  16241.000000  16241.000000  "
      ]
     },
     "execution_count": 138,
     "metadata": {},
     "output_type": "execute_result"
    }
   ],
   "source": [
    "solennoid_df"
   ]
  },
  {
   "cell_type": "markdown",
   "metadata": {},
   "source": [
    "#### MCC for SOLeNNoID"
   ]
  },
  {
   "cell_type": "code",
   "execution_count": 129,
   "metadata": {
    "jupyter": {
     "source_hidden": true
    }
   },
   "outputs": [
    {
     "data": {
      "text/plain": [
       "0.7643618493433915"
      ]
     },
     "execution_count": 129,
     "metadata": {},
     "output_type": "execute_result"
    }
   ],
   "source": [
    "matthews_corrcoef(testset_gt,testset_predictions_argmaxed)"
   ]
  },
  {
   "cell_type": "markdown",
   "metadata": {},
   "source": [
    "### Solenoid dataset as binary problem (solenoid/non-solenoid)"
   ]
  },
  {
   "cell_type": "code",
   "execution_count": 140,
   "metadata": {},
   "outputs": [],
   "source": [
    "testset_gt=np.array(testset_gt)\n",
    "testset_gt[testset_gt>0]=1\n",
    "tapo_preds=np.array(tapo_preds)\n",
    "tapo_preds[tapo_preds>0]=1\n",
    "prigsa2_preds=np.array(prigsa2_preds)\n",
    "prigsa2_preds[prigsa2_preds>0]=1\n",
    "rdb_lite_preds=np.array(rdb_lite_preds)\n",
    "rdb_lite_preds[rdb_lite_preds>0]=1\n",
    "testset_predictions_argmaxed[testset_predictions_argmaxed>0]=1"
   ]
  },
  {
   "cell_type": "code",
   "execution_count": 141,
   "metadata": {},
   "outputs": [],
   "source": [
    "#convert predictions to categorical values\n",
    "testset_gt_rs=to_categorical(testset_gt, num_classes=2)\n",
    "rdb_lite_pred_rs=to_categorical(rdb_lite_preds, num_classes=2)\n",
    "testset_pred_rs=to_categorical(testset_predictions_argmaxed, num_classes=2)\n",
    "tapo_pred_rs=to_categorical(tapo_preds, num_classes=2)\n",
    "prigsa_pred_rs=to_categorical(prigsa2_preds,num_classes=2)"
   ]
  },
  {
   "cell_type": "markdown",
   "metadata": {},
   "source": [
    "#### Classification report for TAPO"
   ]
  },
  {
   "cell_type": "code",
   "execution_count": 142,
   "metadata": {},
   "outputs": [],
   "source": [
    "tapo_class_report=classification_report(testset_gt_rs,tapo_pred_rs,target_names=[\"non-solenoid\", \"solenoid\"],output_dict=True)"
   ]
  },
  {
   "cell_type": "code",
   "execution_count": 143,
   "metadata": {},
   "outputs": [],
   "source": [
    "tapo_df=pd.DataFrame.from_dict(tapo_class_report)"
   ]
  },
  {
   "cell_type": "code",
   "execution_count": 144,
   "metadata": {},
   "outputs": [
    {
     "data": {
      "text/html": [
       "<div>\n",
       "<style scoped>\n",
       "    .dataframe tbody tr th:only-of-type {\n",
       "        vertical-align: middle;\n",
       "    }\n",
       "\n",
       "    .dataframe tbody tr th {\n",
       "        vertical-align: top;\n",
       "    }\n",
       "\n",
       "    .dataframe thead th {\n",
       "        text-align: right;\n",
       "    }\n",
       "</style>\n",
       "<table border=\"1\" class=\"dataframe\">\n",
       "  <thead>\n",
       "    <tr style=\"text-align: right;\">\n",
       "      <th></th>\n",
       "      <th>non-solenoid</th>\n",
       "      <th>solenoid</th>\n",
       "      <th>micro avg</th>\n",
       "      <th>macro avg</th>\n",
       "      <th>weighted avg</th>\n",
       "      <th>samples avg</th>\n",
       "    </tr>\n",
       "  </thead>\n",
       "  <tbody>\n",
       "    <tr>\n",
       "      <th>precision</th>\n",
       "      <td>0.779830</td>\n",
       "      <td>0.855177</td>\n",
       "      <td>0.83006</td>\n",
       "      <td>0.817503</td>\n",
       "      <td>0.828315</td>\n",
       "      <td>0.83006</td>\n",
       "    </tr>\n",
       "    <tr>\n",
       "      <th>recall</th>\n",
       "      <td>0.729188</td>\n",
       "      <td>0.885944</td>\n",
       "      <td>0.83006</td>\n",
       "      <td>0.807566</td>\n",
       "      <td>0.830060</td>\n",
       "      <td>0.83006</td>\n",
       "    </tr>\n",
       "    <tr>\n",
       "      <th>f1-score</th>\n",
       "      <td>0.753659</td>\n",
       "      <td>0.870289</td>\n",
       "      <td>0.83006</td>\n",
       "      <td>0.811974</td>\n",
       "      <td>0.828710</td>\n",
       "      <td>0.83006</td>\n",
       "    </tr>\n",
       "    <tr>\n",
       "      <th>support</th>\n",
       "      <td>5790.000000</td>\n",
       "      <td>10451.000000</td>\n",
       "      <td>16241.00000</td>\n",
       "      <td>16241.000000</td>\n",
       "      <td>16241.000000</td>\n",
       "      <td>16241.00000</td>\n",
       "    </tr>\n",
       "  </tbody>\n",
       "</table>\n",
       "</div>"
      ],
      "text/plain": [
       "           non-solenoid      solenoid    micro avg     macro avg  \\\n",
       "precision      0.779830      0.855177      0.83006      0.817503   \n",
       "recall         0.729188      0.885944      0.83006      0.807566   \n",
       "f1-score       0.753659      0.870289      0.83006      0.811974   \n",
       "support     5790.000000  10451.000000  16241.00000  16241.000000   \n",
       "\n",
       "           weighted avg  samples avg  \n",
       "precision      0.828315      0.83006  \n",
       "recall         0.830060      0.83006  \n",
       "f1-score       0.828710      0.83006  \n",
       "support    16241.000000  16241.00000  "
      ]
     },
     "execution_count": 144,
     "metadata": {},
     "output_type": "execute_result"
    }
   ],
   "source": [
    "tapo_df"
   ]
  },
  {
   "cell_type": "markdown",
   "metadata": {},
   "source": [
    "#### MCC for TAPO"
   ]
  },
  {
   "cell_type": "code",
   "execution_count": 145,
   "metadata": {},
   "outputs": [
    {
     "data": {
      "text/plain": [
       "0.6249905662185056"
      ]
     },
     "execution_count": 145,
     "metadata": {},
     "output_type": "execute_result"
    }
   ],
   "source": [
    "matthews_corrcoef(testset_gt,tapo_preds)"
   ]
  },
  {
   "cell_type": "markdown",
   "metadata": {},
   "source": [
    "#### Classification report for RepeatsDB-lite"
   ]
  },
  {
   "cell_type": "code",
   "execution_count": 146,
   "metadata": {},
   "outputs": [],
   "source": [
    "rdb_lite_class_report=classification_report(testset_gt_rs,rdb_lite_pred_rs,target_names=[\"non-solenoid\", \"solenoid\"],output_dict=True)"
   ]
  },
  {
   "cell_type": "code",
   "execution_count": 147,
   "metadata": {},
   "outputs": [],
   "source": [
    "rdb_lite_df=pd.DataFrame.from_dict(rdb_lite_class_report)"
   ]
  },
  {
   "cell_type": "code",
   "execution_count": 148,
   "metadata": {
    "scrolled": true
   },
   "outputs": [
    {
     "data": {
      "text/html": [
       "<div>\n",
       "<style scoped>\n",
       "    .dataframe tbody tr th:only-of-type {\n",
       "        vertical-align: middle;\n",
       "    }\n",
       "\n",
       "    .dataframe tbody tr th {\n",
       "        vertical-align: top;\n",
       "    }\n",
       "\n",
       "    .dataframe thead th {\n",
       "        text-align: right;\n",
       "    }\n",
       "</style>\n",
       "<table border=\"1\" class=\"dataframe\">\n",
       "  <thead>\n",
       "    <tr style=\"text-align: right;\">\n",
       "      <th></th>\n",
       "      <th>non-solenoid</th>\n",
       "      <th>solenoid</th>\n",
       "      <th>micro avg</th>\n",
       "      <th>macro avg</th>\n",
       "      <th>weighted avg</th>\n",
       "      <th>samples avg</th>\n",
       "    </tr>\n",
       "  </thead>\n",
       "  <tbody>\n",
       "    <tr>\n",
       "      <th>precision</th>\n",
       "      <td>0.494402</td>\n",
       "      <td>0.892401</td>\n",
       "      <td>0.636291</td>\n",
       "      <td>0.693402</td>\n",
       "      <td>0.750512</td>\n",
       "      <td>0.636291</td>\n",
       "    </tr>\n",
       "    <tr>\n",
       "      <th>recall</th>\n",
       "      <td>0.892401</td>\n",
       "      <td>0.494402</td>\n",
       "      <td>0.636291</td>\n",
       "      <td>0.693402</td>\n",
       "      <td>0.636291</td>\n",
       "      <td>0.636291</td>\n",
       "    </tr>\n",
       "    <tr>\n",
       "      <th>f1-score</th>\n",
       "      <td>0.636291</td>\n",
       "      <td>0.636291</td>\n",
       "      <td>0.636291</td>\n",
       "      <td>0.636291</td>\n",
       "      <td>0.636291</td>\n",
       "      <td>0.636291</td>\n",
       "    </tr>\n",
       "    <tr>\n",
       "      <th>support</th>\n",
       "      <td>5790.000000</td>\n",
       "      <td>10451.000000</td>\n",
       "      <td>16241.000000</td>\n",
       "      <td>16241.000000</td>\n",
       "      <td>16241.000000</td>\n",
       "      <td>16241.000000</td>\n",
       "    </tr>\n",
       "  </tbody>\n",
       "</table>\n",
       "</div>"
      ],
      "text/plain": [
       "           non-solenoid      solenoid     micro avg     macro avg  \\\n",
       "precision      0.494402      0.892401      0.636291      0.693402   \n",
       "recall         0.892401      0.494402      0.636291      0.693402   \n",
       "f1-score       0.636291      0.636291      0.636291      0.636291   \n",
       "support     5790.000000  10451.000000  16241.000000  16241.000000   \n",
       "\n",
       "           weighted avg   samples avg  \n",
       "precision      0.750512      0.636291  \n",
       "recall         0.636291      0.636291  \n",
       "f1-score       0.636291      0.636291  \n",
       "support    16241.000000  16241.000000  "
      ]
     },
     "execution_count": 148,
     "metadata": {},
     "output_type": "execute_result"
    }
   ],
   "source": [
    "rdb_lite_df"
   ]
  },
  {
   "cell_type": "markdown",
   "metadata": {},
   "source": [
    "#### MCC for RepeatsDB-Lite"
   ]
  },
  {
   "cell_type": "code",
   "execution_count": 149,
   "metadata": {},
   "outputs": [
    {
     "data": {
      "text/plain": [
       "0.3868031403726478"
      ]
     },
     "execution_count": 149,
     "metadata": {},
     "output_type": "execute_result"
    }
   ],
   "source": [
    "matthews_corrcoef(testset_gt,rdb_lite_preds)"
   ]
  },
  {
   "cell_type": "markdown",
   "metadata": {},
   "source": [
    "#### Classification report for PRIGSA2"
   ]
  },
  {
   "cell_type": "code",
   "execution_count": 150,
   "metadata": {},
   "outputs": [],
   "source": [
    "prigsa2_class_report=classification_report(testset_gt_rs,prigsa_pred_rs,target_names=[\"non-solenoid\", \"solenoid\"],output_dict=True)"
   ]
  },
  {
   "cell_type": "code",
   "execution_count": 151,
   "metadata": {},
   "outputs": [],
   "source": [
    "prigsa2_df=pd.DataFrame.from_dict(prigsa2_class_report)"
   ]
  },
  {
   "cell_type": "code",
   "execution_count": 152,
   "metadata": {},
   "outputs": [
    {
     "data": {
      "text/html": [
       "<div>\n",
       "<style scoped>\n",
       "    .dataframe tbody tr th:only-of-type {\n",
       "        vertical-align: middle;\n",
       "    }\n",
       "\n",
       "    .dataframe tbody tr th {\n",
       "        vertical-align: top;\n",
       "    }\n",
       "\n",
       "    .dataframe thead th {\n",
       "        text-align: right;\n",
       "    }\n",
       "</style>\n",
       "<table border=\"1\" class=\"dataframe\">\n",
       "  <thead>\n",
       "    <tr style=\"text-align: right;\">\n",
       "      <th></th>\n",
       "      <th>non-solenoid</th>\n",
       "      <th>solenoid</th>\n",
       "      <th>micro avg</th>\n",
       "      <th>macro avg</th>\n",
       "      <th>weighted avg</th>\n",
       "      <th>samples avg</th>\n",
       "    </tr>\n",
       "  </thead>\n",
       "  <tbody>\n",
       "    <tr>\n",
       "      <th>precision</th>\n",
       "      <td>0.509183</td>\n",
       "      <td>0.954214</td>\n",
       "      <td>0.655809</td>\n",
       "      <td>0.731698</td>\n",
       "      <td>0.795558</td>\n",
       "      <td>0.655809</td>\n",
       "    </tr>\n",
       "    <tr>\n",
       "      <th>recall</th>\n",
       "      <td>0.957686</td>\n",
       "      <td>0.488566</td>\n",
       "      <td>0.655809</td>\n",
       "      <td>0.723126</td>\n",
       "      <td>0.655809</td>\n",
       "      <td>0.655809</td>\n",
       "    </tr>\n",
       "    <tr>\n",
       "      <th>f1-score</th>\n",
       "      <td>0.664868</td>\n",
       "      <td>0.646247</td>\n",
       "      <td>0.655809</td>\n",
       "      <td>0.655558</td>\n",
       "      <td>0.652886</td>\n",
       "      <td>0.655809</td>\n",
       "    </tr>\n",
       "    <tr>\n",
       "      <th>support</th>\n",
       "      <td>5790.000000</td>\n",
       "      <td>10451.000000</td>\n",
       "      <td>16241.000000</td>\n",
       "      <td>16241.000000</td>\n",
       "      <td>16241.000000</td>\n",
       "      <td>16241.000000</td>\n",
       "    </tr>\n",
       "  </tbody>\n",
       "</table>\n",
       "</div>"
      ],
      "text/plain": [
       "           non-solenoid      solenoid     micro avg     macro avg  \\\n",
       "precision      0.509183      0.954214      0.655809      0.731698   \n",
       "recall         0.957686      0.488566      0.655809      0.723126   \n",
       "f1-score       0.664868      0.646247      0.655809      0.655558   \n",
       "support     5790.000000  10451.000000  16241.000000  16241.000000   \n",
       "\n",
       "           weighted avg   samples avg  \n",
       "precision      0.795558      0.655809  \n",
       "recall         0.655809      0.655809  \n",
       "f1-score       0.652886      0.655809  \n",
       "support    16241.000000  16241.000000  "
      ]
     },
     "execution_count": 152,
     "metadata": {},
     "output_type": "execute_result"
    }
   ],
   "source": [
    "prigsa2_df"
   ]
  },
  {
   "cell_type": "markdown",
   "metadata": {},
   "source": [
    "#### MCC for PRIGSA2"
   ]
  },
  {
   "cell_type": "code",
   "execution_count": 153,
   "metadata": {},
   "outputs": [
    {
     "data": {
      "text/plain": [
       "0.45474332787332133"
      ]
     },
     "execution_count": 153,
     "metadata": {},
     "output_type": "execute_result"
    }
   ],
   "source": [
    "matthews_corrcoef(testset_gt,prigsa2_preds)"
   ]
  },
  {
   "cell_type": "markdown",
   "metadata": {},
   "source": [
    "#### Classification report for SOLeNNoID"
   ]
  },
  {
   "cell_type": "code",
   "execution_count": 154,
   "metadata": {},
   "outputs": [],
   "source": [
    "#using model Conv2D_dmca_multiclass_norm_filesplit_s128_b64_e100_split0.2_1645094358_diagonal_checkpoint.h5\n",
    "solennoid_class_report=classification_report(testset_gt_rs, testset_pred_rs, target_names=[\"non-solenoid\", \"solenoid\"],output_dict=True)\n",
    "solennoid_df=pd.DataFrame.from_dict(solennoid_class_report)"
   ]
  },
  {
   "cell_type": "code",
   "execution_count": 155,
   "metadata": {},
   "outputs": [
    {
     "data": {
      "text/html": [
       "<div>\n",
       "<style scoped>\n",
       "    .dataframe tbody tr th:only-of-type {\n",
       "        vertical-align: middle;\n",
       "    }\n",
       "\n",
       "    .dataframe tbody tr th {\n",
       "        vertical-align: top;\n",
       "    }\n",
       "\n",
       "    .dataframe thead th {\n",
       "        text-align: right;\n",
       "    }\n",
       "</style>\n",
       "<table border=\"1\" class=\"dataframe\">\n",
       "  <thead>\n",
       "    <tr style=\"text-align: right;\">\n",
       "      <th></th>\n",
       "      <th>non-solenoid</th>\n",
       "      <th>solenoid</th>\n",
       "      <th>micro avg</th>\n",
       "      <th>macro avg</th>\n",
       "      <th>weighted avg</th>\n",
       "      <th>samples avg</th>\n",
       "    </tr>\n",
       "  </thead>\n",
       "  <tbody>\n",
       "    <tr>\n",
       "      <th>precision</th>\n",
       "      <td>0.786493</td>\n",
       "      <td>0.869598</td>\n",
       "      <td>0.840958</td>\n",
       "      <td>0.828045</td>\n",
       "      <td>0.839970</td>\n",
       "      <td>0.840958</td>\n",
       "    </tr>\n",
       "    <tr>\n",
       "      <th>recall</th>\n",
       "      <td>0.760276</td>\n",
       "      <td>0.885657</td>\n",
       "      <td>0.840958</td>\n",
       "      <td>0.822967</td>\n",
       "      <td>0.840958</td>\n",
       "      <td>0.840958</td>\n",
       "    </tr>\n",
       "    <tr>\n",
       "      <th>f1-score</th>\n",
       "      <td>0.773162</td>\n",
       "      <td>0.877554</td>\n",
       "      <td>0.840958</td>\n",
       "      <td>0.825358</td>\n",
       "      <td>0.840338</td>\n",
       "      <td>0.840958</td>\n",
       "    </tr>\n",
       "    <tr>\n",
       "      <th>support</th>\n",
       "      <td>5790.000000</td>\n",
       "      <td>10451.000000</td>\n",
       "      <td>16241.000000</td>\n",
       "      <td>16241.000000</td>\n",
       "      <td>16241.000000</td>\n",
       "      <td>16241.000000</td>\n",
       "    </tr>\n",
       "  </tbody>\n",
       "</table>\n",
       "</div>"
      ],
      "text/plain": [
       "           non-solenoid      solenoid     micro avg     macro avg  \\\n",
       "precision      0.786493      0.869598      0.840958      0.828045   \n",
       "recall         0.760276      0.885657      0.840958      0.822967   \n",
       "f1-score       0.773162      0.877554      0.840958      0.825358   \n",
       "support     5790.000000  10451.000000  16241.000000  16241.000000   \n",
       "\n",
       "           weighted avg   samples avg  \n",
       "precision      0.839970      0.840958  \n",
       "recall         0.840958      0.840958  \n",
       "f1-score       0.840338      0.840958  \n",
       "support    16241.000000  16241.000000  "
      ]
     },
     "execution_count": 155,
     "metadata": {},
     "output_type": "execute_result"
    }
   ],
   "source": [
    "solennoid_df"
   ]
  },
  {
   "cell_type": "markdown",
   "metadata": {},
   "source": [
    "#### MCC for SOLeNNoID"
   ]
  },
  {
   "cell_type": "code",
   "execution_count": 156,
   "metadata": {},
   "outputs": [
    {
     "data": {
      "text/plain": [
       "0.6509921259233364"
      ]
     },
     "execution_count": 156,
     "metadata": {},
     "output_type": "execute_result"
    }
   ],
   "source": [
    "matthews_corrcoef(testset_gt,testset_predictions_argmaxed)"
   ]
  },
  {
   "cell_type": "markdown",
   "metadata": {},
   "source": [
    "### Full test set (including non-solenoid entries)"
   ]
  },
  {
   "cell_type": "code",
   "execution_count": 57,
   "metadata": {},
   "outputs": [],
   "source": [
    "testset_gt=testset_gt+[0]*(len(testset_predictions_argmaxed)-len(testset_gt))"
   ]
  },
  {
   "cell_type": "code",
   "execution_count": 27,
   "metadata": {},
   "outputs": [],
   "source": [
    "testset_gt_rs=to_categorical(testset_gt, num_classes=4)\n"
   ]
  },
  {
   "cell_type": "code",
   "execution_count": 28,
   "metadata": {},
   "outputs": [],
   "source": [
    "testset_pred_rs=to_categorical(testset_predictions_argmaxed, num_classes=4)\n"
   ]
  },
  {
   "cell_type": "markdown",
   "metadata": {},
   "source": [
    "#### Classification report for SOLeNNoID"
   ]
  },
  {
   "cell_type": "code",
   "execution_count": 29,
   "metadata": {},
   "outputs": [],
   "source": [
    "conv1d_class_report=classification_report(testset_gt_rs, testset_pred_rs, target_names=[\"non-solenoid\", \"beta-solenoid\", \"alphabeta-solenoid\", \"alpha-solenoid\"],output_dict=True)\n",
    "df=pd.DataFrame.from_dict(conv1d_class_report)"
   ]
  },
  {
   "cell_type": "code",
   "execution_count": 30,
   "metadata": {},
   "outputs": [
    {
     "data": {
      "text/html": [
       "<div>\n",
       "<style scoped>\n",
       "    .dataframe tbody tr th:only-of-type {\n",
       "        vertical-align: middle;\n",
       "    }\n",
       "\n",
       "    .dataframe tbody tr th {\n",
       "        vertical-align: top;\n",
       "    }\n",
       "\n",
       "    .dataframe thead th {\n",
       "        text-align: right;\n",
       "    }\n",
       "</style>\n",
       "<table border=\"1\" class=\"dataframe\">\n",
       "  <thead>\n",
       "    <tr style=\"text-align: right;\">\n",
       "      <th></th>\n",
       "      <th>non-solenoid</th>\n",
       "      <th>beta-solenoid</th>\n",
       "      <th>alphabeta-solenoid</th>\n",
       "      <th>alpha-solenoid</th>\n",
       "      <th>micro avg</th>\n",
       "      <th>macro avg</th>\n",
       "      <th>weighted avg</th>\n",
       "      <th>samples avg</th>\n",
       "    </tr>\n",
       "  </thead>\n",
       "  <tbody>\n",
       "    <tr>\n",
       "      <th>precision</th>\n",
       "      <td>0.935146</td>\n",
       "      <td>0.860292</td>\n",
       "      <td>0.948482</td>\n",
       "      <td>0.769694</td>\n",
       "      <td>0.8964</td>\n",
       "      <td>0.878403</td>\n",
       "      <td>0.901082</td>\n",
       "      <td>0.8964</td>\n",
       "    </tr>\n",
       "    <tr>\n",
       "      <th>recall</th>\n",
       "      <td>0.912514</td>\n",
       "      <td>0.812864</td>\n",
       "      <td>0.849259</td>\n",
       "      <td>0.913829</td>\n",
       "      <td>0.8964</td>\n",
       "      <td>0.872116</td>\n",
       "      <td>0.896400</td>\n",
       "      <td>0.8964</td>\n",
       "    </tr>\n",
       "    <tr>\n",
       "      <th>f1-score</th>\n",
       "      <td>0.923691</td>\n",
       "      <td>0.835906</td>\n",
       "      <td>0.896132</td>\n",
       "      <td>0.835591</td>\n",
       "      <td>0.8964</td>\n",
       "      <td>0.872830</td>\n",
       "      <td>0.897349</td>\n",
       "      <td>0.8964</td>\n",
       "    </tr>\n",
       "    <tr>\n",
       "      <th>support</th>\n",
       "      <td>18883.000000</td>\n",
       "      <td>3265.000000</td>\n",
       "      <td>2428.000000</td>\n",
       "      <td>4758.000000</td>\n",
       "      <td>29334.0000</td>\n",
       "      <td>29334.000000</td>\n",
       "      <td>29334.000000</td>\n",
       "      <td>29334.0000</td>\n",
       "    </tr>\n",
       "  </tbody>\n",
       "</table>\n",
       "</div>"
      ],
      "text/plain": [
       "           non-solenoid  beta-solenoid  alphabeta-solenoid  alpha-solenoid  \\\n",
       "precision      0.935146       0.860292            0.948482        0.769694   \n",
       "recall         0.912514       0.812864            0.849259        0.913829   \n",
       "f1-score       0.923691       0.835906            0.896132        0.835591   \n",
       "support    18883.000000    3265.000000         2428.000000     4758.000000   \n",
       "\n",
       "            micro avg     macro avg  weighted avg  samples avg  \n",
       "precision      0.8964      0.878403      0.901082       0.8964  \n",
       "recall         0.8964      0.872116      0.896400       0.8964  \n",
       "f1-score       0.8964      0.872830      0.897349       0.8964  \n",
       "support    29334.0000  29334.000000  29334.000000   29334.0000  "
      ]
     },
     "execution_count": 30,
     "metadata": {},
     "output_type": "execute_result"
    }
   ],
   "source": [
    "df"
   ]
  },
  {
   "cell_type": "markdown",
   "metadata": {},
   "source": [
    "#### MCC for SOLeNNoID"
   ]
  },
  {
   "cell_type": "code",
   "execution_count": 31,
   "metadata": {},
   "outputs": [
    {
     "data": {
      "text/plain": [
       "0.8114505893543783"
      ]
     },
     "execution_count": 31,
     "metadata": {},
     "output_type": "execute_result"
    }
   ],
   "source": [
    "matthews_corrcoef(testset_gt,testset_predictions_argmaxed)"
   ]
  },
  {
   "cell_type": "markdown",
   "metadata": {},
   "source": [
    "### Graph/Image Section"
   ]
  },
  {
   "cell_type": "code",
   "execution_count": 17,
   "metadata": {},
   "outputs": [],
   "source": [
    "import matplotlib.pyplot as plt\n",
    "from sklearn.metrics import confusion_matrix"
   ]
  },
  {
   "cell_type": "markdown",
   "metadata": {},
   "source": [
    "#### Confusion matrices"
   ]
  },
  {
   "cell_type": "code",
   "execution_count": 18,
   "metadata": {},
   "outputs": [],
   "source": [
    "import seaborn as sns"
   ]
  },
  {
   "cell_type": "markdown",
   "metadata": {},
   "source": [
    "#### SOLeNNoID Confusion Matrix"
   ]
  },
  {
   "cell_type": "code",
   "execution_count": 50,
   "metadata": {},
   "outputs": [
    {
     "data": {
      "image/png": "[encoded data removed]",
      "text/plain": [
       "<Figure size 640x480 with 2 Axes>"
      ]
     },
     "metadata": {},
     "output_type": "display_data"
    }
   ],
   "source": [
    "cm=confusion_matrix(testset_gt, testset_predictions_argmaxed)\n",
    "sns.heatmap(cm[::-1],cmap='Reds',square=True,annot=True,fmt='.0f')\n",
    "plt.xticks([0.5,1.5,2.5,3.5],['non','beta','alpha/beta','alpha'])\n",
    "plt.yticks([3.5,2.5,1.5,0.5],['non','beta','alpha/beta','alpha'],rotation='horizontal')\n",
    "plt.title(\"SOLeNNoID Confusion Matrix\")\n",
    "plt.xlabel('Predicted Label')\n",
    "plt.ylabel('True Label')\n",
    "#plt.savefig(\"solennoid_cm_solenoid_mar2024_full_dataset.png\", dpi=600, pad_inches=0.2, bbox_inches='tight')\n",
    "plt.show()"
   ]
  },
  {
   "cell_type": "markdown",
   "metadata": {},
   "source": [
    "#### TAPO Confusion Matrix"
   ]
  },
  {
   "cell_type": "code",
   "execution_count": 52,
   "metadata": {},
   "outputs": [
    {
     "data": {
      "image/png": "[encoded data removed]",
      "text/plain": [
       "<Figure size 640x480 with 2 Axes>"
      ]
     },
     "metadata": {},
     "output_type": "display_data"
    }
   ],
   "source": [
    "cm=confusion_matrix(testset_gt, tapo_preds)\n",
    "sns.heatmap(cm[::-1],cmap='Reds',square=True,annot=True,fmt='.0f')\n",
    "plt.xticks([0.5,1.5,2.5,3.5],['non','beta','alpha/beta','alpha'])\n",
    "plt.yticks([3.5,2.5,1.5,0.5],['non','beta','alpha/beta','alpha'],rotation='horizontal')\n",
    "plt.title(\"TAPO Confusion Matrix\")\n",
    "plt.xlabel('Predicted Label')\n",
    "plt.ylabel('True Label')\n",
    "#plt.savefig(\"solennoid_cm_solenoid_mar2024_full_dataset.png\", dpi=600, pad_inches=0.2, bbox_inches='tight')\n",
    "plt.show()"
   ]
  },
  {
   "cell_type": "markdown",
   "metadata": {},
   "source": [
    "#### RepeatsDB-Lite Confusion Matrix"
   ]
  },
  {
   "cell_type": "code",
   "execution_count": 53,
   "metadata": {},
   "outputs": [
    {
     "data": {
      "image/png": "[encoded data removed]",
      "text/plain": [
       "<Figure size 640x480 with 2 Axes>"
      ]
     },
     "metadata": {},
     "output_type": "display_data"
    }
   ],
   "source": [
    "cm=confusion_matrix(testset_gt, rdb_lite_preds)\n",
    "sns.heatmap(cm[::-1],cmap='Reds',square=True,annot=True,fmt='.0f')\n",
    "plt.xticks([0.5,1.5,2.5,3.5],['non','beta','alpha/beta','alpha'])\n",
    "plt.yticks([3.5,2.5,1.5,0.5],['non','beta','alpha/beta','alpha'],rotation='horizontal')\n",
    "plt.title(\"RepeatsDB-Lite Confusion Matrix\")\n",
    "plt.xlabel('Predicted Label')\n",
    "plt.ylabel('True Label')\n",
    "#plt.savefig(\"solennoid_cm_solenoid_mar2024_full_dataset.png\", dpi=600, pad_inches=0.2, bbox_inches='tight')\n",
    "plt.show()"
   ]
  },
  {
   "cell_type": "markdown",
   "metadata": {},
   "source": [
    "#### PRIGSA2 Confusion Matrix"
   ]
  },
  {
   "cell_type": "code",
   "execution_count": 19,
   "metadata": {},
   "outputs": [
    {
     "data": {
      "image/png": "[encoded data removed]",
      "text/plain": [
       "<Figure size 640x480 with 2 Axes>"
      ]
     },
     "metadata": {},
     "output_type": "display_data"
    }
   ],
   "source": [
    "cm=confusion_matrix(testset_gt, prigsa2_preds)\n",
    "sns.heatmap(cm[::-1],cmap='Reds',square=True,annot=True,fmt='.0f')\n",
    "plt.xticks([0.5,1.5,2.5,3.5],['non','beta','alpha/beta','alpha'])\n",
    "plt.yticks([3.5,2.5,1.5,0.5],['non','beta','alpha/beta','alpha'],rotation='horizontal')\n",
    "plt.title(\"PRIGSA2 Confusion Matrix\")\n",
    "plt.xlabel('Predicted Label')\n",
    "plt.ylabel('True Label')\n",
    "#plt.savefig(\"solennoid_cm_solenoid_mar2024_full_dataset.png\", dpi=600, pad_inches=0.2, bbox_inches='tight')\n",
    "plt.show()"
   ]
  },
  {
   "cell_type": "markdown",
   "metadata": {},
   "source": [
    "#### SOLeNNoID Confusion Matrix (Full Testset)"
   ]
  },
  {
   "cell_type": "code",
   "execution_count": 58,
   "metadata": {},
   "outputs": [
    {
     "data": {
      "image/png": "[encoded data removed]",
      "text/plain": [
       "<Figure size 640x480 with 2 Axes>"
      ]
     },
     "metadata": {},
     "output_type": "display_data"
    }
   ],
   "source": [
    "cm=confusion_matrix(testset_gt, testset_predictions_argmaxed)\n",
    "sns.heatmap(cm[::-1],cmap='Reds',square=True,annot=True,fmt='.0f')\n",
    "plt.xticks([0.5,1.5,2.5,3.5],['non','beta','alpha/beta','alpha'])\n",
    "plt.yticks([3.5,2.5,1.5,0.5],['non','beta','alpha/beta','alpha'],rotation='horizontal')\n",
    "plt.title(\"SOLeNNoID Confusion Matrix (Full Testset)\")\n",
    "plt.xlabel('Predicted Label')\n",
    "plt.ylabel('True Label')\n",
    "#plt.savefig(\"solennoid_cm_solenoid_mar2024_full_dataset.png\", dpi=600, pad_inches=0.2, bbox_inches='tight')\n",
    "plt.show()"
   ]
  },
  {
   "cell_type": "code",
   "execution_count": null,
   "metadata": {},
   "outputs": [],
   "source": []
  }
 ],
 "metadata": {
  "kernelspec": {
   "display_name": "Python 3 (ipykernel)",
   "language": "python",
   "name": "python3"
  },
  "language_info": {
   "codemirror_mode": {
    "name": "ipython",
    "version": 3
   },
   "file_extension": ".py",
   "mimetype": "text/x-python",
   "name": "python",
   "nbconvert_exporter": "python",
   "pygments_lexer": "ipython3",
   "version": "3.8.12"
  }
 },
 "nbformat": 4,
 "nbformat_minor": 4
}
